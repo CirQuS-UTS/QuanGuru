{
 "cells": [
  {
   "cell_type": "code",
   "execution_count": 1,
   "metadata": {},
   "outputs": [],
   "source": [
    "from quanguru import QuantumSystem, qSystem, compQSystem, Spin, Qubit, Cavity\n",
    "from quanguru import QuantumToolbox as qt"
   ]
  },
  {
   "cell_type": "markdown",
   "metadata": {},
   "source": [
    "# Let's create some quantum systems.\n",
    "\n",
    "You can use ``Qubits`` class to create a qubit, and it won't require a ``dimension`` information and also use $\\sigma_{z}$ as the default ``operator``.\n",
    "Alternatively, you can use ``QuantumSystem`` class, but, in this case, you need to give at least one of the relevant information (``operator``, ``dimension``, or ``frequency``) while creating it."
   ]
  },
  {
   "cell_type": "code",
   "execution_count": 2,
   "metadata": {},
   "outputs": [
    {
     "name": "stdout",
     "output_type": "stream",
     "text": [
      "<class 'quanguru.classes.QSys.qSystem'>\n"
     ]
    }
   ],
   "source": [
    "Qubit1 = QuantumSystem(operator=qt.sigmaz)\n",
    "Qubit2 = Qubit(frequency=0.5)\n",
    "Cavity1 = Cavity(dimension=3)\n",
    "Spin1 = Spin(jValue=1) # you can either give a dimension or, equivalently, the spin quantum number. The spin object can handle either."
   ]
  },
  {
   "cell_type": "markdown",
   "metadata": {},
   "source": [
    "You can set any attribute while creating the objects as above, or you can set or change them later as below."
   ]
  },
  {
   "cell_type": "code",
   "execution_count": 5,
   "metadata": {},
   "outputs": [],
   "source": [
    "Qubit1.frequency = 1\n",
    "Qubit1.dimension = 2\n",
    "Qubit2.frequency = 2"
   ]
  },
  {
   "cell_type": "markdown",
   "metadata": {},
   "source": [
    "now let's print the Hamiltonian of these qubits.\n",
    "\n",
    "Notice that their Hamiltonians are equal, even though the Qubit1 has ``frequency=1`` and Qubit2 has ``frequency=2``.\n",
    "The reason is that the ``Qubit`` class also assumes the usual 1/2 in Qubit Hamiltonian:\n",
    "\n",
    "$H = \\frac{\\omega}{2}\\sigma_{z}$.\n",
    "\n",
    "while the generic ``QuantumSystem`` with ``operator`` $\\hat{O}$ and ``frequency`` $\\omega$ has the Hamiltonian:\n",
    "\n",
    "$H = \\omega\\hat{O}$."
   ]
  },
  {
   "cell_type": "code",
   "execution_count": 8,
   "metadata": {},
   "outputs": [
    {
     "data": {
      "text/plain": [
       "(array([[ 1,  0],\n",
       "        [ 0, -1]]),\n",
       " array([[ 1.,  0.],\n",
       "        [ 0., -1.]]))"
      ]
     },
     "execution_count": 8,
     "metadata": {},
     "output_type": "execute_result"
    }
   ],
   "source": [
    "Qubit1.totalHam.A, Qubit2.totalHam.A"
   ]
  },
  {
   "cell_type": "code",
   "execution_count": null,
   "metadata": {},
   "outputs": [],
   "source": []
  }
 ],
 "metadata": {
  "interpreter": {
   "hash": "814e14a992fb686cd256f9c235b414dba315a9a632c77b1dfe177340b7c2710b"
  },
  "kernelspec": {
   "display_name": "Python 3.9.5 64-bit ('macDevEnv': venv)",
   "name": "python3"
  },
  "language_info": {
   "codemirror_mode": {
    "name": "ipython",
    "version": 3
   },
   "file_extension": ".py",
   "mimetype": "text/x-python",
   "name": "python",
   "nbconvert_exporter": "python",
   "pygments_lexer": "ipython3",
   "version": "3.9.5"
  }
 },
 "nbformat": 4,
 "nbformat_minor": 2
}
