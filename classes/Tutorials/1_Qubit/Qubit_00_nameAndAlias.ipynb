{
 "cells": [
  {
   "cell_type": "code",
   "execution_count": 1,
   "metadata": {},
   "outputs": [],
   "source": [
    "import quanguru as qg"
   ]
  },
  {
   "cell_type": "markdown",
   "metadata": {},
   "source": [
    "# 0 - name and alias of QuanGuru objects\n",
    "\n",
    "Instances of `QuanGuru` classes are created with *unique* default names. The `name` of an object is assigned by the library and it cannot be changed later. In later tutorials, we will demonstrate various cases where the (*unique*) `name` of an object enables (or used in the implementation of) various useful functionalities.\n",
    "In this tutorial, we explain the convention for these names.\n",
    "\n",
    "In certain cases, we might find it useful/easier if could change the `name` of an object to anything we want but still have the same useful functionalities.\n",
    "`QuanGuru` objects come with an `alias` attribute introduced for this purpose. `alias` attribute stores (in a list) any number of user defined aliases to an object, which extends all the functionalities available to `name` to aliases.\n",
    "Therefore, like the `name`, aliases need to be unique to an object, meaning the same `alias` cannot be assigned to different objects.\n",
    "\n",
    "## name attribute\n",
    "\n",
    "The `name` of an object is created by using the name of its class and the number of instances.\n",
    "Let's use the `QuantumSystem` and `Qubit` classes to demonstrate this."
   ]
  },
  {
   "cell_type": "code",
   "execution_count": 2,
   "metadata": {},
   "outputs": [
    {
     "name": "stdout",
     "output_type": "stream",
     "text": [
      "QuantumSystem1\n",
      "Qubit1\n"
     ]
    }
   ],
   "source": [
    "# create the very first instance of QuantumSystem\n",
    "qs1 = qg.QuantumSystem()\n",
    "\n",
    "# let's print its name, which should be QuantumSystem + 1 = QuantumSystem1\n",
    "print(qs1.name)\n",
    "\n",
    "# create the first Qubit instance\n",
    "qub1 = qg.Qubit()\n",
    "# let's print its name, which should be Qubit + 1 = Qubit1\n",
    "print(qub1.name)"
   ]
  },
  {
   "cell_type": "code",
   "execution_count": 3,
   "metadata": {},
   "outputs": [
    {
     "name": "stdout",
     "output_type": "stream",
     "text": [
      "QuantumSystem2\n",
      "Qubit2\n"
     ]
    }
   ],
   "source": [
    "# create the second instance of QuantumSystem\n",
    "qs2 = qg.QuantumSystem()\n",
    "\n",
    "# let's print its name, which should be QuantumSystem + 2 = QuantumSystem2\n",
    "print(qs2.name)\n",
    "\n",
    "# create the second Qubit instance\n",
    "qub2 = qg.Qubit()\n",
    "# let's print its name, which should be Qubit + 2 = Qubit1\n",
    "print(qub2.name)"
   ]
  },
  {
   "cell_type": "markdown",
   "metadata": {},
   "source": [
    "## aliases for the objects\n",
    "\n",
    "Notice that if you run the above cell more than once, you create a new `QuantumSystem` (and `Qubit`) instance each time you run it, increasing the number of instance count. Therefore, in these sorts of situations, if we did not have `alias` alternative, we would be required to keep good track of how many instances we created.\n",
    "Additionally, unlike the `name` of an object that is created *uniquely* **internally** for each instance, `alias` are defined by the user. This means that if we are assigning an `alias` to an object in a cell (as below), we would get an error when we try to run it more than once, because we would be trying to assign the `alias` of an previous instance to a new instance."
   ]
  },
  {
   "cell_type": "code",
   "execution_count": 4,
   "metadata": {},
   "outputs": [
    {
     "name": "stdout",
     "output_type": "stream",
     "text": [
      "QuantumSystem3\n",
      "['test alias']\n"
     ]
    }
   ],
   "source": [
    "# create the third instance of QuantumSystem and also assign an alias\n",
    "qs3 = qg.QuantumSystem(alias='test alias')\n",
    "\n",
    "# let's print its name, which should be QuantumSystem + 3 = QuantumSystem3\n",
    "print(qs3.name)\n",
    "\n",
    "# let's print its alias, which will be list containing the alias we asssigned\n",
    "print(qs3.alias)"
   ]
  },
  {
   "cell_type": "code",
   "execution_count": 5,
   "metadata": {},
   "outputs": [
    {
     "name": "stdout",
     "output_type": "stream",
     "text": [
      "Given alias (test alias) already exist and is assigned to: QuantumSystem3\n"
     ]
    }
   ],
   "source": [
    "# create the very first instance of QuantumSystem\n",
    "try:\n",
    "    qsErrorForAlias = qg.QuantumSystem(alias='test alias')\n",
    "except ValueError as ve:\n",
    "    print(ve)"
   ]
  },
  {
   "cell_type": "code",
   "execution_count": 6,
   "metadata": {
    "tags": [
     "nbsphinx-thumbnail"
    ]
   },
   "outputs": [
    {
     "data": {
      "text/plain": [
       "[<matplotlib.lines.Line2D at 0x11577a290>]"
      ]
     },
     "execution_count": 6,
     "metadata": {},
     "output_type": "execute_result"
    },
    {
     "data": {
      "image/png": "[encoded data removed]",
      "text/plain": [
       "<Figure size 432x288 with 1 Axes>"
      ]
     },
     "metadata": {
      "needs_background": "light"
     },
     "output_type": "display_data"
    }
   ],
   "source": [
    "import matplotlib.pyplot as plt\n",
    "plt.plot([i/100 for i in range(100)], [(i/100) for i in range(100)])"
   ]
  }
 ],
 "metadata": {
  "celltoolbar": "Tags",
  "interpreter": {
   "hash": "81ed76176e4f746ec85a2761650c2bf524db70acda0c76fd4138af02ba17b5a6"
  },
  "kernelspec": {
   "display_name": "Python 3 (ipykernel)",
   "language": "python",
   "name": "python3"
  },
  "language_info": {
   "codemirror_mode": {
    "name": "ipython",
    "version": 3
   },
   "file_extension": ".py",
   "mimetype": "text/x-python",
   "name": "python",
   "nbconvert_exporter": "python",
   "pygments_lexer": "ipython3",
   "version": "3.10.1"
  }
 },
 "nbformat": 4,
 "nbformat_minor": 2
}
