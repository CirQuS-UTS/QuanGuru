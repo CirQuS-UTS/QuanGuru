{
 "cells": [
  {
   "cell_type": "code",
   "execution_count": 1,
   "metadata": {},
   "outputs": [],
   "source": [
    "import quanguru as qg\n",
    "\n",
    "# QuanGuru uses sparse matrices by default, \n",
    "# but sparse matrices are not easily readable when we print them\n",
    "# so, in below examples, we use .A to print them as arrays"
   ]
  },
  {
   "cell_type": "markdown",
   "metadata": {},
   "source": [
    "# 3 - Coupling quantum systems\n",
    "\n",
    "In this tutorial, we show how to create a coupling between the sub-system of a composite quantum system.\n",
    "\n",
    "## Two qubits exchange interaction\n",
    "\n",
    "A simple example is the exchange interaction between two qubits\n",
    "\n",
    "$H = \\frac{1}{2}f_{z,1}\\sigma_{z,1} + \\frac{1}{2}f_{z,2}\\sigma_{z,2} + f_{pm}\\sigma_{+,1}\\sigma_{-,2} + f_{mp}\\sigma_{-,1}\\sigma_{+,2}$\n",
    "\n",
    "where the first two terms ($\\frac{1}{2}f_{z,1}\\sigma_{z,1} + \\frac{1}{2}f_{z,2}\\sigma_{z,2}$) are the *free evolution* terms of each qubit, and the other two terms ($f_{pm}\\sigma_{+,1}\\sigma_{-,2} + f_{mp}\\sigma_{-,1}\\sigma_{+,2}$) are the exchange coupling between them.\n",
    "\n",
    "The `Qubit` objects already implement their *free evolution* terms, and we will create each coupling term below."
   ]
  },
  {
   "cell_type": "code",
   "execution_count": 2,
   "metadata": {},
   "outputs": [],
   "source": [
    "qub1 = qg.Qubit(frequency=1)\n",
    "qub2 = qg.Qubit(frequency=1)\n",
    "\n",
    "twoQub = qub1 + qub2"
   ]
  },
  {
   "cell_type": "markdown",
   "metadata": {},
   "source": [
    "In order to create a coupling, we call the `createSysCoupling` method on our composite quantum system `twoQub`. `createSysCoupling` method cover various different usages, but here we will demonstrate its basic usage, where we pass 3 essential information regarding the coupling:\n",
    "\n",
    "- A list of systems to be coupled with (in our case `[qub1, qub2]`)\n",
    "- A list of coupling operators (in our case `[qg.sigmap, qg.sigmam]` and `[qg.sigmam, qg.sigmap]`)\n",
    "- coupling frequency\n",
    "\n",
    "`createSysCoupling` method returns a coupling object that can later be used to modify coupling parameters, such as `frequency`.\n",
    "\n",
    "Note that the order of systems in the given list does not need to match the Hilbert space structure, but you need to make sure that the list of coupling operators are consistent with the systems.\n",
    "For example, below two couplings create $f_{pm}\\sigma_{+,1}\\sigma_{-,2}$ and $f_{mp}\\sigma_{-,1}\\sigma_{+,2}$, respectively, and we can understand this from the order of operators."
   ]
  },
  {
   "cell_type": "code",
   "execution_count": 3,
   "metadata": {},
   "outputs": [],
   "source": [
    "couplingPM12 = twoQub.createTerm(operators=[qg.sigmap, qg.sigmam],\n",
    "                                 frequency=1,\n",
    "                                 qSystem=[qub1, qub2])\n",
    "couplingMP12 = twoQub.createTerm(operators=[qg.sigmam, qg.sigmap],\n",
    "                                 frequency=1,\n",
    "                                 qSystem=[qub1, qub2])"
   ]
  },
  {
   "cell_type": "markdown",
   "metadata": {},
   "source": [
    "Let's print the total Hamiltonian (i.e. incl. coupling) of the coupled `twoQub` system and verify."
   ]
  },
  {
   "cell_type": "code",
   "execution_count": 4,
   "metadata": {},
   "outputs": [
    {
     "data": {
      "text/plain": [
       "array([[ 1.,  0.,  0.,  0.],\n",
       "       [ 0.,  0.,  1.,  0.],\n",
       "       [ 0.,  1.,  0.,  0.],\n",
       "       [ 0.,  0.,  0., -1.]])"
      ]
     },
     "execution_count": 4,
     "metadata": {},
     "output_type": "execute_result"
    }
   ],
   "source": [
    "twoQub.totalHamiltonian.A"
   ]
  },
  {
   "cell_type": "markdown",
   "metadata": {},
   "source": [
    "## Three qubits nearest-neighbor exchange interaction\n",
    "\n",
    "We can extend the above Hamiltonian to 3 qubits as\n",
    "\n",
    "$H = \\frac{1}{2}f_{z,1}\\sigma_{z,1} + \\frac{1}{2}f_{z,2}\\sigma_{z,2} + \\frac{1}{2}f_{z,3}\\sigma_{z,3} + f_{pm,1,2}\\sigma_{+,1}\\sigma_{-,2} + f_{mp,1,2}\\sigma_{-,1}\\sigma_{+,2} + f_{pm,2,3}\\sigma_{+,2}\\sigma_{-,3} + f_{mp,2,3}\\sigma_{-,2}\\sigma_{+,3}$\n",
    "\n",
    "which in a more compact form and for n sub-systems written as\n",
    "\n",
    "$H = \\frac{1}{2}\\sum_{i=1}^{N}f_{z,i}\\sigma_{z,i} + \\sum_{i=1}^{N-1}f_{pm,i,i+1}\\sigma_{+,i}\\sigma_{-,i+1} + \\sum_{i=1}^{N-1}f_{mp,i,i+1}\\sigma_{-,i}\\sigma_{+,i+1}$\n",
    "\n",
    "In order to extend our system, we first need to add a new qubits to `twoQub` system then create a coupling between this new qubit and `qub2`.\n"
   ]
  },
  {
   "cell_type": "code",
   "execution_count": 5,
   "metadata": {},
   "outputs": [],
   "source": [
    "qub3 = qg.Qubit(frequency=1)\n",
    "\n",
    "threeQub = twoQub + qub3\n",
    "\n",
    "couplingPM23 = threeQub.createTerm(operators=[qg.sigmap, qg.sigmam],\n",
    "                                   frequency=1,\n",
    "                                   qSystem=[qub2, qub3])\n",
    "couplingMP23 = threeQub.createTerm(operators=[qg.sigmam, qg.sigmap],\n",
    "                                   frequency=1,\n",
    "                                   qSystem=[qub2, qub3])"
   ]
  },
  {
   "cell_type": "markdown",
   "metadata": {},
   "source": [
    "Let's print the total Hamiltonian (i.e. incl. coupling) of the coupled `twoQub` system and verify."
   ]
  },
  {
   "cell_type": "code",
   "execution_count": 6,
   "metadata": {},
   "outputs": [
    {
     "data": {
      "text/plain": [
       "array([[ 1.5,  0. ,  0. ,  0. ,  0. ,  0. ,  0. ,  0. ],\n",
       "       [ 0. ,  0.5,  1. ,  0. ,  0. ,  0. ,  0. ,  0. ],\n",
       "       [ 0. ,  1. ,  0.5,  0. ,  1. ,  0. ,  0. ,  0. ],\n",
       "       [ 0. ,  0. ,  0. , -0.5,  0. ,  1. ,  0. ,  0. ],\n",
       "       [ 0. ,  0. ,  1. ,  0. ,  0.5,  0. ,  0. ,  0. ],\n",
       "       [ 0. ,  0. ,  0. ,  1. ,  0. , -0.5,  1. ,  0. ],\n",
       "       [ 0. ,  0. ,  0. ,  0. ,  0. ,  1. , -0.5,  0. ],\n",
       "       [ 0. ,  0. ,  0. ,  0. ,  0. ,  0. ,  0. , -1.5]])"
      ]
     },
     "execution_count": 6,
     "metadata": {},
     "output_type": "execute_result"
    }
   ],
   "source": [
    "threeQub.totalHamiltonian.A"
   ]
  },
  {
   "cell_type": "markdown",
   "metadata": {},
   "source": [
    "## Many-body coupling\n",
    "\n",
    "In above cases, the coupling terms are contain operators only for two of the systems. In more general cases, we might need terms with more systems.\n",
    "As an example consider the below arbitrary/artificial coupling term\n",
    "\n",
    "$f_{fb}\\sigma_{x,1}\\sigma_{y,2}\\sigma_{z,3}$\n",
    "\n",
    "`QuanGuru` supports such many body terms, and we can create the above term as"
   ]
  },
  {
   "cell_type": "code",
   "execution_count": 7,
   "metadata": {},
   "outputs": [
    {
     "name": "stdout",
     "output_type": "stream",
     "text": [
      "[[0.+0.j 0.+0.j 0.+0.j 0.+0.j 0.+0.j 0.+0.j 0.-1.j 0.+0.j]\n",
      " [0.+0.j 0.+0.j 0.+0.j 0.+0.j 0.+0.j 0.+0.j 0.+0.j 0.+1.j]\n",
      " [0.+0.j 0.+0.j 0.+0.j 0.+0.j 0.+1.j 0.+0.j 0.+0.j 0.+0.j]\n",
      " [0.+0.j 0.+0.j 0.+0.j 0.+0.j 0.+0.j 0.-1.j 0.+0.j 0.+0.j]\n",
      " [0.+0.j 0.+0.j 0.-1.j 0.+0.j 0.+0.j 0.+0.j 0.+0.j 0.+0.j]\n",
      " [0.+0.j 0.+0.j 0.+0.j 0.+1.j 0.+0.j 0.+0.j 0.+0.j 0.+0.j]\n",
      " [0.+1.j 0.+0.j 0.+0.j 0.+0.j 0.+0.j 0.+0.j 0.+0.j 0.+0.j]\n",
      " [0.+0.j 0.-1.j 0.+0.j 0.+0.j 0.+0.j 0.+0.j 0.+0.j 0.+0.j]]\n"
     ]
    }
   ],
   "source": [
    "couplingXYZ = threeQub.createTerm(operators=[qg.sigmax, qg.sigmay, qg.sigmaz],\n",
    "                                  frequency=1,\n",
    "                                  qSystem=[qub1, qub2, qub3])\n",
    "\n",
    "# we can also print the Hamiltonian term corresponding to a coupling as\n",
    "print(couplingXYZ.totalHamiltonian.A)"
   ]
  },
  {
   "cell_type": "code",
   "execution_count": 9,
   "metadata": {},
   "outputs": [
    {
     "name": "stdout",
     "output_type": "stream",
     "text": [
      "[[0.+0.j 0.+0.j 0.+0.j 0.+0.j 0.+0.j 0.+0.j 0.-1.j 0.+0.j]\n",
      " [0.+0.j 0.+0.j 0.+0.j 0.+0.j 0.+0.j 0.+0.j 0.+0.j 0.+1.j]\n",
      " [0.+0.j 0.+0.j 0.+0.j 0.+0.j 0.+1.j 0.+0.j 0.+0.j 0.+0.j]\n",
      " [0.+0.j 0.+0.j 0.+0.j 0.+0.j 0.+0.j 0.-1.j 0.+0.j 0.+0.j]\n",
      " [0.+0.j 0.+0.j 0.-1.j 0.+0.j 0.+0.j 0.+0.j 0.+0.j 0.+0.j]\n",
      " [0.+0.j 0.+0.j 0.+0.j 0.+1.j 0.+0.j 0.+0.j 0.+0.j 0.+0.j]\n",
      " [0.+1.j 0.+0.j 0.+0.j 0.+0.j 0.+0.j 0.+0.j 0.+0.j 0.+0.j]\n",
      " [0.+0.j 0.-1.j 0.+0.j 0.+0.j 0.+0.j 0.+0.j 0.+0.j 0.+0.j]]\n"
     ]
    }
   ],
   "source": [
    "print(qg.tensorProd(qg.sigmax(), qg.sigmay(), qg.sigmaz()).A)"
   ]
  },
  {
   "cell_type": "code",
   "execution_count": 8,
   "metadata": {},
   "outputs": [
    {
     "data": {
      "text/plain": [
       "array([[ 1.5+0.j,  0. +0.j,  0. +0.j,  0. +0.j,  0. +0.j,  0. +0.j,\n",
       "         0. -1.j,  0. +0.j],\n",
       "       [ 0. +0.j,  0.5+0.j,  1. +0.j,  0. +0.j,  0. +0.j,  0. +0.j,\n",
       "         0. +0.j,  0. +1.j],\n",
       "       [ 0. +0.j,  1. +0.j,  0.5+0.j,  0. +0.j,  1. +1.j,  0. +0.j,\n",
       "         0. +0.j,  0. +0.j],\n",
       "       [ 0. +0.j,  0. +0.j,  0. +0.j, -0.5+0.j,  0. +0.j,  1. -1.j,\n",
       "         0. +0.j,  0. +0.j],\n",
       "       [ 0. +0.j,  0. +0.j,  1. -1.j,  0. +0.j,  0.5+0.j,  0. +0.j,\n",
       "         0. +0.j,  0. +0.j],\n",
       "       [ 0. +0.j,  0. +0.j,  0. +0.j,  1. +1.j,  0. +0.j, -0.5+0.j,\n",
       "         1. +0.j,  0. +0.j],\n",
       "       [ 0. +1.j,  0. +0.j,  0. +0.j,  0. +0.j,  0. +0.j,  1. +0.j,\n",
       "        -0.5+0.j,  0. +0.j],\n",
       "       [ 0. +0.j,  0. -1.j,  0. +0.j,  0. +0.j,  0. +0.j,  0. +0.j,\n",
       "         0. +0.j, -1.5+0.j]])"
      ]
     },
     "execution_count": 8,
     "metadata": {},
     "output_type": "execute_result"
    }
   ],
   "source": [
    "threeQub.totalHamiltonian.A"
   ]
  },
  {
   "cell_type": "code",
   "execution_count": null,
   "metadata": {},
   "outputs": [],
   "source": []
  }
 ],
 "metadata": {
  "interpreter": {
   "hash": "84140f987c0b0e0a7cc73ab2dfca74e3b05f3f4edb0e1638e7975794196701df"
  },
  "kernelspec": {
   "display_name": "Python 3.10.1 64-bit ('QuanGuruDev': venv)",
   "language": "python",
   "name": "python3"
  },
  "language_info": {
   "codemirror_mode": {
    "name": "ipython",
    "version": 3
   },
   "file_extension": ".py",
   "mimetype": "text/x-python",
   "name": "python",
   "nbconvert_exporter": "python",
   "pygments_lexer": "ipython3",
   "version": "3.8.10"
  }
 },
 "nbformat": 4,
 "nbformat_minor": 2
}
