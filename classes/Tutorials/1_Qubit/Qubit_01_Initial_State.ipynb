{
 "cells": [
  {
   "cell_type": "code",
   "execution_count": 1,
   "metadata": {},
   "outputs": [],
   "source": [
    "import quanguru as qg\n",
    "\n",
    "# QuanGuru uses sparse matrices by default, \n",
    "# but sparse matrices are not easily readable when we print them\n",
    "# so, in below examples, we use .A to print them as arrays"
   ]
  },
  {
   "cell_type": "markdown",
   "metadata": {},
   "source": [
    "# 1 - Initial state for a Qubit\n",
    "\n",
    "This tutorial shows various ways to set the initial state of a qubit.\n",
    "\n",
    "We start by creating a qubit"
   ]
  },
  {
   "cell_type": "code",
   "execution_count": 2,
   "metadata": {},
   "outputs": [],
   "source": [
    "qub = qg.Qubit()"
   ]
  },
  {
   "cell_type": "markdown",
   "metadata": {},
   "source": [
    "Before diving into the examples, let's first define certain conventions and notations representing the eigenvectors of $\\sigma_{z}$ operator.\n",
    "\n",
    "Matrix form of $\\sigma_{z}$ operator is:\n",
    "\n",
    "$\\sigma_{z} = \\left[\\begin{array}{ll}1 & 0 \\\\ 0 & -1\\end{array}\\right]$\n",
    "\n",
    "and its eigenvectors (with the corresponding eigenvalues) are\n",
    "\n",
    "$|0\\rangle = \\left[\\begin{array}{ll} 1 \\\\ 0 \\end{array}\\right] \\text{ (with eigenvalue 1)}$\n",
    "\n",
    "\n",
    "$|1\\rangle = \\left[\\begin{array}{ll} 0 \\\\ 1 \\end{array}\\right] \\text{ (with eigenvalue -1)}$\n",
    "\n",
    "The labels, 0 and 1, of the ket states here represent the position of the 1 in the column matrices. In other words, the $|0\\rangle$ has 1 at row 0, and the $|1\\rangle$ has 1 at row 1. This convention extends naturally and is used for higher dimensional systems such as larger spins or harmonic oscillators.\n",
    "We will refer these as `basis` states, and the `basis` method of `QuantumToolbox` can be used for the creation of such states, but, we here focus on creating the initial states through the `Qubit` object.\n",
    "\n",
    "## 1. Pure States\n",
    "\n",
    "### 1.1 If Initial state is a basis state\n",
    "\n",
    "In order to set $|0\\rangle$ or $|1\\rangle$, we simply give the respective number as input for the `initialState`"
   ]
  },
  {
   "cell_type": "code",
   "execution_count": 3,
   "metadata": {},
   "outputs": [
    {
     "name": "stdout",
     "output_type": "stream",
     "text": [
      "[[1.]\n",
      " [0.]]\n",
      "[[0.]\n",
      " [1.]]\n"
     ]
    }
   ],
   "source": [
    "qub.initialState = 0\n",
    "print(qub.initialState.A)\n",
    "\n",
    "qub.initialState = 1\n",
    "print(qub.initialState.A)\n"
   ]
  },
  {
   "cell_type": "markdown",
   "metadata": {},
   "source": [
    "### 1.2 If Initial state is a superposition state\n",
    "\n",
    "If we want to set some super-position of $|0\\rangle$ and $|1\\rangle$ as the initial state, we can do this in various different ways depending on the superposition state we want to set.\n",
    "\n",
    "#### 1.2.1 If Initial state is an equal superposition state\n",
    "The first method is for the equal superposition state\n",
    "\n",
    "$\\frac{1}{\\sqrt{2}}(|0\\rangle + |1\\rangle )$\n",
    "\n",
    "In this special case, we simply give a list $[1, 0]$ (or $[0, 1]$ the order is not important) of the states, and it is used to create the equal superposition. Note that \"equal superposition\" here does not mean equal superposition of every basis states, it just means equal superposition of the given input basis states. In other words, for higher dimensional systems, you can create an equal superposition of any number of basis states. For example for a 5 dimensional system, $[1, 0, 3]$ will create equal superposition of these three basis states."
   ]
  },
  {
   "cell_type": "code",
   "execution_count": 4,
   "metadata": {},
   "outputs": [
    {
     "name": "stdout",
     "output_type": "stream",
     "text": [
      "[[0.70710678]\n",
      " [0.70710678]]\n"
     ]
    }
   ],
   "source": [
    "qub.initialState = [1, 0]\n",
    "print(qub.initialState.A)"
   ]
  },
  {
   "cell_type": "markdown",
   "metadata": {},
   "source": [
    "#### 1.2.2 If Initial state is an arbitrary superposition state\n",
    "\n",
    "The second method for creating a superposition state is by using a dictionary, where `key:value` pairs represent the `basis-state:population/coefficient`.\n",
    "\n",
    "`population/coefficient` here means that there are also two different ways for this approach.\n",
    "\n",
    "Consider the following superposition state\n",
    "\n",
    "$c_{0}|0\\rangle + c_{1}|1\\rangle$\n",
    "\n",
    "where $c_{i}$ are the complex probability amplitudes, and $p_{i} = |c_{i}|^{2}$ are the population, satisfying the normalization condition $\\sum_{i}p_{i} = 1$.\n",
    "\n",
    "Now, we can create our superposition state either by using the `population` or `coefficient`.\n",
    "\n",
    "##### 1.2.2.1 Initial state using the populations\n",
    "\n",
    "Let's cover the `population` first, which is the default method. Below is an example where we want $p_{0} = 0.2$ and $p_{1} = 0.8$. Note that the order of the `key:value` pairs does not matter, meaning `{0:0.2, 1:0.8}` is the same as `{1:0.8, 0:0.2}`."
   ]
  },
  {
   "cell_type": "code",
   "execution_count": 5,
   "metadata": {},
   "outputs": [
    {
     "name": "stdout",
     "output_type": "stream",
     "text": [
      "[[0.4472136 ]\n",
      " [0.89442719]]\n",
      "[[0.2 0.4]\n",
      " [0.4 0.8]]\n",
      "1.0000000000000009\n"
     ]
    }
   ],
   "source": [
    "qub.initialState = {0:0.2, 1:0.8}\n",
    "print(qub.initialState.A)\n",
    "\n",
    "# let's also convert this initial state into density matrix to confirm:\n",
    "# (i) the populations and (ii) its purity\n",
    "denMat = qg.densityMatrix(qub.initialState)\n",
    "print(denMat.A, qg.purity(denMat), sep='\\n')"
   ]
  },
  {
   "cell_type": "markdown",
   "metadata": {},
   "source": [
    "Also note that the populations can be *relative*, meaning the input does not have to sum to 1, and they will be normalized to sum to one. For example, if we input ${0:0.2, 1:0.9}$, the total population is $1.1$. Therefore, it will be normalized to ${0:(0.2/1.1), 1:(0.9/1.1)}$."
   ]
  },
  {
   "cell_type": "code",
   "execution_count": 6,
   "metadata": {},
   "outputs": [
    {
     "name": "stdout",
     "output_type": "stream",
     "text": [
      "[[0.42640143]\n",
      " [0.90453403]]\n",
      "[[0.18181818 0.38569461]\n",
      " [0.38569461 0.81818182]]\n",
      "1.0000000000000007\n",
      "0.8181818181818181\n",
      "0.18181818181818182\n"
     ]
    }
   ],
   "source": [
    "qub.initialState = {0:0.2, 1:0.9}\n",
    "print(qub.initialState.A)\n",
    "\n",
    "denMat = qg.densityMatrix(qub.initialState)\n",
    "print(denMat.A, qg.purity(denMat), 0.9/1.1, 0.2/1.1, sep='\\n')"
   ]
  },
  {
   "cell_type": "markdown",
   "metadata": {},
   "source": [
    "##### 1.2.2.2 If the relative phases are important\n",
    "\n",
    "Obviously, the `population` approach ignores the relative phase between the `coefficients`, which might be important for us.\n",
    "In such a case, we can give the `key:value` value pairs as `state:coefficient`, but we also need to set `_inpCoef` to `True` as below, where we compare the `population` and `coefficient` approach.\n",
    "Notice that both cases below creates $p_{0} = 0.66$ and $p_{1} = 0.33$, but the first one uses the complex probability amplitudes introducing a relative phase, which is observed as the complex parts of the off-diagonal elements of the density matrix. "
   ]
  },
  {
   "cell_type": "code",
   "execution_count": 7,
   "metadata": {},
   "outputs": [
    {
     "name": "stdout",
     "output_type": "stream",
     "text": [
      "[[0.57735027+0.57735027j]\n",
      " [0.57735027+0.j        ]]\n",
      "[[0.66666667+0.j         0.33333333+0.33333333j]\n",
      " [0.33333333-0.33333333j 0.33333333+0.j        ]]\n",
      "(0.9999999999999989+0j)\n",
      "[[0.81649658]\n",
      " [0.57735027]]\n",
      "[[0.66666667 0.47140452]\n",
      " [0.47140452 0.33333333]]\n",
      "1.0\n"
     ]
    }
   ],
   "source": [
    "qub._inpCoef = True\n",
    "qub.initialState = {0:0.2*(1+1j), 1:0.2}\n",
    "print(qub.initialState.A)\n",
    "denMat = qg.densityMatrix(qub.initialState)\n",
    "print(denMat.A, qg.purity(denMat), sep='\\n')\n",
    "\n",
    "qub._inpCoef = False\n",
    "qub.initialState = {0:0.66, 1:0.33}\n",
    "print(qub.initialState.A)\n",
    "denMat = qg.densityMatrix(qub.initialState)\n",
    "print(denMat.A, qg.purity(denMat), sep='\\n')"
   ]
  },
  {
   "cell_type": "markdown",
   "metadata": {},
   "source": [
    "## Mixed states or any other arbitrary state\n",
    "\n",
    "`initialState` also accepts a (ket or density) matrix as input, which makes it possible to set any state we want as the initial state.\n",
    "For example, if we want the initial state to be a mixed state, we can create it using the `densityMatrix` function of `QuantumToolbox` then set it through again the `initialState` as below, where we also calculate the purity of each mixed state.\n"
   ]
  },
  {
   "cell_type": "code",
   "execution_count": 8,
   "metadata": {},
   "outputs": [
    {
     "name": "stdout",
     "output_type": "stream",
     "text": [
      "[[0.5 0. ]\n",
      " [0.  0.5]]\n",
      "0.5\n",
      "[[0.75 0.  ]\n",
      " [0.   0.25]]\n",
      "0.625\n"
     ]
    }
   ],
   "source": [
    "mixedState = qg.densityMatrix([qg.basis(2,1), qg.basis(2,0)], [0.5, 0.5])\n",
    "qub.initialState = mixedState\n",
    "print(qub.initialState.A, qg.purity(qub.initialState), sep='\\n')\n",
    "\n",
    "mixedState = qg.densityMatrix([qg.basis(2,1), qg.basis(2,0)], [0.25, 0.75])\n",
    "qub.initialState = mixedState\n",
    "print(qub.initialState.A, qg.purity(qub.initialState), sep='\\n')"
   ]
  },
  {
   "cell_type": "markdown",
   "metadata": {},
   "source": [
    "Note that all the other methods covered above can also be achieved similarly by using the `superPos` function of `QuantumToolbox` as below. "
   ]
  },
  {
   "cell_type": "code",
   "execution_count": 9,
   "metadata": {},
   "outputs": [
    {
     "name": "stdout",
     "output_type": "stream",
     "text": [
      "[[0.]\n",
      " [1.]]\n",
      "[[0. 0.]\n",
      " [0. 1.]]\n",
      "1.0\n",
      "[[0.70710678]\n",
      " [0.70710678]]\n",
      "[[0.5 0.5]\n",
      " [0.5 0.5]]\n",
      "0.9999999999999996\n",
      "[[0.57735027]\n",
      " [0.81649658]]\n",
      "[[0.33333333 0.47140452]\n",
      " [0.47140452 0.66666667]]\n",
      "1.0\n",
      "[[0.57735027+0.57735027j]\n",
      " [0.57735027+0.j        ]]\n",
      "[[0.66666667+0.j         0.33333333+0.33333333j]\n",
      " [0.33333333-0.33333333j 0.33333333+0.j        ]]\n",
      "(0.9999999999999989+0j)\n"
     ]
    }
   ],
   "source": [
    "# basis state\n",
    "ket1 = qg.superPos(2, 1)\n",
    "qub.initialState = ket1\n",
    "print(qub.initialState.A)\n",
    "denMat = qg.densityMatrix(qub.initialState)\n",
    "print(denMat.A, qg.purity(denMat), sep='\\n')\n",
    "\n",
    "# equal superposition\n",
    "ket0 = qg.superPos(2, [1, 0])\n",
    "qub.initialState = ket0\n",
    "print(qub.initialState.A)\n",
    "denMat = qg.densityMatrix(qub.initialState)\n",
    "print(denMat.A, qg.purity(denMat), sep='\\n')\n",
    "\n",
    "# arbitrary superposition with populations\n",
    "ket0 = qg.superPos(2, {0:0.33, 1:0.66})\n",
    "qub.initialState = ket0\n",
    "print(qub.initialState.A)\n",
    "denMat = qg.densityMatrix(qub.initialState)\n",
    "print(denMat.A, qg.purity(denMat), sep='\\n')\n",
    "\n",
    "# arbitrary superposition with complex probability amplitudes\n",
    "ket0 = qg.superPos(2, {0:0.2*(1+1j), 1:0.2}, populations=False)\n",
    "qub.initialState = ket0\n",
    "print(qub.initialState.A)\n",
    "denMat = qg.densityMatrix(qub.initialState)\n",
    "print(denMat.A, qg.purity(denMat), sep='\\n')"
   ]
  },
  {
   "cell_type": "code",
   "execution_count": null,
   "metadata": {},
   "outputs": [],
   "source": []
  }
 ],
 "metadata": {
  "celltoolbar": "Tags",
  "interpreter": {
   "hash": "81ed76176e4f746ec85a2761650c2bf524db70acda0c76fd4138af02ba17b5a6"
  },
  "kernelspec": {
   "display_name": "Python 3 (ipykernel)",
   "language": "python",
   "name": "python3"
  },
  "language_info": {
   "codemirror_mode": {
    "name": "ipython",
    "version": 3
   },
   "file_extension": ".py",
   "mimetype": "text/x-python",
   "name": "python",
   "nbconvert_exporter": "python",
   "pygments_lexer": "ipython3",
   "version": "3.10.1"
  }
 },
 "nbformat": 4,
 "nbformat_minor": 2
}
