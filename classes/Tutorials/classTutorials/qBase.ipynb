{
 "cells": [
  {
   "cell_type": "code",
   "execution_count": 1,
   "metadata": {},
   "outputs": [],
   "source": [
    "import quanguru as qg"
   ]
  },
  {
   "cell_type": "markdown",
   "metadata": {},
   "source": [
    "# `qBase`\n",
    "\n",
    "`qBase` class is the parent class for most of the classes in `quanGuru`, and it has `superSys` and `subSys` attributes that are used to implement various functionalities. Understanding the purpose of these functionalities will be more evident later when we will consider its child classes. "
   ]
  },
  {
   "cell_type": "code",
   "execution_count": 2,
   "metadata": {},
   "outputs": [
    {
     "data": {
      "text/plain": [
       "'qBase1'"
      ]
     },
     "execution_count": 2,
     "metadata": {},
     "output_type": "execute_result"
    }
   ],
   "source": [
    "# let's create an instance of qBase class\n",
    "q1 = qg.base.qBase()\n",
    "# qBase inherits from the `named` class, and has\n",
    "# similar naming functionalities as its base class.\n",
    "# its name consists of class label and the number of instantiation. \n",
    "q1.name"
   ]
  },
  {
   "cell_type": "markdown",
   "metadata": {},
   "source": [
    "`superSys` attribute of the qBase class is used to refer to other object. This may be required in some cases when the object needs to point to other single object for its main functionality. Let's create an Qubit object to show how this attribute works."
   ]
  },
  {
   "cell_type": "code",
   "execution_count": 3,
   "metadata": {},
   "outputs": [],
   "source": [
    "# create a Qubit object\n",
    "qub1 = qg.Qubit(frequency = 3)\n",
    "# superSys attribute points to the created qub1 object\n",
    "q1.superSys = qub1"
   ]
  },
  {
   "cell_type": "code",
   "execution_count": 4,
   "metadata": {},
   "outputs": [
    {
     "data": {
      "text/plain": [
       "'Qubit1'"
      ]
     },
     "execution_count": 4,
     "metadata": {},
     "output_type": "execute_result"
    }
   ],
   "source": [
    "# Now, the superSys contains this qubit, and the name attribute\n",
    "# of the superSys shows the name of the created qubit.\n",
    "q1.superSys.name"
   ]
  },
  {
   "cell_type": "markdown",
   "metadata": {},
   "source": [
    "`subSys` attribute is a dictionary that stores a set of objects. In order to show how this attribute is useful, let's consider a `compQSystem` class (a class to simulate composite quantum systems) which is a child class of qBase. "
   ]
  },
  {
   "cell_type": "code",
   "execution_count": 5,
   "metadata": {},
   "outputs": [],
   "source": [
    "# let us create an instances of Cavity class\n",
    "cav = qg.Cavity(frequency = 5, dimension = 20)\n",
    "\n",
    "# by adding this cavity to our qubit we create a composite system\n",
    "JCsystem = qub1 + cav"
   ]
  },
  {
   "cell_type": "code",
   "execution_count": 6,
   "metadata": {},
   "outputs": [
    {
     "data": {
      "text/plain": [
       "{'Qubit1': <quanguru.classes.QSys.Qubit at 0x1e043662930>,\n",
       " 'Cavity1': <quanguru.classes.QSys.Cavity at 0x1e043662860>}"
      ]
     },
     "execution_count": 6,
     "metadata": {},
     "output_type": "execute_result"
    }
   ],
   "source": [
    "# the subSys attribue shows all the systems stored in the composite system.\n",
    "# It stores them into aliasDict object, where the keys are the names of the objects.\n",
    "JCsystem.subSys"
   ]
  },
  {
   "cell_type": "code",
   "execution_count": 7,
   "metadata": {},
   "outputs": [
    {
     "data": {
      "text/plain": [
       "{'Qubit1': <quanguru.classes.QSys.Qubit at 0x1e043662930>,\n",
       " 'Cavity1': <quanguru.classes.QSys.Cavity at 0x1e043662860>,\n",
       " 'Qubit2': <quanguru.classes.QSys.Qubit at 0x1e043662a00>}"
      ]
     },
     "execution_count": 7,
     "metadata": {},
     "output_type": "execute_result"
    }
   ],
   "source": [
    "# let's create various qubits \n",
    "qub2 = qg.Qubit(frequency = 3)\n",
    "qub3 = qg.Qubit(frequency = 1)\n",
    "qub4 = qg.Qubit(frequency = 1)\n",
    "qub4.alias = \"quba\"\n",
    "\n",
    "# we can add a qubit in the following way\n",
    "JCsystem.addSubSys(qub2)\n",
    "\n",
    "# now the dictionary contains second qubit too\n",
    "JCsystem.subSys"
   ]
  },
  {
   "cell_type": "code",
   "execution_count": 8,
   "metadata": {},
   "outputs": [
    {
     "data": {
      "text/plain": [
       "{'Qubit1': <quanguru.classes.QSys.Qubit at 0x1e043662930>,\n",
       " 'Cavity1': <quanguru.classes.QSys.Cavity at 0x1e043662860>,\n",
       " 'Qubit2': <quanguru.classes.QSys.Qubit at 0x1e043662a00>,\n",
       " 'Qubit3': <quanguru.classes.QSys.Qubit at 0x1e043662ad0>,\n",
       " 'Qubit4': <quanguru.classes.QSys.Qubit at 0x1e043662ba0>}"
      ]
     },
     "execution_count": 8,
     "metadata": {},
     "output_type": "execute_result"
    }
   ],
   "source": [
    "# we can also use the name of the qubit to add it to subSys\n",
    "JCsystem.addSubSys(\"Qubit3\")\n",
    "\n",
    "# alias of objects can be passed as well\n",
    "JCsystem.addSubSys(\"quba\")\n",
    "\n",
    "# the subSys dictionary contains two more qubits now\n",
    "JCsystem.subSys"
   ]
  },
  {
   "cell_type": "code",
   "execution_count": 9,
   "metadata": {},
   "outputs": [
    {
     "data": {
      "text/plain": [
       "{'Qubit1': <quanguru.classes.QSys.Qubit at 0x1e043662930>,\n",
       " 'Cavity1': <quanguru.classes.QSys.Cavity at 0x1e043662860>,\n",
       " 'Qubit2': <quanguru.classes.QSys.Qubit at 0x1e043662a00>,\n",
       " 'Qubit3': <quanguru.classes.QSys.Qubit at 0x1e043662ad0>}"
      ]
     },
     "execution_count": 9,
     "metadata": {},
     "output_type": "execute_result"
    }
   ],
   "source": [
    "# if we want to remove a particular object\n",
    "JCsystem.removeSubSys(\"quba\")\n",
    "JCsystem.subSys"
   ]
  },
  {
   "cell_type": "code",
   "execution_count": 10,
   "metadata": {},
   "outputs": [
    {
     "data": {
      "text/plain": [
       "{}"
      ]
     },
     "execution_count": 10,
     "metadata": {},
     "output_type": "execute_result"
    }
   ],
   "source": [
    "# if for some reason we need to clear subSys from its stored objects\n",
    "# we just employ the following method\n",
    "JCsystem.resetSubSys()\n",
    "\n",
    "# and now it shows an empty dictionary\n",
    "JCsystem.subSys"
   ]
  },
  {
   "cell_type": "markdown",
   "metadata": {},
   "source": [
    "Sometimes we may need to store some auxiliary information in our simulations. We can achieve this in two ways. The `auxDict` attribute stores the auxiliary information using a dictionary, whereas `auxObj` in the form of an object. Choosing one of them is a matter of preference, as both of them actually do the same thing."
   ]
  },
  {
   "cell_type": "code",
   "execution_count": 11,
   "metadata": {},
   "outputs": [
    {
     "data": {
      "text/plain": [
       "'Cavity1'"
      ]
     },
     "execution_count": 11,
     "metadata": {},
     "output_type": "execute_result"
    }
   ],
   "source": [
    "# Let's say we want to store a cavity into auxDict dictionary\n",
    "# We can store it like a regular dictionary\n",
    "q1.auxDict[\"cav\"] = cav\n",
    "\n",
    "# we check its name attribute\n",
    "q1.auxDict[\"cav\"].name"
   ]
  },
  {
   "cell_type": "code",
   "execution_count": 12,
   "metadata": {},
   "outputs": [
    {
     "data": {
      "text/plain": [
       "'Cavity1'"
      ]
     },
     "execution_count": 12,
     "metadata": {},
     "output_type": "execute_result"
    }
   ],
   "source": [
    "# if one prefers to store auxiliary information as an object\n",
    "# one can store it as an attribute of the auxObj\n",
    "q1.auxObj.operator = cav\n",
    "\n",
    "# the stored operator now becomes the cavity\n",
    "q1.auxObj.operator.name"
   ]
  }
 ],
 "metadata": {
  "interpreter": {
   "hash": "c57e21b4107dd72b33e419236c82672a7bcaad2e1fd657ab9655483a5a5e9f3c"
  },
  "kernelspec": {
   "display_name": "Python 3.8.3 64-bit ('base': conda)",
   "language": "python",
   "name": "python3"
  },
  "language_info": {
   "codemirror_mode": {
    "name": "ipython",
    "version": 3
   },
   "file_extension": ".py",
   "mimetype": "text/x-python",
   "name": "python",
   "nbconvert_exporter": "python",
   "pygments_lexer": "ipython3",
   "version": "3.8.3"
  }
 },
 "nbformat": 4,
 "nbformat_minor": 2
}
