{
 "cells": [
  {
   "cell_type": "code",
   "execution_count": 1,
   "metadata": {},
   "outputs": [],
   "source": [
    "import quanguru as qg\n",
    "import numpy as np"
   ]
  },
  {
   "cell_type": "markdown",
   "metadata": {},
   "source": [
    "# 16 - Jaynes-Cummings Hamiltonian (in QuanGuru)\n",
    "\n",
    "The Jaynes-Cummings Hamiltonian is written as\n",
    "\n",
    "$H_{JC} = \\hbar\\omega_{c} a^{\\dagger}a + \\frac{1}{2}\\hbar\\omega_{q}\\sigma_{z} + \\hbar g(a^{\\dagger}\\sigma_{-} + a\\sigma_{+})$\n",
    "\n",
    "where $\\sigma_{\\pm} = (\\sigma_{x} \\pm i\\sigma_{y})/2$ are raising/lowering operators for a two-level system, $\\sigma_{\\mu}$ are the Pauli spin operators with $\\mu\\in\\{x,y,z\\}$, $a^{\\dagger}$ and $a$ are the creation and annihilation operators for the field mode, and $\\omega_{c}$, $\\omega_{q}$, and $g$ are the cavity-field, qubit, and coupling (angular-) frequencies, respectively.\n",
    "Note that the above Hamiltonian is written in a common notation where the order of the sub-system Hilbert spaces is implicitly defined by the ordering in the coupling.\n",
    "This means, for example, that the composite form of the number operator is written explicitly as $(a^{\\dagger}a)\\otimes 1_{2,2}$ (similarly, $a^{\\dagger}\\otimes\\sigma_{-}$ and $1_{d,d}\\otimes\\sigma_{z}$, where $d$ is the truncation dimension for the cavity operators and $\\otimes$ is the tensor product).\n",
    "\n",
    "In this tutorial, we describe/create the Jaynes-Cummings Hamiltonian using `QuanGuru`.\n",
    "For the parameters of the Hamiltonian, we will take $\\omega_{c} = \\omega_{q} = g = 1/2\\pi$ for simplicity. Since, `QuanGuru` uses frequencies (instead of angular-frequencies), frequencies are all 1.\n",
    "Also, instead of $\\sigma_{\\pm} = (\\sigma_{x} \\pm i\\sigma_{y})/2$, we will use $J_{\\pm} = (J_{x} \\pm iJ_{y})/2$, where $J_{\\mu}$ (with $\\mu\\in\\{x,y,z\\}$) are the operators for larges spins.\n",
    "With this approach, we will be able to extend the Jaynes-Cummings Hamiltonian to Tavis-Cumming Hamiltonian by simply setting a different j-value to our `Qubit` object."
   ]
  },
  {
   "cell_type": "code",
   "execution_count": 2,
   "metadata": {},
   "outputs": [],
   "source": [
    "# create a composite system with a qubit and cavity\n",
    "JCSystem = qg.Cavity(frequency=1, dimension=5, alias=\"JC_Cavity\") + qg.Qubit(frequency=1, alias=\"JC_Qubit\")\n",
    "\n",
    "# couple the qubit and the cavity using their alias\n",
    "MC = JCSystem.createTerm(qSystems=[\"JC_Qubit\", \"JC_Cavity\"], operators=[qg.sigmam, qg.create], frequency=1)\n",
    "PD = JCSystem.createTerm(qSystems=[\"JC_Qubit\", \"JC_Cavity\"], operators=[qg.sigmap, qg.destroy], frequency=1)"
   ]
  },
  {
   "cell_type": "code",
   "execution_count": 3,
   "metadata": {},
   "outputs": [
    {
     "name": "stdout",
     "output_type": "stream",
     "text": [
      "[[ 0.5  0.   0.   1.   0.   0.   0.   0.   0.   0. ]\n",
      " [ 0.  -0.5  0.   0.   0.   0.   0.   0.   0.   0. ]\n",
      " [ 0.   0.   1.5  0.   0.   1.4  0.   0.   0.   0. ]\n",
      " [ 1.   0.   0.   0.5  0.   0.   0.   0.   0.   0. ]\n",
      " [ 0.   0.   0.   0.   2.5  0.   0.   1.7  0.   0. ]\n",
      " [ 0.   0.   1.4  0.   0.   1.5  0.   0.   0.   0. ]\n",
      " [ 0.   0.   0.   0.   0.   0.   3.5  0.   0.   2. ]\n",
      " [ 0.   0.   0.   0.   1.7  0.   0.   2.5  0.   0. ]\n",
      " [ 0.   0.   0.   0.   0.   0.   0.   0.   4.5  0. ]\n",
      " [ 0.   0.   0.   0.   0.   0.   2.   0.   0.   3.5]]\n"
     ]
    }
   ],
   "source": [
    "print(np.round(JCSystem.totalHamiltonian.A, 1))"
   ]
  },
  {
   "cell_type": "code",
   "execution_count": 4,
   "metadata": {},
   "outputs": [
    {
     "name": "stdout",
     "output_type": "stream",
     "text": [
      "[[ 0.5  0.   0.   0.   0.   0.   0.   0.   0.   0. ]\n",
      " [ 0.  -0.5  0.   0.   0.   0.   0.   0.   0.   0. ]\n",
      " [ 0.   0.   1.5  0.   0.   0.   0.   0.   0.   0. ]\n",
      " [ 0.   0.   0.   0.5  0.   0.   0.   0.   0.   0. ]\n",
      " [ 0.   0.   0.   0.   2.5  0.   0.   0.   0.   0. ]\n",
      " [ 0.   0.   0.   0.   0.   1.5  0.   0.   0.   0. ]\n",
      " [ 0.   0.   0.   0.   0.   0.   3.5  0.   0.   0. ]\n",
      " [ 0.   0.   0.   0.   0.   0.   0.   2.5  0.   0. ]\n",
      " [ 0.   0.   0.   0.   0.   0.   0.   0.   4.5  0. ]\n",
      " [ 0.   0.   0.   0.   0.   0.   0.   0.   0.   3.5]]\n"
     ]
    }
   ],
   "source": [
    "print(np.round(JCSystem._subSysHamiltonian.A, 1))"
   ]
  },
  {
   "cell_type": "code",
   "execution_count": 5,
   "metadata": {},
   "outputs": [
    {
     "name": "stdout",
     "output_type": "stream",
     "text": [
      "[[0.  0.  0.  1.  0.  0.  0.  0.  0.  0. ]\n",
      " [0.  0.  0.  0.  0.  0.  0.  0.  0.  0. ]\n",
      " [0.  0.  0.  0.  0.  1.4 0.  0.  0.  0. ]\n",
      " [1.  0.  0.  0.  0.  0.  0.  0.  0.  0. ]\n",
      " [0.  0.  0.  0.  0.  0.  0.  1.7 0.  0. ]\n",
      " [0.  0.  1.4 0.  0.  0.  0.  0.  0.  0. ]\n",
      " [0.  0.  0.  0.  0.  0.  0.  0.  0.  2. ]\n",
      " [0.  0.  0.  0.  1.7 0.  0.  0.  0.  0. ]\n",
      " [0.  0.  0.  0.  0.  0.  0.  0.  0.  0. ]\n",
      " [0.  0.  0.  0.  0.  0.  2.  0.  0.  0. ]]\n"
     ]
    }
   ],
   "source": [
    "print(np.round(JCSystem._termHamiltonian.A, 1))"
   ]
  },
  {
   "cell_type": "code",
   "execution_count": null,
   "metadata": {},
   "outputs": [],
   "source": []
  }
 ],
 "metadata": {
  "interpreter": {
   "hash": "84140f987c0b0e0a7cc73ab2dfca74e3b05f3f4edb0e1638e7975794196701df"
  },
  "kernelspec": {
   "display_name": "Python 3.10.1 64-bit ('QuanGuruDev': venv)",
   "language": "python",
   "name": "python3"
  },
  "language_info": {
   "codemirror_mode": {
    "name": "ipython",
    "version": 3
   },
   "file_extension": ".py",
   "mimetype": "text/x-python",
   "name": "python",
   "nbconvert_exporter": "python",
   "pygments_lexer": "ipython3",
   "version": "3.8.10"
  },
  "orig_nbformat": 4
 },
 "nbformat": 4,
 "nbformat_minor": 2
}
