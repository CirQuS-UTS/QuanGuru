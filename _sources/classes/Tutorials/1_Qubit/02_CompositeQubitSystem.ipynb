{
 "cells": [
  {
   "cell_type": "code",
   "execution_count": 1,
   "metadata": {},
   "outputs": [],
   "source": [
    "import quanguru as qg"
   ]
  },
  {
   "cell_type": "markdown",
   "metadata": {},
   "source": [
    "# 2 - How to create composite quantum systems\n",
    "\n",
    "In this tutorial, we show various different ways you can create/define composite quantum systems in `QuanGuru`.\n",
    "\n",
    "## Create each system then compose\n",
    "\n",
    "This approach is probably the most natural and easy way. We discuss the alternatives below, and they are all just compact forms of this.\n",
    "\n",
    "Let's start by creating a composite system with two qubits. We first create two `Qubit` instances and a `QuantumSystem` (for composite quantum system).\n",
    "Without any sub-systems (stored in the `.subSys`) or operators assigned to it, the `QuantumSystem` instance is just an empty container. Therefore, we next add the sub-systems by calling `addSubSys` with a `list` containing the sub-systems we want to add. The order of sub-systems in the given `list` will determine the structure of Hilbert space as further explained below."
   ]
  },
  {
   "cell_type": "code",
   "execution_count": 2,
   "metadata": {},
   "outputs": [
    {
     "data": {
      "text/plain": [
       "<quanguru.classes.QSys.Qubit at 0x108d17100>"
      ]
     },
     "execution_count": 2,
     "metadata": {},
     "output_type": "execute_result"
    }
   ],
   "source": [
    "# create four qubits\n",
    "qub1 = qg.Qubit()\n",
    "qub2 = qg.Qubit()\n",
    "\n",
    "# create a composite quantum systems\n",
    "twoQub1 = qg.QuantumSystem()\n",
    "\n",
    "# call the addSubSys with the list of qubits\n",
    "twoQub1.addSubSys([qub2, qub1])"
   ]
  },
  {
   "cell_type": "markdown",
   "metadata": {},
   "source": [
    "In above cell, we first created `qub1` then `qub2`. The order of creation as above does not have any special meaning other than the names of the `Qubit` objects, which will be named `Qubit1` and `Qubit2`, respectively.\n",
    "When we add them as sub-systems to the composite quantum system `twoQub1`, we passed them in a list.\n",
    "Their order in this list, however, determines the structures of the Hilbert space.\n",
    "Below, we examine the structure of the Hilbert space from the composite operators (discussed below), but we can also examine it by using different information stored and used internally by `QuanGuru`.\n",
    "\n",
    "Firstly, the sub-systems are stored in a `dictionary`, where the `key` is the sub-systems `name` and the `value` is just a reference to the subsystem object. This dictionary can be reached using the `subSys` attribute as below, and the order of the qubits should be consistent with the given list."
   ]
  },
  {
   "cell_type": "code",
   "execution_count": 3,
   "metadata": {},
   "outputs": [
    {
     "name": "stdout",
     "output_type": "stream",
     "text": [
      "{'Qubit2': <quanguru.classes.QSys.Qubit object at 0x1096be400>, 'Qubit1': <quanguru.classes.QSys.Qubit object at 0x108d17100>}\n"
     ]
    }
   ],
   "source": [
    "print(twoQub1.subSys)"
   ]
  },
  {
   "cell_type": "markdown",
   "metadata": {},
   "source": [
    "As expected, `Qubit2` is the first item of the `dictionary`.\n",
    "\n",
    "When a quantum system is added as a sub-system to a composite system. The library stores/updates certain additional information relevant to the structure of the Hilbert space. Before moving on with the examples, let's explain what does *structure of the Hilbert space* mean?\n",
    "\n",
    "Consider the following composite system Hamiltonian for two non-interacting qubits\n",
    "\n",
    "$H = \\frac{1}{2}\\sigma_{z}\\otimes1_{2,2} + \\frac{1}{2}1_{2,2}\\otimes\\sigma_{z}$\n",
    "\n",
    "where $\\otimes$ is the outer/tensor product and $1_{2,2}$ is the 2-dimension identity operator. Here, $\\sigma_{z}\\otimes1_{2,2}$ and $1_{2,2}\\otimes\\sigma_{z}$ effect different portions of the Hilbert space corresponding to each qubit, and this what we mean by the *structure of the Hilbert space*.\n",
    "The operators $\\sigma_{z}\\otimes1_{2,2}$ and $1_{2,2}\\otimes\\sigma_{z}$ are referred as composite operators, and we generally write such operators with a cleaner implicit notation as\n",
    "\n",
    "$H = \\frac{1}{2}\\sigma_{z,1} + \\frac{1}{2}\\sigma_{z,2}$\n",
    "\n",
    "and say that $\\sigma_{z,1}$ ($\\sigma_{z,2}$) operates on the first (second) qubit.\n",
    "Also in `QuanGuru`, we want such information to be implicit to have cleaner code, and the library manages the details internally.\n",
    "The first (second) qubit of our composite system are, therefore, (from left-to-right) first and second items of the list, `qub2` and `qub1`. In this case, this order is our choice and is independent of the order in which the `Qubit` objects are created.\n",
    "\n",
    "In the above Hamiltonian, the total dimension *after* the first qubit is 2 (the dimension of the second qubit), and the total dimension *before* the second qubit is 2 (the dimension of the first qubit). In order to be able to create composite operators, our `Qubit` objects need these information, and it is stored in `_dimsAfter` and `_dimsBefore` attributes. `QuanGuru` manages these values, therefore `_dimsAfter` and `_dimsBefore` attributes should not be modified by the user. The default values (i.e. when the system is not in composite or no system before/after) for these attributes is 1, which is interpreted as a 1-dimensional identity, i.e. scaler 1 that does not change anything for the operator.\n",
    "\n",
    "Now, let's print `_dimsAfter` and `_dimsBefore` for both of the qubits and verify."
   ]
  },
  {
   "cell_type": "code",
   "execution_count": 4,
   "metadata": {},
   "outputs": [
    {
     "name": "stdout",
     "output_type": "stream",
     "text": [
      "2 1\n",
      "1 2\n"
     ]
    }
   ],
   "source": [
    "print(qub1._dimsBefore, qub1._dimsAfter)\n",
    "print(qub2._dimsBefore, qub2._dimsAfter)"
   ]
  },
  {
   "cell_type": "markdown",
   "metadata": {},
   "source": [
    "These `_dimsAfter` and `_dimsBefore` values are used internally to create composite operators. Since, according to our convention, the `qub2` is the first sub-system of the composite system, its composite operator should be\n",
    "\n",
    "$\\sigma_{z}\\otimes1 = \\left[\\begin{array}{llll}1 & 0 & 0 & 0 \\\\ 0 & 1 & 0 & 0 \\\\ 0 & 0 & -1 & 0 \\\\ 0 & 0 & 0 & -1 \\end{array}\\right]$\n",
    "\n",
    "and the composite operator of the `qub1` should be \n",
    "\n",
    "$\\sigma_{z}\\otimes1 = \\left[\\begin{array}{llll}1 & 0 & 0 & 0 \\\\ 0 & -1 & 0 & 0 \\\\ 0 & 0 & 1 & 0 \\\\ 0 & 0 & 0 & -1 \\end{array}\\right]$\n",
    "\n",
    "Let's print and verify. But, recall from the previous tutorials that `Qubit` objects use the two dimensional $J_{z}$ to incorporate the $\\frac{1}{2}$ factor of the Hamiltonian, so the values will be half."
   ]
  },
  {
   "cell_type": "code",
   "execution_count": 5,
   "metadata": {},
   "outputs": [
    {
     "name": "stdout",
     "output_type": "stream",
     "text": [
      "[[ 0.5  0.   0.   0. ]\n",
      " [ 0.   0.5  0.   0. ]\n",
      " [ 0.   0.  -0.5  0. ]\n",
      " [ 0.   0.   0.  -0.5]]\n",
      "[[ 0.5  0.   0.   0. ]\n",
      " [ 0.  -0.5  0.   0. ]\n",
      " [ 0.   0.   0.5  0. ]\n",
      " [ 0.   0.   0.  -0.5]]\n"
     ]
    }
   ],
   "source": [
    "# freeMat is just the (composite) operator of the system\n",
    "print(qub2.freeMat.A)\n",
    "print(qub1.freeMat.A)"
   ]
  },
  {
   "cell_type": "markdown",
   "metadata": {},
   "source": [
    "## Create a composite quantum system using the $+$ operator\n",
    "\n",
    "Above examples highlight the basics of composite quantum systems, and we now focus on alternative ways for composite system creation. We will take an incremental approach and simplify the above composite system creation step-by-step.\n",
    "First step is that we actually don't have to create a composite system first then add the sub-systems, we can do them in a single line as below."
   ]
  },
  {
   "cell_type": "code",
   "execution_count": 6,
   "metadata": {},
   "outputs": [
    {
     "name": "stdout",
     "output_type": "stream",
     "text": [
      "{'Qubit3': <quanguru.classes.QSys.Qubit object at 0x1096be740>, 'Qubit4': <quanguru.classes.QSys.Qubit object at 0x1096be810>}\n",
      "1 2\n",
      "2 1\n",
      "[[ 0.5  0.   0.   0. ]\n",
      " [ 0.   0.5  0.   0. ]\n",
      " [ 0.   0.  -0.5  0. ]\n",
      " [ 0.   0.   0.  -0.5]]\n",
      "[[ 0.5  0.   0.   0. ]\n",
      " [ 0.  -0.5  0.   0. ]\n",
      " [ 0.   0.   0.5  0. ]\n",
      " [ 0.   0.   0.  -0.5]]\n"
     ]
    }
   ],
   "source": [
    "qub3 = qg.Qubit()\n",
    "qub4 = qg.Qubit()\n",
    "\n",
    "twoQub2 = qg.QuantumSystem(subSys=[qub3, qub4])\n",
    "\n",
    "print(twoQub2.subSys)\n",
    "print(qub3._dimsBefore, qub3._dimsAfter)\n",
    "print(qub4._dimsBefore, qub4._dimsAfter)\n",
    "print(qub3.freeMat.A)\n",
    "print(qub4.freeMat.A)"
   ]
  },
  {
   "cell_type": "markdown",
   "metadata": {},
   "source": [
    "It is shorter than the previous code but not much cleaner, and we can do better. We can use the $+$ operator as below"
   ]
  },
  {
   "cell_type": "code",
   "execution_count": 7,
   "metadata": {},
   "outputs": [
    {
     "name": "stdout",
     "output_type": "stream",
     "text": [
      "{'Qubit6': <quanguru.classes.QSys.Qubit object at 0x1096be9b0>, 'Qubit5': <quanguru.classes.QSys.Qubit object at 0x1096be8e0>}\n",
      "1 2\n",
      "2 1\n",
      "[[ 0.5  0.   0.   0. ]\n",
      " [ 0.   0.5  0.   0. ]\n",
      " [ 0.   0.  -0.5  0. ]\n",
      " [ 0.   0.   0.  -0.5]]\n",
      "[[ 0.5  0.   0.   0. ]\n",
      " [ 0.  -0.5  0.   0. ]\n",
      " [ 0.   0.   0.5  0. ]\n",
      " [ 0.   0.   0.  -0.5]]\n"
     ]
    }
   ],
   "source": [
    "qub5 = qg.Qubit()\n",
    "qub6 = qg.Qubit()\n",
    "\n",
    "twoQub3 = qub6 + qub5\n",
    "\n",
    "print(twoQub3.subSys)\n",
    "print(qub6._dimsBefore, qub6._dimsAfter)\n",
    "print(qub5._dimsBefore, qub5._dimsAfter)\n",
    "print(qub6.freeMat.A)\n",
    "print(qub5.freeMat.A)"
   ]
  },
  {
   "cell_type": "markdown",
   "metadata": {},
   "source": [
    "In this notation, the order of the sub-system is again from left-to-right as in the `list` provided to `addSubSys`.\n",
    "\n",
    "Now, it might be obvious that we can reduce all of this into a single line as follows"
   ]
  },
  {
   "cell_type": "code",
   "execution_count": 8,
   "metadata": {},
   "outputs": [
    {
     "name": "stdout",
     "output_type": "stream",
     "text": [
      "{'Qubit7': <quanguru.classes.QSys.Qubit object at 0x1096beb50>, 'Qubit8': <quanguru.classes.QSys.Qubit object at 0x1096bec20>}\n"
     ]
    }
   ],
   "source": [
    "twoQub4 = qg.Qubit() + qg.Qubit()\n",
    "print(twoQub4.subSys)"
   ]
  },
  {
   "cell_type": "markdown",
   "metadata": {},
   "source": [
    "This short-hand is quite useful and clean, and notice that, in this case, the order of the sub-systems will match their creation order. But, the problem is that we now don't have any explicit references to our sub-systems, `Qubit7` and `Qubit8`, if we need them. Here, we want to print the `_dimsBefore` and `_dimsAfter` and `freeMat`, and knowing the name of our quantum systems and the fact that they are stored in the `subSys` dictionary, we can achieve this as below"
   ]
  },
  {
   "cell_type": "code",
   "execution_count": 9,
   "metadata": {},
   "outputs": [
    {
     "name": "stdout",
     "output_type": "stream",
     "text": [
      "1 2\n",
      "2 1\n",
      "[[ 0.5  0.   0.   0. ]\n",
      " [ 0.   0.5  0.   0. ]\n",
      " [ 0.   0.  -0.5  0. ]\n",
      " [ 0.   0.   0.  -0.5]]\n",
      "[[ 0.5  0.   0.   0. ]\n",
      " [ 0.  -0.5  0.   0. ]\n",
      " [ 0.   0.   0.5  0. ]\n",
      " [ 0.   0.   0.  -0.5]]\n"
     ]
    }
   ],
   "source": [
    "qub7 = twoQub4.subSys['Qubit7']\n",
    "qub8 = twoQub4.subSys['Qubit8']\n",
    "\n",
    "print(qub7._dimsBefore, qub7._dimsAfter)\n",
    "print(qub8._dimsBefore, qub8._dimsAfter)\n",
    "print(qub7.freeMat.A)\n",
    "print(qub8.freeMat.A)"
   ]
  },
  {
   "cell_type": "markdown",
   "metadata": {},
   "source": [
    "This obviously is not a cleaner approach, if we need explicit references to our objects. But, we generally don't need it, and all the functionalities of `QuanGuru` accepts the object `name`(or any of its `alias`) instead of a reference. We will cover such examples in future, but this basically means that we will need this explicit references in extreme cases."
   ]
  },
  {
   "cell_type": "markdown",
   "metadata": {},
   "source": [
    "## Create a composite quantum system using the $*$ operator\n",
    "\n",
    "If we want to create a quantum system with $n$ identical copies of a sub-system, we don't necessarily want to type all that $n$ times even if we are simply summing them. In such cases, we can use the $*$ operator as follows"
   ]
  },
  {
   "cell_type": "code",
   "execution_count": 10,
   "metadata": {},
   "outputs": [
    {
     "name": "stdout",
     "output_type": "stream",
     "text": [
      "{'Qubit9': <quanguru.classes.QSys.Qubit object at 0x1096becf0>, 'Qubit10': <quanguru.classes.QSys.Qubit object at 0x1096bedc0>, 'Qubit11': <quanguru.classes.QSys.Qubit object at 0x1096bee90>, 'Qubit12': <quanguru.classes.QSys.Qubit object at 0x1096bef60>}\n"
     ]
    }
   ],
   "source": [
    "fourQubit = 4*qg.Qubit(frequency=0.2)\n",
    "\n",
    "print(fourQubit.subSys)"
   ]
  },
  {
   "cell_type": "markdown",
   "metadata": {},
   "source": [
    "## $+$ operator on composite system\n",
    "\n",
    "We can use $+$ operators with composite quantum systems in two different ways.\n",
    "\n",
    "### Adding single system to an existing composite system with $+$ operator\n",
    "\n",
    "When we use $+$ operator between a single system and a composite system, it adds the single system into the composite system. Let's add more qubits to our `fourQubit` system."
   ]
  },
  {
   "cell_type": "code",
   "execution_count": 11,
   "metadata": {},
   "outputs": [
    {
     "name": "stdout",
     "output_type": "stream",
     "text": [
      "{'Qubit9': <quanguru.classes.QSys.Qubit object at 0x1096becf0>, 'Qubit10': <quanguru.classes.QSys.Qubit object at 0x1096bedc0>, 'Qubit11': <quanguru.classes.QSys.Qubit object at 0x1096bee90>, 'Qubit12': <quanguru.classes.QSys.Qubit object at 0x1096bef60>, 'Qubit13': <quanguru.classes.QSys.Qubit object at 0x1096bea80>}\n"
     ]
    }
   ],
   "source": [
    "# this notation will be intuitive to most\n",
    "# it is equivalent to fourQubit = fourQubit + qg.Qubit(frequency=1)\n",
    "# and it justs add another qubits to our fourQubit system\n",
    "fourQubit += qg.Qubit(frequency=1)\n",
    "\n",
    "print(fourQubit.subSys)"
   ]
  },
  {
   "cell_type": "code",
   "execution_count": 12,
   "metadata": {},
   "outputs": [
    {
     "name": "stdout",
     "output_type": "stream",
     "text": [
      "{'Qubit9': <quanguru.classes.QSys.Qubit object at 0x1096becf0>, 'Qubit10': <quanguru.classes.QSys.Qubit object at 0x1096bedc0>, 'Qubit11': <quanguru.classes.QSys.Qubit object at 0x1096bee90>, 'Qubit12': <quanguru.classes.QSys.Qubit object at 0x1096bef60>, 'Qubit13': <quanguru.classes.QSys.Qubit object at 0x1096bea80>, 'Qubit14': <quanguru.classes.QSys.Qubit object at 0x1096bf030>}\n",
      "0.2\n",
      "0.2\n",
      "0.2\n",
      "0.2\n",
      "1\n",
      "2\n"
     ]
    }
   ],
   "source": [
    "# add another to demonstrate alternative form of above\n",
    "fourQubit = fourQubit + qg.Qubit(frequency=2)\n",
    "print(fourQubit.subSys)\n",
    "\n",
    "for s in fourQubit.subSys.values():\n",
    "    print(s.frequency)"
   ]
  },
  {
   "cell_type": "markdown",
   "metadata": {},
   "source": [
    "### Combining composite system with $+$ operator\n",
    "\n",
    "We can use $+$ operator to combine two composite systems. This means that it creates a third composite system, whose sub-systems are the composite quantum systems which have their own sub-systems that can be single or composite systems, i.e. nested-composite-systems."
   ]
  },
  {
   "cell_type": "code",
   "execution_count": 13,
   "metadata": {},
   "outputs": [
    {
     "name": "stdout",
     "output_type": "stream",
     "text": [
      "{'QuantumSystem6': <quanguru.classes.QSys.compQSystem object at 0x1091d5a80>, 'QuantumSystem7': <quanguru.classes.QSys.compQSystem object at 0x1091d5620>}\n"
     ]
    }
   ],
   "source": [
    "# create a composite system of 4 qubits\n",
    "# first two of these are identical and have frequency=0.1\n",
    "# next two of these are identical and have frequency=0.2\n",
    "# we can achieve this simply by\n",
    "fourQubit2 = 2*qg.Qubit(frequency=0.1) + 2*qg.Qubit(frequency=0.2)\n",
    "\n",
    "print(fourQubit2.subSys)"
   ]
  },
  {
   "cell_type": "code",
   "execution_count": 14,
   "metadata": {},
   "outputs": [
    {
     "name": "stdout",
     "output_type": "stream",
     "text": [
      "{'Qubit15': <quanguru.classes.QSys.Qubit object at 0x1096bf100>, 'Qubit16': <quanguru.classes.QSys.Qubit object at 0x1096bf1d0>}\n",
      "{'Qubit17': <quanguru.classes.QSys.Qubit object at 0x1096bf2a0>, 'Qubit18': <quanguru.classes.QSys.Qubit object at 0x1096bf370>}\n"
     ]
    }
   ],
   "source": [
    "print(fourQubit2.subSys['QuantumSystem6'].subSys)\n",
    "print(fourQubit2.subSys['QuantumSystem7'].subSys)"
   ]
  },
  {
   "cell_type": "markdown",
   "metadata": {},
   "source": [
    "Notice that, in this case, our composite quantum system `fourQubit2` has two sub-systems that are themselves composite systems. This because `2*qg.Qubit()` creates a composite system, meaning that we add two composite systems to create `fourQubit2`.\n",
    "\n",
    "`QuanGuru` manages all the relevant information about the dimensions for us, and let's verify these."
   ]
  },
  {
   "cell_type": "code",
   "execution_count": 15,
   "metadata": {},
   "outputs": [
    {
     "name": "stdout",
     "output_type": "stream",
     "text": [
      "16\n",
      "\t 4 1 4\n",
      "\t\t 2 1 8\n",
      "\t\t 2 2 4\n",
      "\t 4 4 1\n",
      "\t\t 2 4 2\n",
      "\t\t 2 8 1\n"
     ]
    }
   ],
   "source": [
    "print(fourQubit2.dimension)\n",
    "for compSys in fourQubit2.subSys.values():\n",
    "    print('\\t', compSys.dimension, compSys._dimsBefore, compSys._dimsAfter)\n",
    "    for subs in compSys.subSys.values():\n",
    "        print('\\t\\t', subs.dimension, subs._dimsBefore, subs._dimsAfter)"
   ]
  },
  {
   "cell_type": "markdown",
   "metadata": {},
   "source": [
    "## How to remove a sub-system ?\n",
    "\n",
    "Now, what if we want to remove a sub-system ? This is where the `name` attribute comes extremely handy, because, in order to remove `Qubit15` from `fourQubit2`, all we need to do is"
   ]
  },
  {
   "cell_type": "code",
   "execution_count": 16,
   "metadata": {},
   "outputs": [
    {
     "name": "stdout",
     "output_type": "stream",
     "text": [
      "{'QuantumSystem6': <quanguru.classes.QSys.compQSystem object at 0x1091d5a80>, 'QuantumSystem7': <quanguru.classes.QSys.compQSystem object at 0x1091d5620>}\n",
      "{'Qubit15': <quanguru.classes.QSys.Qubit object at 0x1096bf100>, 'Qubit16': <quanguru.classes.QSys.Qubit object at 0x1096bf1d0>}\n",
      "{'Qubit18': <quanguru.classes.QSys.Qubit object at 0x1096bf370>}\n",
      "8\n",
      "\t 4 1 2\n",
      "\t\t 2 1 4\n",
      "\t\t 2 2 2\n",
      "\t 2 4 1\n",
      "\t\t 2 4 1\n"
     ]
    }
   ],
   "source": [
    "fourQubit2 - 'Qubit17'\n",
    "\n",
    "# the Qubit17 will be removed\n",
    "print(fourQubit2.subSys)\n",
    "print(fourQubit2.subSys['QuantumSystem6'].subSys)\n",
    "print(fourQubit2.subSys['QuantumSystem7'].subSys)\n",
    "\n",
    "# and all the dimension information are updated accordingly\n",
    "print(fourQubit2.dimension)\n",
    "for compSys in fourQubit2.subSys.values():\n",
    "    print('\\t', compSys.dimension, compSys._dimsBefore, compSys._dimsAfter)\n",
    "    for subs in compSys.subSys.values():\n",
    "        print('\\t\\t', subs.dimension, subs._dimsBefore, subs._dimsAfter)"
   ]
  },
  {
   "cell_type": "code",
   "execution_count": 17,
   "metadata": {},
   "outputs": [
    {
     "name": "stdout",
     "output_type": "stream",
     "text": [
      "{'QuantumSystem7': <quanguru.classes.QSys.compQSystem object at 0x1091d5620>}\n",
      "{'Qubit18': <quanguru.classes.QSys.Qubit object at 0x1096bf370>}\n",
      "2\n",
      "\t 2 1 1\n",
      "\t\t 2 1 1\n"
     ]
    }
   ],
   "source": [
    "# THIS IS A DUMMY PLOT FOR THE THUMBNAIL IN DOCUMENTATION WEBSITE# you can of course remove the composite system\n",
    "fourQubit2 - 'QuantumSystem6'\n",
    "\n",
    "# the QuantumSystem6 will be removed\n",
    "print(fourQubit2.subSys)\n",
    "#print(fourQubit2.subSys['QuantumSystem6'].subSys)\n",
    "print(fourQubit2.subSys['QuantumSystem7'].subSys)\n",
    "\n",
    "# and all the dimension information are updated accordingly\n",
    "print(fourQubit2.dimension)\n",
    "for compSys in fourQubit2.subSys.values():\n",
    "    print('\\t', compSys.dimension, compSys._dimsBefore, compSys._dimsAfter)\n",
    "    for subs in compSys.subSys.values():\n",
    "        print('\\t\\t', subs.dimension, subs._dimsBefore, subs._dimsAfter)"
   ]
  },
  {
   "cell_type": "code",
   "execution_count": 18,
   "metadata": {
    "tags": [
     "nbsphinx-thumbnail"
    ]
   },
   "outputs": [
    {
     "data": {
      "text/plain": [
       "[<matplotlib.lines.Line2D at 0x11ad7c9a0>]"
      ]
     },
     "execution_count": 18,
     "metadata": {},
     "output_type": "execute_result"
    },
    {
     "data": {
      "image/png": "[encoded data removed]",
      "text/plain": [
       "<Figure size 432x288 with 1 Axes>"
      ]
     },
     "metadata": {
      "needs_background": "light"
     },
     "output_type": "display_data"
    }
   ],
   "source": [
    "# THIS IS A DUMMY PLOT FOR THE THUMBNAIL IN DOCUMENTATION WEBSITE\n",
    "\n",
    "import matplotlib.pyplot as plt\n",
    "plt.plot([i/100 for i in range(100)], [(i/100)**20 for i in range(100)])"
   ]
  }
 ],
 "metadata": {
  "celltoolbar": "Tags",
  "interpreter": {
   "hash": "81ed76176e4f746ec85a2761650c2bf524db70acda0c76fd4138af02ba17b5a6"
  },
  "kernelspec": {
   "display_name": "Python 3 (ipykernel)",
   "language": "python",
   "name": "python3"
  },
  "language_info": {
   "codemirror_mode": {
    "name": "ipython",
    "version": 3
   },
   "file_extension": ".py",
   "mimetype": "text/x-python",
   "name": "python",
   "nbconvert_exporter": "python",
   "pygments_lexer": "ipython3",
   "version": "3.10.1"
  }
 },
 "nbformat": 4,
 "nbformat_minor": 2
}
