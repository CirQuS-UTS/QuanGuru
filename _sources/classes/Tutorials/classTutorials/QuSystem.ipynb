{
 "cells": [
  {
   "cell_type": "code",
   "execution_count": 1,
   "metadata": {},
   "outputs": [],
   "source": [
    "import quanguru.classes.QTerms as qt"
   ]
  },
  {
   "cell_type": "code",
   "execution_count": 2,
   "metadata": {},
   "outputs": [],
   "source": [
    "t1 = qt.QTerm()"
   ]
  },
  {
   "cell_type": "code",
   "execution_count": 3,
   "metadata": {},
   "outputs": [
    {
     "ename": "ValueError",
     "evalue": "No object with the given name/alias is found!",
     "output_type": "error",
     "traceback": [
      "\u001b[0;31m---------------------------------------------------------------------------\u001b[0m",
      "\u001b[0;31mValueError\u001b[0m                                Traceback (most recent call last)",
      "\u001b[1;32m/Volumes/T7/Dropbox/Codes/QuanGuru/docs/source/classes/Tutorials/classTutorials/QuSystem.ipynb Cell 3'\u001b[0m in \u001b[0;36m<module>\u001b[0;34m\u001b[0m\n\u001b[0;32m----> <a href='vscode-notebook-cell:/Volumes/T7/Dropbox/Codes/QuanGuru/docs/source/classes/Tutorials/classTutorials/QuSystem.ipynb#ch0000037?line=0'>1</a>\u001b[0m t1\u001b[39m.\u001b[39msuperSys \u001b[39m=\u001b[39m (\u001b[39m'\u001b[39m\u001b[39ma\u001b[39m\u001b[39m'\u001b[39m, \u001b[39m'\u001b[39m\u001b[39mb\u001b[39m\u001b[39m'\u001b[39m)\n",
      "File \u001b[0;32m/Volumes/T7/Dropbox/Codes/QuanGuru/src/quanguru/classes/QTerms.py:81\u001b[0m, in \u001b[0;36mQTerm.superSys\u001b[0;34m(self, sup)\u001b[0m\n\u001b[1;32m     <a href='file:///Volumes/T7/Dropbox/Codes/QuanGuru/src/quanguru/classes/QTerms.py?line=78'>79</a>\u001b[0m \u001b[39mself\u001b[39m\u001b[39m.\u001b[39m_QTerm__operator \u001b[39m=\u001b[39m \u001b[39mNone\u001b[39;00m \u001b[39m# pylint: disable=assigning-non-slot\u001b[39;00m\n\u001b[1;32m     <a href='file:///Volumes/T7/Dropbox/Codes/QuanGuru/src/quanguru/classes/QTerms.py?line=79'>80</a>\u001b[0m \u001b[39mself\u001b[39m\u001b[39m.\u001b[39mresetSubSys()\n\u001b[0;32m---> <a href='file:///Volumes/T7/Dropbox/Codes/QuanGuru/src/quanguru/classes/QTerms.py?line=80'>81</a>\u001b[0m sup \u001b[39m=\u001b[39m [\u001b[39mself\u001b[39m\u001b[39m.\u001b[39mgetByNameOrAlias(qsys) \u001b[39mfor\u001b[39;00m qsys \u001b[39min\u001b[39;00m sup]\n\u001b[1;32m     <a href='file:///Volumes/T7/Dropbox/Codes/QuanGuru/src/quanguru/classes/QTerms.py?line=81'>82</a>\u001b[0m \u001b[39mfor\u001b[39;00m qsys \u001b[39min\u001b[39;00m sup:\n\u001b[1;32m     <a href='file:///Volumes/T7/Dropbox/Codes/QuanGuru/src/quanguru/classes/QTerms.py?line=82'>83</a>\u001b[0m     \u001b[39mself\u001b[39m\u001b[39m.\u001b[39maddSubSys(QTerm(superSys\u001b[39m=\u001b[39mqsys, _internal\u001b[39m=\u001b[39m\u001b[39m'\u001b[39m\u001b[39mTrue\u001b[39m\u001b[39m'\u001b[39m))\n",
      "File \u001b[0;32m/Volumes/T7/Dropbox/Codes/QuanGuru/src/quanguru/classes/QTerms.py:81\u001b[0m, in \u001b[0;36m<listcomp>\u001b[0;34m(.0)\u001b[0m\n\u001b[1;32m     <a href='file:///Volumes/T7/Dropbox/Codes/QuanGuru/src/quanguru/classes/QTerms.py?line=78'>79</a>\u001b[0m \u001b[39mself\u001b[39m\u001b[39m.\u001b[39m_QTerm__operator \u001b[39m=\u001b[39m \u001b[39mNone\u001b[39;00m \u001b[39m# pylint: disable=assigning-non-slot\u001b[39;00m\n\u001b[1;32m     <a href='file:///Volumes/T7/Dropbox/Codes/QuanGuru/src/quanguru/classes/QTerms.py?line=79'>80</a>\u001b[0m \u001b[39mself\u001b[39m\u001b[39m.\u001b[39mresetSubSys()\n\u001b[0;32m---> <a href='file:///Volumes/T7/Dropbox/Codes/QuanGuru/src/quanguru/classes/QTerms.py?line=80'>81</a>\u001b[0m sup \u001b[39m=\u001b[39m [\u001b[39mself\u001b[39;49m\u001b[39m.\u001b[39;49mgetByNameOrAlias(qsys) \u001b[39mfor\u001b[39;00m qsys \u001b[39min\u001b[39;00m sup]\n\u001b[1;32m     <a href='file:///Volumes/T7/Dropbox/Codes/QuanGuru/src/quanguru/classes/QTerms.py?line=81'>82</a>\u001b[0m \u001b[39mfor\u001b[39;00m qsys \u001b[39min\u001b[39;00m sup:\n\u001b[1;32m     <a href='file:///Volumes/T7/Dropbox/Codes/QuanGuru/src/quanguru/classes/QTerms.py?line=82'>83</a>\u001b[0m     \u001b[39mself\u001b[39m\u001b[39m.\u001b[39maddSubSys(QTerm(superSys\u001b[39m=\u001b[39mqsys, _internal\u001b[39m=\u001b[39m\u001b[39m'\u001b[39m\u001b[39mTrue\u001b[39m\u001b[39m'\u001b[39m))\n",
      "File \u001b[0;32m/Volumes/T7/Dropbox/Codes/QuanGuru/src/quanguru/classes/base.py:396\u001b[0m, in \u001b[0;36mnamed.getByNameOrAlias\u001b[0;34m(self, name)\u001b[0m\n\u001b[1;32m    <a href='file:///Volumes/T7/Dropbox/Codes/QuanGuru/src/quanguru/classes/base.py?line=393'>394</a>\u001b[0m \u001b[39mif\u001b[39;00m \u001b[39misinstance\u001b[39m(name, named):\n\u001b[1;32m    <a href='file:///Volumes/T7/Dropbox/Codes/QuanGuru/src/quanguru/classes/base.py?line=394'>395</a>\u001b[0m     \u001b[39mreturn\u001b[39;00m name\n\u001b[0;32m--> <a href='file:///Volumes/T7/Dropbox/Codes/QuanGuru/src/quanguru/classes/base.py?line=395'>396</a>\u001b[0m obj \u001b[39m=\u001b[39m checkNotVal(\u001b[39mself\u001b[39;49m\u001b[39m.\u001b[39;49m_allInstaces\u001b[39m.\u001b[39;49mget(name), \u001b[39mNone\u001b[39;49;00m,\n\u001b[1;32m    <a href='file:///Volumes/T7/Dropbox/Codes/QuanGuru/src/quanguru/classes/base.py?line=396'>397</a>\u001b[0m                    \u001b[39m\"\u001b[39;49m\u001b[39mNo object with the given name/alias is found!\u001b[39;49m\u001b[39m\"\u001b[39;49m)\n\u001b[1;32m    <a href='file:///Volumes/T7/Dropbox/Codes/QuanGuru/src/quanguru/classes/base.py?line=397'>398</a>\u001b[0m \u001b[39mreturn\u001b[39;00m obj \u001b[39mif\u001b[39;00m \u001b[39misinstance\u001b[39m(obj, named) \u001b[39melse\u001b[39;00m obj()\n",
      "File \u001b[0;32m/Volumes/T7/Dropbox/Codes/QuanGuru/src/quanguru/classes/exceptions.py:47\u001b[0m, in \u001b[0;36mcheckNotVal\u001b[0;34m(someObj, val, msg)\u001b[0m\n\u001b[1;32m     <a href='file:///Volumes/T7/Dropbox/Codes/QuanGuru/src/quanguru/classes/exceptions.py?line=44'>45</a>\u001b[0m \u001b[39mdef\u001b[39;00m \u001b[39mcheckNotVal\u001b[39m(someObj, val, msg):\n\u001b[1;32m     <a href='file:///Volumes/T7/Dropbox/Codes/QuanGuru/src/quanguru/classes/exceptions.py?line=45'>46</a>\u001b[0m     \u001b[39mif\u001b[39;00m someObj \u001b[39m==\u001b[39m val:\n\u001b[0;32m---> <a href='file:///Volumes/T7/Dropbox/Codes/QuanGuru/src/quanguru/classes/exceptions.py?line=46'>47</a>\u001b[0m         \u001b[39mraise\u001b[39;00m \u001b[39mValueError\u001b[39;00m(msg)\n\u001b[1;32m     <a href='file:///Volumes/T7/Dropbox/Codes/QuanGuru/src/quanguru/classes/exceptions.py?line=47'>48</a>\u001b[0m     \u001b[39mreturn\u001b[39;00m someObj\n",
      "\u001b[0;31mValueError\u001b[0m: No object with the given name/alias is found!"
     ]
    }
   ],
   "source": [
    "t1.superSys = ('a', 'b')"
   ]
  },
  {
   "cell_type": "code",
   "execution_count": null,
   "metadata": {},
   "outputs": [],
   "source": [
    "t1.subSys"
   ]
  },
  {
   "cell_type": "code",
   "execution_count": null,
   "metadata": {},
   "outputs": [],
   "source": [
    "t1.superSys = ('a', 'c')"
   ]
  },
  {
   "cell_type": "code",
   "execution_count": null,
   "metadata": {},
   "outputs": [],
   "source": []
  },
  {
   "cell_type": "code",
   "execution_count": null,
   "metadata": {},
   "outputs": [],
   "source": []
  },
  {
   "cell_type": "code",
   "execution_count": null,
   "metadata": {},
   "outputs": [],
   "source": []
  },
  {
   "cell_type": "code",
   "execution_count": null,
   "metadata": {},
   "outputs": [],
   "source": []
  },
  {
   "cell_type": "code",
   "execution_count": null,
   "metadata": {},
   "outputs": [],
   "source": [
    "st = qSts.densityMatrix([qSts.basis(4, 1), qSts.basis(4, 0)], [0.25, 0.75])"
   ]
  },
  {
   "cell_type": "code",
   "execution_count": null,
   "metadata": {},
   "outputs": [],
   "source": [
    "st.A"
   ]
  },
  {
   "cell_type": "code",
   "execution_count": null,
   "metadata": {},
   "outputs": [],
   "source": [
    "print(st[0][:, 0] == 0.75)"
   ]
  },
  {
   "cell_type": "code",
   "execution_count": null,
   "metadata": {},
   "outputs": [],
   "source": []
  },
  {
   "cell_type": "code",
   "execution_count": null,
   "metadata": {},
   "outputs": [],
   "source": [
    "cls = QSys.QuSystem\n",
    "qsys = cls(dimension=4)\n",
    "\n",
    "initState = qsys._createInitialState({0:0.1, 1:0.2, 2:0.3, 3:0.4})"
   ]
  },
  {
   "cell_type": "code",
   "execution_count": null,
   "metadata": {},
   "outputs": [],
   "source": [
    "initState.A"
   ]
  },
  {
   "cell_type": "code",
   "execution_count": null,
   "metadata": {},
   "outputs": [],
   "source": [
    "import numpy as np\n",
    "\n",
    "np.sqrt(0.2)"
   ]
  },
  {
   "cell_type": "code",
   "execution_count": null,
   "metadata": {},
   "outputs": [],
   "source": []
  },
  {
   "cell_type": "code",
   "execution_count": null,
   "metadata": {},
   "outputs": [],
   "source": [
    "qsystem1 = QSys.QuSystem()\n",
    "qsystem2 = QSys.QuSystem()\n",
    "\n",
    "asystem1 = QSys.QuSystem(dimension=2)\n",
    "asystem2 = QSys.QuSystem(dimension = 3)\n",
    "asystem3 = QSys.QuSystem(dimension = 4)\n",
    "asystem4 = QSys.QuSystem(dimension = 5)\n",
    "\n",
    "qsystem1.addSubSys(asystem1)\n",
    "qsystem1.addSubSys(asystem2)\n",
    "\n",
    "qsystem2.addSubSys(asystem3)\n",
    "qsystem2.addSubSys(asystem4)\n",
    "\n",
    "asystem1._dimsAfter, asystem1._dimsBefore, asystem2._dimsAfter, asystem2._dimsBefore"
   ]
  },
  {
   "cell_type": "code",
   "execution_count": null,
   "metadata": {},
   "outputs": [],
   "source": [
    "for qsys in [asystem1, asystem2, asystem3, asystem4]:\n",
    "    print(qsys.dimension, qsys._totalDim, qsys._dimsAfter, qsys._dimsBefore)"
   ]
  },
  {
   "cell_type": "code",
   "execution_count": null,
   "metadata": {},
   "outputs": [],
   "source": [
    "qsystem3 = QSys.QuSystem(subSys=[qsystem1, qsystem2])"
   ]
  },
  {
   "cell_type": "code",
   "execution_count": null,
   "metadata": {},
   "outputs": [],
   "source": [
    "for qsys in [asystem1, asystem2, asystem3, asystem4]:\n",
    "    print(qsys.dimension, qsys._totalDim, qsys._dimsAfter, qsys._dimsBefore)"
   ]
  },
  {
   "cell_type": "code",
   "execution_count": null,
   "metadata": {},
   "outputs": [],
   "source": [
    "qsystem1.ind, qsystem2.ind, asystem1.ind, asystem2.ind, asystem3.ind, asystem4.ind"
   ]
  },
  {
   "cell_type": "code",
   "execution_count": null,
   "metadata": {},
   "outputs": [],
   "source": [
    "asystem2.dimension = 2"
   ]
  },
  {
   "cell_type": "code",
   "execution_count": null,
   "metadata": {},
   "outputs": [],
   "source": [
    "for qsys in [asystem1, asystem2, asystem3, asystem4]:\n",
    "    print(qsys.dimension, qsys._totalDim, qsys._dimsAfter, qsys._dimsBefore)"
   ]
  },
  {
   "cell_type": "code",
   "execution_count": null,
   "metadata": {},
   "outputs": [],
   "source": []
  },
  {
   "cell_type": "code",
   "execution_count": null,
   "metadata": {},
   "outputs": [],
   "source": []
  },
  {
   "cell_type": "code",
   "execution_count": null,
   "metadata": {},
   "outputs": [],
   "source": []
  },
  {
   "cell_type": "code",
   "execution_count": null,
   "metadata": {},
   "outputs": [],
   "source": [
    "asystem2.dimension = 5"
   ]
  },
  {
   "cell_type": "code",
   "execution_count": null,
   "metadata": {},
   "outputs": [],
   "source": [
    "qsystem.dimension"
   ]
  },
  {
   "cell_type": "code",
   "execution_count": null,
   "metadata": {},
   "outputs": [],
   "source": [
    "asystem1._dimsAfter, asystem1._dimsBefore, asystem2._dimsAfter, asystem2._dimsBefore"
   ]
  },
  {
   "cell_type": "code",
   "execution_count": null,
   "metadata": {},
   "outputs": [],
   "source": []
  },
  {
   "cell_type": "code",
   "execution_count": null,
   "metadata": {},
   "outputs": [],
   "source": [
    "qsystem.subSys"
   ]
  },
  {
   "cell_type": "code",
   "execution_count": null,
   "metadata": {},
   "outputs": [],
   "source": [
    "asystem1 = QSys.QuSystem(dimension=3)"
   ]
  },
  {
   "cell_type": "code",
   "execution_count": null,
   "metadata": {},
   "outputs": [],
   "source": [
    "asystem1.dimension"
   ]
  },
  {
   "cell_type": "code",
   "execution_count": null,
   "metadata": {},
   "outputs": [],
   "source": [
    "singleSys = QSys.QuSystem()\n",
    "singleSys._QuSystem__compSys = False\n",
    "\n",
    "anotherSys = QSys.QuSystem()\n",
    "\n",
    "singleSys.addSubSys(anotherSys)"
   ]
  },
  {
   "cell_type": "code",
   "execution_count": null,
   "metadata": {},
   "outputs": [],
   "source": [
    "singleSys2 = QSys.QuSystem()\n",
    "singleSys2.dimension = 2\n",
    "\n",
    "print(singleSys2._QuSystem__compSys)\n",
    "\n",
    "anotherSys = QSys.QuSystem()\n",
    "\n",
    "singleSys2.addSubSys(anotherSys)"
   ]
  },
  {
   "cell_type": "code",
   "execution_count": null,
   "metadata": {},
   "outputs": [],
   "source": [
    "singleSys.subSys"
   ]
  },
  {
   "cell_type": "code",
   "execution_count": null,
   "metadata": {},
   "outputs": [],
   "source": []
  }
 ],
 "metadata": {
  "interpreter": {
   "hash": "84140f987c0b0e0a7cc73ab2dfca74e3b05f3f4edb0e1638e7975794196701df"
  },
  "kernelspec": {
   "display_name": "Python 3.10.1 64-bit ('QuanGuruDev': venv)",
   "language": "python",
   "name": "python3"
  },
  "language_info": {
   "codemirror_mode": {
    "name": "ipython",
    "version": 3
   },
   "file_extension": ".py",
   "mimetype": "text/x-python",
   "name": "python",
   "nbconvert_exporter": "python",
   "pygments_lexer": "ipython3",
   "version": "3.10.1"
  },
  "orig_nbformat": 4
 },
 "nbformat": 4,
 "nbformat_minor": 2
}
