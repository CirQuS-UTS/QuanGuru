{
 "cells": [
  {
   "cell_type": "code",
   "execution_count": 1,
   "metadata": {},
   "outputs": [],
   "source": [
    "import quanguru as qg"
   ]
  },
  {
   "cell_type": "markdown",
   "metadata": {},
   "source": [
    "# updateBase\n",
    "\n",
    "This the base class for the `_sweep` and `Update` classes.\n",
    "\n",
    "`_sweep` objects are used/created internally with/by the `Sweep` class, and, as their names suggest, these are used to sweep parameters.\n",
    "\n",
    "`Update` is created by the user when a certain parameter need to be updated in a certain step of a protocol.\n",
    "\n",
    "In both of these cases, the parameter that needs to be changed is just the value of an attribute in some other object/s.\n",
    "This task requires 3 information: which object/s?, which attribute ? (its name), and what is the value of the attribute?\n",
    "`updateBase` implements the first two and expects the value to be provided.\n",
    "So, first let's see how updateBase is used, and explain its details later.\n",
    "\n",
    "In below examples, I will use `Qubit` objects, but `updateBase` works with any `named` and their attributes.\n",
    "Actually, NOTE THAT `updateBase` works only with `named` objects or the `_auxiliaryClass`.\n",
    "This is a deliberate design choice, and it specifically looks for the type of the given object/s and rejects other types of object. Without this type restriction, the functionality of `updateBase` would work for any object and its attribute, but it could create undefined behaviors for the sweeps.\n",
    "Still, there are ways to go around of this restriction, in case it might be needed for advanced users.\n",
    "I start by showing this hack but don't really recommend this hack unless you are absolutely sure what you are doing."
   ]
  },
  {
   "cell_type": "code",
   "execution_count": 2,
   "metadata": {},
   "outputs": [
    {
     "name": "stdout",
     "output_type": "stream",
     "text": [
      "5\n",
      "1\n"
     ]
    }
   ],
   "source": [
    "# so, first let's create a dummy class\n",
    "class testClass:#pylint:disable=too-few-public-methods\n",
    "    def __init__(self) -> None:\n",
    "        super().__init__()\n",
    "\n",
    "ob1 = testClass()\n",
    "# create and set an attribute to it\n",
    "setattr(ob1, \"newAttribute\", 5)\n",
    "\n",
    "# now, we can change the value of this newAttribute with an updateBase as follows\n",
    "s0 = qg.baseClasses.updateBase(key='newAttribute')\n",
    "# explicitly add this object in the name mangled `_qBase__subSys` dictionary with some arbitrary key\n",
    "s0._qBase__subSys[\"testClass\"] = ob1\n",
    "\n",
    "# print the current newAttribute\n",
    "print(ob1.newAttribute)\n",
    "\n",
    "# run the update as follows with the new value for the newAttribute\n",
    "s0._runUpdate(1)\n",
    "# print the updated/current newAttribute\n",
    "print(ob1.newAttribute)\n"
   ]
  },
  {
   "cell_type": "markdown",
   "metadata": {},
   "source": [
    "Having covered some arbitrary object, I will use `named` objects from this point on, and, when I simply say object, I will mean a `named` object in all my explanations.\n",
    "\n",
    "So, first let's cover the easiest case: we have a single object, and we have an explicit reference to it."
   ]
  },
  {
   "cell_type": "code",
   "execution_count": 3,
   "metadata": {},
   "outputs": [
    {
     "name": "stdout",
     "output_type": "stream",
     "text": [
      "1 2\n",
      "3 2\n",
      "3 5\n"
     ]
    }
   ],
   "source": [
    "# say we have the below Qubit objects with the references qub1, qub2\n",
    "qub1 = qg.Qubit(frequency=1)\n",
    "qub2 = qg.Qubit(frequency=2)\n",
    "# and, we want to change their frequencies through a sweep or update\n",
    "\n",
    "# we can create an updateBase object as follows\n",
    "# by providing the reference qub1 and the name of the attribute 'frequency'\n",
    "s1 = qg.baseClasses.updateBase(system=qub1, key='frequency')\n",
    "\n",
    "# you can also create an update first, and set the system and key after that\n",
    "s2 = qg.baseClasses.updateBase()\n",
    "s2.system = qub2\n",
    "s2.key = 'frequency'\n",
    "\n",
    "# print the current qubit frequency\n",
    "print(qub1.frequency, qub2.frequency)\n",
    "\n",
    "# run the update as follows with the new value for the frequency\n",
    "s1._runUpdate(3)\n",
    "print(qub1.frequency, qub2.frequency)\n",
    "s2._runUpdate(5)\n",
    "# print the updated/current frequency\n",
    "print(qub1.frequency, qub2.frequency)"
   ]
  },
  {
   "cell_type": "markdown",
   "metadata": {},
   "source": [
    "Now, let's say we want to update the same attribute for more than one objects to the same value.\n",
    "\n",
    "Even further, let's say we created these objects in a way that we don't have an explicit reference to them.\n",
    "\n",
    "In this case, we first of all don't want to create several updateBases for each object to update same attribute to the same value.\n",
    "What we want is that, instead of a single object reference, we just give a list of `system` objects to the updateBase.\n",
    "\n",
    "Even further, we could just use their names or aliases, if we don't have an explicit reference to them. After all the names and aliases of `named` object are unique."
   ]
  },
  {
   "cell_type": "code",
   "execution_count": 4,
   "metadata": {},
   "outputs": [
    {
     "name": "stdout",
     "output_type": "stream",
     "text": [
      "[1, 1, 1] 5\n",
      "[3, 3, 3] 3\n"
     ]
    }
   ],
   "source": [
    "# above situation might happen when we create composite system with + operator as follows\n",
    "threeQubits = qg.Qubit(frequency=1) + qg.Qubit(frequency=1, alias='qub3') +  qg.Qubit(frequency=1, alias=['qub4', \"4\"])\n",
    "\n",
    "# now we don't have explicit references to the individual qubits\n",
    "# still, we could get references to them using getByNameOrAlias\n",
    "# but updateBase do that for us\n",
    "# so let's pass a list containing the name and aliases of our qubits\n",
    "# we know that the left most one is Qubit3 (because we created only 2 other qubits before this cell),\n",
    "# and for the other two, we gave them aliases, so we can use any alias we want\n",
    "# this shows the importance of an alias and why it needs to be unique,\n",
    "# with aliases, we don't have to track the number of qubits created above,\n",
    "# also, it might not be clear to everyone if the left-most or right-most is Qubit3\n",
    "s3 = qg.baseClasses.updateBase(system=['Qubit3', 'qub3', \"4\"], key='frequency')\n",
    "\n",
    "# also you can add more systems into this update as\n",
    "s3.system = 'Qubit2' # this does not remove/replace the existing list, but adds the Qubit2 into it\n",
    "\n",
    "# let's print the current frequencies\n",
    "print( [q.frequency for q in threeQubits.subSys.values()] , qub2.frequency)\n",
    "# run the update as follows with the new value for the frequency\n",
    "s3._runUpdate(3)\n",
    "# print the updated/current frequency\n",
    "print( [q.frequency for q in threeQubits.subSys.values()] , qub2.frequency)"
   ]
  },
  {
   "cell_type": "markdown",
   "metadata": {},
   "source": [
    "As noted above, the `updateBase` can also work with the `_auxiliaryClass` so that we may sweep/update our auxiliary information stored in the `auxObj` class attribute of `qBase`, which is an `_auxiliaryClass` instance."
   ]
  },
  {
   "cell_type": "code",
   "execution_count": 5,
   "metadata": {},
   "outputs": [
    {
     "name": "stdout",
     "output_type": "stream",
     "text": [
      "3\n",
      "2\n"
     ]
    }
   ],
   "source": [
    "# let's create a Qubit (which is a qBase instance), and store something in auxObj\n",
    "qa = qg.Qubit()\n",
    "qa.auxObj.someAuxInfo = 3\n",
    "\n",
    "s4 = qg.baseClasses.updateBase(system=qa.auxObj, key='someAuxInfo')\n",
    "\n",
    "# let's print the current someAuxInfo\n",
    "print( qa.auxObj.someAuxInfo )\n",
    "# run the update as follows with the new value for the someAuxInfo\n",
    "s4._runUpdate(2)\n",
    "# print the updated/current someAuxInfo\n",
    "print( qa.auxObj.someAuxInfo )"
   ]
  },
  {
   "cell_type": "markdown",
   "metadata": {},
   "source": [
    "Further, it also can change the value inside the `aux` dictionary of `qBase` as follows"
   ]
  },
  {
   "cell_type": "code",
   "execution_count": 6,
   "metadata": {},
   "outputs": [
    {
     "name": "stdout",
     "output_type": "stream",
     "text": [
      "10\n",
      "1\n"
     ]
    }
   ],
   "source": [
    "# let's use the above qubit to store some value in aux dictionary\n",
    "qa.auxDict['some key'] = 10\n",
    "\n",
    "# let's create a updateBase, but this time we won't give system, but set _aux to True\n",
    "s5 = qg.baseClasses.updateBase(_aux=True, key='some key')\n",
    "# let's print the current aux['some key']\n",
    "print( qa.auxDict['some key'] )\n",
    "# run the update as follows with the new value for the aux['some key']\n",
    "s5._runUpdate(1)\n",
    "# print the updated/current aux['some key']\n",
    "print( qa.auxDict['some key'] )"
   ]
  },
  {
   "cell_type": "markdown",
   "metadata": {},
   "source": [
    "Now, let's discuss some of the implementation details.\n",
    "\n",
    "- `system` is just another name for `subSys`. This is implemented to create terminology. Otherwise, above examples would work exactly the same if we had used `subSys`. So, we can achieve the same things, like using object name/alias etc., that can achieve with `subSys` using `system`. \n",
    "- the only difference is that the `system` getter returns a list (values in the `subSys` dictionary), `subSys` getter returns a dictionary\n",
    "- name of the attribute that we want to update is stored in `key`, as it is obvious from above\n",
    "- `_runUpdate` is the default update behavior, and if we want to have some other custom function, we can store it in the `__function` attribute, which is used inside the child classes.\n",
    "- `_aux` boolean is to indicate that we are updating the `aux` dictionary."
   ]
  },
  {
   "cell_type": "code",
   "execution_count": null,
   "metadata": {},
   "outputs": [],
   "source": []
  }
 ],
 "metadata": {
  "interpreter": {
   "hash": "84140f987c0b0e0a7cc73ab2dfca74e3b05f3f4edb0e1638e7975794196701df"
  },
  "kernelspec": {
   "display_name": "Python 3.10.1 64-bit ('QuanGuruDev': venv)",
   "language": "python",
   "name": "python3"
  },
  "language_info": {
   "codemirror_mode": {
    "name": "ipython",
    "version": 3
   },
   "file_extension": ".py",
   "mimetype": "text/x-python",
   "name": "python",
   "nbconvert_exporter": "python",
   "pygments_lexer": "ipython3",
   "version": "3.10.1"
  },
  "orig_nbformat": 4
 },
 "nbformat": 4,
 "nbformat_minor": 2
}
