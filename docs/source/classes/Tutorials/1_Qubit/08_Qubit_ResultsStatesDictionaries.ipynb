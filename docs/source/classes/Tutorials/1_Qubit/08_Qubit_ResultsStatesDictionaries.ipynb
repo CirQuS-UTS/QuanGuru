{
 "cells": [
  {
   "cell_type": "code",
   "execution_count": 1,
   "metadata": {},
   "outputs": [],
   "source": [
    "import quanguru as qg"
   ]
  },
  {
   "cell_type": "markdown",
   "metadata": {},
   "source": [
    "# 8 - qRes attribute: an intro to Results objects\n",
    "\n",
    "This tutorial introduces the `qRes` attribute of `QuantumSystem` objects.\n",
    "`qRes` itself is also an object, but, for almost all cases, we do not need to create it explicitly.\n",
    "All the relevant objects (like `QuantumSystem`) already come with a `qRes` attribute, and the purpose of this tutorial is to explain its basics.\n",
    "\n",
    "Let's first create a `QuantumSystem` "
   ]
  },
  {
   "cell_type": "code",
   "execution_count": 2,
   "metadata": {},
   "outputs": [],
   "source": [
    "qub = qg.QuantumSystem()"
   ]
  },
  {
   "cell_type": "markdown",
   "metadata": {},
   "source": [
    "The `qRes` attribute is an instance of `qResults` class."
   ]
  },
  {
   "cell_type": "code",
   "execution_count": 3,
   "metadata": {},
   "outputs": [
    {
     "name": "stdout",
     "output_type": "stream",
     "text": [
      "<class 'quanguru.classes.QRes.qResults'>\n"
     ]
    }
   ],
   "source": [
    "print(qub.qRes.__class__)"
   ]
  },
  {
   "cell_type": "markdown",
   "metadata": {},
   "source": [
    "`qResults` objects have two main dictionaries (specifically `defaultdict`) to store `states` and `results`.\n",
    "Here, the `states` means the state of the quantum system as a function of time, \n",
    "and the `results` means any other quantity (like expectation values) that we compute as a function of time.\n",
    "\n",
    "The library takes care of storing the states, and the users only need to store the results of their computation, which will be covered in later tutorials.\n",
    "In this tutorial, we explain how to reach these attributes and store some quantity in them.\n",
    "\n",
    "We can reach `states` and `results` through the `qRes` attribute as below, which are just empty `defaultdict`."
   ]
  },
  {
   "cell_type": "code",
   "execution_count": 4,
   "metadata": {},
   "outputs": [
    {
     "name": "stdout",
     "output_type": "stream",
     "text": [
      "defaultdict(<class 'list'>, {}) defaultdict(<class 'list'>, {})\n"
     ]
    }
   ],
   "source": [
    "print(qub.qRes.states, qub.qRes.resultsDict)"
   ]
  },
  {
   "cell_type": "markdown",
   "metadata": {},
   "source": [
    "and, for internally created `qRes`, we can do the same thing also through the `QuantumSystem` (by omitting the `.qRes`)"
   ]
  },
  {
   "cell_type": "code",
   "execution_count": 5,
   "metadata": {},
   "outputs": [
    {
     "name": "stdout",
     "output_type": "stream",
     "text": [
      "True True\n"
     ]
    }
   ],
   "source": [
    "print(qub.qRes.states is qub.states, qub.qRes.resultsDict is qub.resultsDict)"
   ]
  },
  {
   "cell_type": "markdown",
   "metadata": {},
   "source": [
    "As explained above, the library internally manages the state storage, so we do not need to worry about how to store the states.\n",
    "We will cover more examples for `states` in later tutorials and focus on storing `results` in here.\n",
    "\n",
    "Since these attributes are simply `defaultdict` that create an empty `list` as default for a given key, we can use any key to store a list of values as below"
   ]
  },
  {
   "cell_type": "code",
   "execution_count": 6,
   "metadata": {},
   "outputs": [
    {
     "name": "stdout",
     "output_type": "stream",
     "text": [
      "[1, 2, 3, 4, 5, 6, 7, 8, 9, 10]\n"
     ]
    }
   ],
   "source": [
    "# store some values\n",
    "for i in range(10):\n",
    "    qub.resultsDict[\"1to10\"].append(i+1)\n",
    "# print those values\n",
    "print(qub.resultsDict[\"1to10\"])"
   ]
  },
  {
   "cell_type": "markdown",
   "metadata": {},
   "source": [
    "We will cover when and how to use above, but, for now, the key point here is that you can simply call append with an arbitrary key, because `.resultsDict` returns a `defaultdict`.\n",
    "\n",
    "`qResults` objects actually uses `setter/getter` and provide an alternative notation for the same task as below.\n",
    "Notice that, in this case, we use `.result` (not `results`) as it is a different setter.\n",
    "As noted above, we will cover where and how these will be used, and don't worry if you don't understand the implementation details."
   ]
  },
  {
   "cell_type": "code",
   "execution_count": 7,
   "metadata": {},
   "outputs": [
    {
     "name": "stdout",
     "output_type": "stream",
     "text": [
      "[11, 12, 13, 14, 15, 16, 17, 18, 19, 20]\n"
     ]
    }
   ],
   "source": [
    "# store some values\n",
    "for i in range(10):\n",
    "    qub.qRes.singleResult = [\"11to20\", i+11]\n",
    "# print those values\n",
    "print(qub.resultsDict[\"11to20\"])"
   ]
  }
 ],
 "metadata": {
  "celltoolbar": "Tags",
  "interpreter": {
   "hash": "3fd283e6a4d75c9fb42416bb09bfa1694f19037e43f7d28b23f5e28faca2e98f"
  },
  "kernelspec": {
   "display_name": "Python 3.9.12 ('QuanGuruLocal')",
   "language": "python",
   "name": "python3"
  },
  "language_info": {
   "codemirror_mode": {
    "name": "ipython",
    "version": 3
   },
   "file_extension": ".py",
   "mimetype": "text/x-python",
   "name": "python",
   "nbconvert_exporter": "python",
   "pygments_lexer": "ipython3",
   "version": "3.9.12"
  }
 },
 "nbformat": 4,
 "nbformat_minor": 2
}
