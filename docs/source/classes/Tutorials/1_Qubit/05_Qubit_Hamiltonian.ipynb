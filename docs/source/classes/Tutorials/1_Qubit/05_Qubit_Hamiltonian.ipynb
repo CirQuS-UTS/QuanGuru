{
 "cells": [
  {
   "cell_type": "code",
   "execution_count": 1,
   "metadata": {},
   "outputs": [],
   "source": [
    "import quanguru as qg\n",
    "\n",
    "# QuanGuru uses sparse matrices by default, \n",
    "# but sparse matrices are not easily readable when we print them\n",
    "# so, in below examples, we use .A to print them as arrays"
   ]
  },
  {
   "cell_type": "markdown",
   "metadata": {},
   "source": [
    "# 5 - Hamiltonian of a quantum system (cont.)\n",
    "\n",
    "This tutorial demonstrates how to describe the Hamiltonian of a quantum system in QuanGuru.\n",
    "\n",
    "In this example, we use the `QuantumSystem` object to create a quantum system and describe the desired Hamiltonian.\n",
    "\n",
    "## Single Term\n",
    "Let's start with a very simple (single qubit) Hamiltonian\n",
    "\n",
    "$H = \\frac{1}{2}f_{z}\\sigma_{z}$\n",
    "\n",
    "Here, the *relevant* information are\n",
    "\n",
    "- frequency : $\\frac{1}{2}f_{z}$ (say 0.5 where $f_{z} = 1$)\n",
    "- operator : $\\sigma_{z}$\n",
    "- dimension : 2\n",
    "\n",
    "and, we create a quantum system with this Hamiltonian as below"
   ]
  },
  {
   "cell_type": "code",
   "execution_count": 2,
   "metadata": {},
   "outputs": [
    {
     "name": "stdout",
     "output_type": "stream",
     "text": [
      "[[ 1  0]\n",
      " [ 0 -1]]\n",
      "[[ 0.5  0. ]\n",
      " [ 0.  -0.5]]\n"
     ]
    }
   ],
   "source": [
    "# note that you don't have to specify all these information at instantiation,\n",
    "# but, if you are using QuantumSystem class, it is required that you at least specify one of them.\n",
    "qs = qg.QuantumSystem(frequency=0.5, operator=qg.sigmaz, dimension=2)\n",
    "\n",
    "# print the _freeMatrix of the system, which is just the bare matrix for the operator\n",
    "print(qs._freeMatrix.A)\n",
    "# print the total-Hamiltonian of the system\n",
    "print(qs.totalHamiltonian.A)"
   ]
  },
  {
   "cell_type": "markdown",
   "metadata": {},
   "source": [
    "Notice that the `operator` of the `QuantumSystem` is the function `qg.sigmaz` (from `QuantumToolbox`), and it does not have the parenthesis  `qg.sigmaz()`, which would invoke/call the functino to create the matrix form of the operator. Make sure to pass the function without the parenthesis. The `QuantumSystem` objects call these functions in the background to create the matrices, and the reason for passing the function but not the matrix is that the function may need to be called more than once (in the background) in certain cases, such as dimension sweeps (covered in later tutorials)."
   ]
  },
  {
   "cell_type": "markdown",
   "metadata": {},
   "source": [
    "## Qubit object as a special case\n",
    "\n",
    "For common quantum systems, such as qubit, higher spins, or cavity, we have special classes, and these classes just set some of the information internally to certain default values.\n",
    "For example, `Qubit` class internally defaults `dimension = 2` and `operator = qg.Jz`, which also takes care of the $\\frac{1}{2}$ factor, meaning we can simply set the frequency $f_{z} = 1$."
   ]
  },
  {
   "cell_type": "code",
   "execution_count": 3,
   "metadata": {},
   "outputs": [
    {
     "name": "stdout",
     "output_type": "stream",
     "text": [
      "[[ 0.5  0. ]\n",
      " [ 0.  -0.5]]\n",
      "[[ 0.5  0. ]\n",
      " [ 0.  -0.5]]\n"
     ]
    }
   ],
   "source": [
    "qub = qg.Qubit(frequency=1)\n",
    "\n",
    "# note that Jz differs by a factor of 0.5\n",
    "print(qub._freeMatrix.A)\n",
    "# print the totalHamiltonian of the system\n",
    "print(qub.totalHamiltonian.A)"
   ]
  },
  {
   "cell_type": "markdown",
   "metadata": {},
   "source": [
    "## Multiple terms\n",
    "\n",
    "Now, let's consider a more general case where we have more terms in the Hamiltonian, for example the below Hamiltonian with two terms\n",
    "\n",
    "$H = \\frac{1}{2}\\omega_{z}\\sigma_{z} + \\omega_{x}\\sigma_{x}$\n",
    "\n",
    "In this case, we can add a term to our quantum system using the `addTerm` method, which takes the operator (in this case $\\sigma_{x}$) and the frequency (in this case $\\omega_{x}$ say = 1) as inputs.\n",
    "We can, of course, add as many terms as we want.\n",
    "\n",
    "Let's use the first quantum system `qs` that we created for the rest."
   ]
  },
  {
   "cell_type": "code",
   "execution_count": 4,
   "metadata": {},
   "outputs": [
    {
     "name": "stdout",
     "output_type": "stream",
     "text": [
      "[[ 1  0]\n",
      " [ 0 -1]]\n",
      "[[ 0.5  1. ]\n",
      " [ 1.  -0.5]]\n",
      "[[ 1  0]\n",
      " [ 0 -1]]\n",
      "[[0 1]\n",
      " [1 0]]\n"
     ]
    }
   ],
   "source": [
    "# add term method returns an object for term\n",
    "# again note that the operator is the function qg.sigmax not the function call qg.sigmax()\n",
    "secondTerm = qs.createTerm(operators=qg.sigmax, frequency=1)\n",
    "# actually, the quantum systems create an internal term for their first term\n",
    "# and, we can reach the object itself\n",
    "firstTerm = qs._firstTerm\n",
    "\n",
    "# Now the _freeMatrix is still the operator of the first term that we added\n",
    "print(qs._freeMatrix.A)\n",
    "# but the totalHamiltonian is the summation of all the terms \n",
    "print(qs.totalHamiltonian.A)\n",
    "# and individual terms contain/create the matrix corresponding to their operator\n",
    "print(firstTerm._freeMatrix.A, secondTerm._freeMatrix.A, sep='\\n')"
   ]
  },
  {
   "cell_type": "markdown",
   "metadata": {},
   "source": [
    "As shown above, the terms of the Hamiltonian are also implemented as individual objects.\n",
    "The advantage of this approach is that we can individually address/set/update each terms, operator, frequency, and order (see below), making it them easier to sweep (covered in later tutorials).\n",
    "Also note that, as long as we use a single term, we don't need to access/modify the first term directly, because the quantum system objects acts like their first term."
   ]
  },
  {
   "cell_type": "code",
   "execution_count": 5,
   "metadata": {},
   "outputs": [
    {
     "name": "stdout",
     "output_type": "stream",
     "text": [
      "[[ 2  0]\n",
      " [ 0 -2]]\n",
      "[[ 1  0]\n",
      " [ 0 -1]]\n",
      "[[0.+0.j 0.-1.j]\n",
      " [0.+1.j 0.+0.j]]\n",
      "[[0 1]\n",
      " [1 0]]\n"
     ]
    }
   ],
   "source": [
    "# changing the frequency of the first term through the qs\n",
    "qs.frequency = 2\n",
    "print(firstTerm.totalHamiltonian.A) # this returns the frequency*operator (in this case, 2*sigmax())\n",
    "\n",
    "# above is equivalent short hand to\n",
    "firstTerm.frequency = 1\n",
    "print(firstTerm.totalHamiltonian.A) # this returns the frequency*operator (in this case, 1*sigmax())\n",
    "\n",
    "# we can also change operator of a term, and let's change the second term to sigmay\n",
    "secondTerm.operator = qg.sigmay\n",
    "print(secondTerm.totalHamiltonian.A) # this returns the frequency*operator (in this case, 1*sigmay())\n",
    "\n",
    "# lets set it back to sigmax and verify\n",
    "secondTerm.operator = qg.sigmax\n",
    "print(secondTerm.totalHamiltonian.A) # this returns the frequency*operator (in this case, 1*sigmay())"
   ]
  },
  {
   "cell_type": "markdown",
   "metadata": {},
   "source": [
    "## Non-linear terms\n",
    "\n",
    "In certain Hamiltonians, we might have a non-linear term where the operator is raised to a certain power.\n",
    "For Pauli matrices, $\\sigma_{i}^{2} = 1$ (i.e. the identity matrix) for $i \\in \\{x,y,z\\}$, but, just for the sake of an example say we have the following Hamiltonian\n",
    "\n",
    "$H = \\frac{1}{2}\\omega_{z}\\sigma_{z} + \\omega_{x}\\sigma_{x} + \\omega_{y}\\sigma_{y}^{2}$\n",
    "\n",
    "Now, we can add another term to our quantum system, just as we did for $\\sigma_{x}$ term, but this time with an additional input parameter, namely `order`, to the `addTerm` method."
   ]
  },
  {
   "cell_type": "code",
   "execution_count": 6,
   "metadata": {},
   "outputs": [
    {
     "name": "stdout",
     "output_type": "stream",
     "text": [
      "[[ 1  0]\n",
      " [ 0 -1]]\n",
      "[[3.+0.j 1.+0.j]\n",
      " [1.+0.j 1.+0.j]]\n",
      "[[1.+0.j 0.+0.j]\n",
      " [0.+0.j 1.+0.j]]\n",
      "[[2.+0.j 0.+0.j]\n",
      " [0.+0.j 2.+0.j]]\n"
     ]
    }
   ],
   "source": [
    "thirdTerm = qs.createTerm(operators=qg.sigmay, frequency=2, orders=2)\n",
    "\n",
    "# Now the _freeMatrix is still the operator of the first term that we added\n",
    "print(qs._freeMatrix.A)\n",
    "# but the totalHamiltonian is the summation of all the terms\n",
    "print(qs.totalHamiltonian.A)\n",
    "# matrix of the third term is the matrix corresponding to operator (sigmay) raised to the order\n",
    "print(thirdTerm._freeMatrix.A)\n",
    "# the total-Hamiltonian of the term\n",
    "print(thirdTerm.totalHamiltonian.A)"
   ]
  },
  {
   "cell_type": "code",
   "execution_count": null,
   "metadata": {},
   "outputs": [],
   "source": []
  }
 ],
 "metadata": {
  "celltoolbar": "Tags",
  "interpreter": {
   "hash": "81ed76176e4f746ec85a2761650c2bf524db70acda0c76fd4138af02ba17b5a6"
  },
  "kernelspec": {
   "display_name": "Python 3 (ipykernel)",
   "language": "python",
   "name": "python3"
  },
  "language_info": {
   "codemirror_mode": {
    "name": "ipython",
    "version": 3
   },
   "file_extension": ".py",
   "mimetype": "text/x-python",
   "name": "python",
   "nbconvert_exporter": "python",
   "pygments_lexer": "ipython3",
   "version": "3.8.10"
  }
 },
 "nbformat": 4,
 "nbformat_minor": 2
}
