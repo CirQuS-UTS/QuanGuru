{
 "cells": [
  {
   "cell_type": "code",
   "execution_count": 1,
   "metadata": {},
   "outputs": [],
   "source": [
    "import quanguru as qg\n",
    "\n",
    "# QuanGuru uses sparse matrices by default, \n",
    "# but sparse matrices are not easily readable when we print them\n",
    "# so, in below examples, we use .A to print them as arrays"
   ]
  },
  {
   "cell_type": "markdown",
   "metadata": {},
   "source": [
    "# 0 - Hamiltonian of a single quantum system\n",
    "\n",
    "This tutorial demonstrates how to describe the Hamiltonian of a quantum system in `QuanGuru`.\n",
    "\n",
    "Let's start with a very simple Hamiltonian\n",
    "\n",
    "$H = f\\hat{O}$\n",
    "\n",
    "Here, the *relevant* information are\n",
    "\n",
    "- frequency : $f$, which is a float\n",
    "- operator : $\\hat{O}$ (we will omit the hat from the operator when they are clear from the context)\n",
    "- dimension : of the operator, which is an integer \n",
    "\n",
    "In `QuanGuru`, we create a quantum system using the `QuantumSystem` object, which requires at least one of these information during instantiation.\n",
    "\n",
    "`frequency` and `dimension` are simply numbers, and for the `operator`, we use the functions in `QuantumToolbox` `operators` module. However, any function (from any other library) that creates and returns the matrix representation of the desired operator can be used, because the `QuantumSystem` object just requires the function reference.\n",
    "\n",
    "Let's give some concrete examples.\n",
    "\n",
    "## 1 - Qubit\n",
    "\n",
    "For a qubit:\n",
    "\n",
    "- `dimension = 2` \n",
    "- `frequency = #` any number we want (say, $f=2$)\n",
    "- `operator` can be any (Hermitian) operator we want, but it is usually the $\\sigma_{z}$ operator (Pauli-z operator)\n",
    "\n",
    "Then, the Hamiltonian would be \n",
    "\n",
    "$H = f*\\sigma_{z} = 2\\left[\\begin{array}{ll}1 & 0 \\\\ 0 & -1\\end{array}\\right] = \\left[\\begin{array}{ll}2 & 0 \\\\ 0 & -2\\end{array}\\right]$\n",
    "\n",
    "and we can create this system as below"
   ]
  },
  {
   "cell_type": "code",
   "execution_count": 2,
   "metadata": {},
   "outputs": [
    {
     "name": "stdout",
     "output_type": "stream",
     "text": [
      "[[ 2  0]\n",
      " [ 0 -2]]\n"
     ]
    }
   ],
   "source": [
    "qub = qg.QuantumSystem(dimension=2, frequency=2, operator=qg.sigmaz)\n",
    "\n",
    "print(qub.totalHam.A)"
   ]
  },
  {
   "cell_type": "markdown",
   "metadata": {},
   "source": [
    "Notice that the `operator` of the `QuantumSystem` is the function `qg.sigmaz` (from `QuantumToolbox`), and it does not have the parenthesis  `qg.sigmaz()`, which would invoke/call the functino to create the matrix form of the operator. Make sure to pass the function without the parenthesis. The `QuantumSystem` objects call these functions in the background to create the matrices.\n",
    "\n",
    "## 2 - Larger spins\n",
    "\n",
    "Qubit object is equivalent to a spin-1/2 system, and we can create any other spin system using the `J_{x/y/z}` operators from the `QuantumToolbox`.\n",
    "\n",
    "Let's create a spin-1 system, which means\n",
    "\n",
    "- `dimension = 3` \n",
    "- `frequency = #` any number we want (say, $f=2$)\n",
    "- `operator` is usually the $J_{z}$ operator \n",
    "\n",
    "Then, the Hamiltonian would be \n",
    "\n",
    "$H = f*J_{z} = 2\\left[\\begin{array}{lll}1 & 0 & 0 \\\\ 0 & 0 & 0 \\\\ 0 & 0 & -1\\end{array}\\right] = \\left[\\begin{array}{llll}2 & 0 & 0 \\\\ 0 & 0 & 0 \\\\ 0 & 0 & -2\\end{array}\\right]$"
   ]
  },
  {
   "cell_type": "code",
   "execution_count": 3,
   "metadata": {},
   "outputs": [
    {
     "name": "stdout",
     "output_type": "stream",
     "text": [
      "[[ 2.  0.  0.]\n",
      " [ 0.  0.  0.]\n",
      " [ 0.  0. -2.]]\n"
     ]
    }
   ],
   "source": [
    "spin1 = qg.QuantumSystem(dimension=3, frequency=2, operator=qg.Jz)\n",
    "\n",
    "print(spin1.totalHam.A)"
   ]
  },
  {
   "cell_type": "markdown",
   "metadata": {},
   "source": [
    "## 3 - Harmonic oscillator\n",
    "\n",
    "This is an infinite dimensional system, but we can use a truncated space by setting the dimension to a finite value (which should be large enough for your simulations, but its discussion is beyond this tutorial). For an Harmonic oscillator, we have\n",
    "\n",
    "- `dimension = 5` (a small number so that printed matrix is readable)\n",
    "- `frequency = #` any number we want (say, $f=2$)\n",
    "- `operator` is usually the $a^{\\dagger}a = n$ number operator\n",
    "\n",
    "\n",
    "Then, the Hamiltonian would be \n",
    "\n",
    "$H = f*J_{z} = 2\\left[\\begin{array}{lllll}0 & 0 & 0 & 0 & 0 \\\\ 0 & 1 & 0 & 0 & 0 \\\\ 0 & 0 & 2 & 0 & 0 \\\\ 0 & 0 & 0 & 3 & 0 \\\\ 0 & 0 & 0 & 0 & 4 \\end{array}\\right] = \\left[\\begin{array}{lllll}0 & 0 & 0 & 0 & 0 \\\\ 0 & 2 & 0 & 0 & 0 \\\\ 0 & 0 & 4 & 0 & 0 \\\\ 0 & 0 & 0 & 6 & 0 \\\\ 0 & 0 & 0 & 0 & 8 \\end{array}\\right]$"
   ]
  },
  {
   "cell_type": "code",
   "execution_count": 4,
   "metadata": {},
   "outputs": [
    {
     "name": "stdout",
     "output_type": "stream",
     "text": [
      "[[0 0 0 0 0]\n",
      " [0 2 0 0 0]\n",
      " [0 0 4 0 0]\n",
      " [0 0 0 6 0]\n",
      " [0 0 0 0 8]]\n"
     ]
    }
   ],
   "source": [
    "ho = qg.QuantumSystem(dimension=5, frequency=2, operator=qg.number)\n",
    "\n",
    "print(ho.totalHam.A)"
   ]
  },
  {
   "cell_type": "markdown",
   "metadata": {},
   "source": [
    "## Special classes for common system\n",
    "\n",
    "The above systems are quite common.\n",
    "Therefore, `QuanGuru` provides special classes for these systems, and these classes comes with default values for some of the above attributes:\n",
    "\n",
    "- `Spin` class for spin systems, which also provides an attribute named `jValue` (for spin value) so that we can use spin number instead of dimension. It comes with the default `operator = qg.Jz`\n",
    "- `Qubit` class for a qubit, and its a special case of `Spin` class with `dimension = 2` by default. This means that its operator is `qg.Jz` by default, not `qg.sigmaz`. This operator choice is discussed in later tutorials.\n",
    "- `Cavity` class for harmonic-oscillator/cavity/resonator, and it defaults `operator = qg.number`\n"
   ]
  },
  {
   "cell_type": "code",
   "execution_count": 5,
   "metadata": {},
   "outputs": [
    {
     "name": "stdout",
     "output_type": "stream",
     "text": [
      "[[ 2.  0.  0.]\n",
      " [ 0.  0.  0.]\n",
      " [ 0.  0. -2.]]\n",
      "[[ 2.  0.  0.]\n",
      " [ 0.  0.  0.]\n",
      " [ 0.  0. -2.]]\n",
      "3 1.0\n",
      "3 1.0\n"
     ]
    }
   ],
   "source": [
    "spin1_usingDimension = qg.Spin(dimension=3, frequency=2)\n",
    "spin1_usingjValue = qg.Spin(jValue=1, frequency=2)\n",
    "\n",
    "print(spin1_usingDimension.totalHam.A)\n",
    "print(spin1_usingjValue.totalHam.A)\n",
    "\n",
    "print(spin1_usingDimension.dimension, spin1_usingDimension.jValue)\n",
    "print(spin1_usingjValue.dimension, spin1_usingjValue.jValue)"
   ]
  },
  {
   "cell_type": "code",
   "execution_count": 6,
   "metadata": {},
   "outputs": [
    {
     "name": "stdout",
     "output_type": "stream",
     "text": [
      "[[ 1.  0.]\n",
      " [ 0. -1.]]\n",
      "2 0.5\n"
     ]
    }
   ],
   "source": [
    "qb = qg.Qubit(frequency=2)\n",
    "\n",
    "print(qb.totalHam.A)\n",
    "print(qb.dimension, qb.jValue)"
   ]
  },
  {
   "cell_type": "code",
   "execution_count": 7,
   "metadata": {},
   "outputs": [
    {
     "name": "stdout",
     "output_type": "stream",
     "text": [
      "[[0 0 0 0 0]\n",
      " [0 2 0 0 0]\n",
      " [0 0 4 0 0]\n",
      " [0 0 0 6 0]\n",
      " [0 0 0 0 8]]\n"
     ]
    }
   ],
   "source": [
    "cav = qg.Cavity(dimension=5, frequency=2)\n",
    "\n",
    "print(cav.totalHam.A)"
   ]
  },
  {
   "cell_type": "code",
   "execution_count": 8,
   "metadata": {},
   "outputs": [
    {
     "data": {
      "text/plain": [
       "[<matplotlib.lines.Line2D at 0x11d45af50>]"
      ]
     },
     "execution_count": 8,
     "metadata": {},
     "output_type": "execute_result"
    },
    {
     "data": {
      "image/png": "[encoded data removed]",
      "text/plain": [
       "<Figure size 432x288 with 1 Axes>"
      ]
     },
     "metadata": {
      "needs_background": "light"
     },
     "output_type": "display_data"
    }
   ],
   "source": [
    "import matplotlib.pyplot as plt\n",
    "plt.plot([i/100 for i in range(100)], [(i/100)**10 for i in range(100)])"
   ]
  }
 ],
 "metadata": {
  "interpreter": {
   "hash": "81ed76176e4f746ec85a2761650c2bf524db70acda0c76fd4138af02ba17b5a6"
  },
  "kernelspec": {
   "display_name": "Python 3.10.1 64-bit ('QuanGuruRes': venv)",
   "language": "python",
   "name": "python3"
  },
  "language_info": {
   "codemirror_mode": {
    "name": "ipython",
    "version": 3
   },
   "file_extension": ".py",
   "mimetype": "text/x-python",
   "name": "python",
   "nbconvert_exporter": "python",
   "pygments_lexer": "ipython3",
   "version": "3.10.1"
  },
  "orig_nbformat": 4
 },
 "nbformat": 4,
 "nbformat_minor": 2
}
