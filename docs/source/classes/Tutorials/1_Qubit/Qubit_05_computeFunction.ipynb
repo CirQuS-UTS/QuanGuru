{
 "cells": [
  {
   "cell_type": "code",
   "execution_count": 1,
   "metadata": {},
   "outputs": [],
   "source": [
    "import quanguru as qg\n",
    "import numpy as np\n",
    "import matplotlib.pyplot as plt"
   ]
  },
  {
   "cell_type": "markdown",
   "metadata": {},
   "source": [
    "# 5 - Simulation with a compute function\n",
    "\n",
    "In previous tutorials, we covered the simulation of a single qubit, where we received a list of states from the `runSimulation` method, and used those states to compute some expectation values.\n",
    "In this tutorial, we will show an alternative that computes whatever we want during the evolution.\n",
    "The advantage in this approach is that we don't have to keep a list of state vectors, which in general takes a lot memory.\n",
    "We, instead, only store some scaler quantities we are interested in.\n",
    "\n",
    "Again, here, we will evolve a qubit under the unitary dynamics of its Hamiltonian $H=\\frac{1}{2}f_{z}\\sigma_{z} = f_{z}J_{z}$ with the initial state set to the equal superposition of $|1\\rangle$ and $|0\\rangle$.\n",
    "We also set the total simulation time (with `simTotalTime`) and the step size (`simStepSize`)."
   ]
  },
  {
   "cell_type": "code",
   "execution_count": 2,
   "metadata": {},
   "outputs": [],
   "source": [
    "# create the qubit and set its initial state and frequency\n",
    "qub = qg.Qubit(frequency = 1)\n",
    "qub.initialState = [0, 1]\n",
    "\n",
    "# set the simulation time and step size\n",
    "qub.simTotalTime = 2*np.pi\n",
    "qub.simStepSize = 0.1"
   ]
  },
  {
   "cell_type": "markdown",
   "metadata": {},
   "source": [
    "Now, we introduce the `compute` function and focus on its usage through `QuantumSystem` objects.\n",
    "We will cover more general usages of `compute` function/s in later tutorials, but the example here should suffice for most purposes.\n",
    "\n",
    "We write `compute` function/s as generic functions, and store them in the `compute` attribute of `QuantumSystem` objects.\n",
    "During the time evolution of the system, the library calls the `compute` function/s at each time step of the evolution.\n",
    "When it is called in the background, the library passes the `QuantumSystem` object as the first argument of the `compute` function, and the state of the `QuantumSystem` at the current step of the evolution as the second argument.\n",
    "\n",
    "Here, we will set a `compute` function to our `Qubit`, so the library will pass the qubit as the first argument, and its state at each time step as the second argument.\n",
    "Then, inside this function, we can compute anything we want from the state, and, below, we compute the expectation values of $\\sigma_{x}$ and $\\sigma_{z}$ operators.\n",
    "We still need to store these expectation values in somewhere, and this is where we use the `.results` attribute.\n",
    "We just call `.results['someKey'].append(someValue)` to store `someValue` with `someKey`, and the library takes care of the rest.\n"
   ]
  },
  {
   "cell_type": "code",
   "execution_count": 3,
   "metadata": {},
   "outputs": [],
   "source": [
    "# create the operators for which we compute the expectation values\n",
    "sigmaX = qg.sigmax()\n",
    "sigmaZ = qg.sigmaz()\n",
    "\n",
    "# write a compute function that takes two arguments: (i) a quantum-system (qsys) and (ii) a state\n",
    "# compute whatever we want and store in .results\n",
    "def compute(qsys, state):\n",
    "    qsys.results['sigmax expectation'].append(qg.expectation(sigmaX, state))\n",
    "    qsys.results['sigmaz expectation'].append(qg.expectation(sigmaZ, state))\n",
    "\n",
    "# set the compute attribute of our qubit to compute function\n",
    "qub.compute = compute"
   ]
  },
  {
   "cell_type": "markdown",
   "metadata": {},
   "source": [
    "At this point, all the essential information are set, and we can run the simulation by `qub.runSimulation()`, which returns the list of states for the time evolution of our `QuantumSystem`.\n",
    "\n",
    "But, in this case, we don't want/need to store the states, because the `compute` function can and will compute all the quantities we are interested in.\n",
    "Therefore, we simply set `simDelState` to `True`, which will flag that we do not want to store the states."
   ]
  },
  {
   "cell_type": "code",
   "execution_count": 4,
   "metadata": {},
   "outputs": [],
   "source": [
    "qub.simDelStates = True\n",
    "states = qub.runSimulation()"
   ]
  },
  {
   "cell_type": "markdown",
   "metadata": {},
   "source": [
    "Now, we receive the `results` that we stored as `qub.results['sigmax expectation']`\n",
    "\n",
    "As expected, the expectation value of $\\sigma_{x}$ oscillates, while the expectation value of $\\sigma_{z}$ is constant (since $\\left[ H, \\sigma_{z} \\right] = 0$)"
   ]
  },
  {
   "cell_type": "code",
   "execution_count": 5,
   "metadata": {
    "tags": [
     "nbsphinx-thumbnail"
    ]
   },
   "outputs": [
    {
     "data": {
      "text/plain": [
       "Text(0.5, 0, 'Time')"
      ]
     },
     "execution_count": 5,
     "metadata": {},
     "output_type": "execute_result"
    },
    {
     "data": {
      "image/png": "[encoded data removed]",
      "text/plain": [
       "<Figure size 432x288 with 1 Axes>"
      ]
     },
     "metadata": {
      "needs_background": "light"
     },
     "output_type": "display_data"
    }
   ],
   "source": [
    "plt.plot(qub.simulation.timeList, qub.results['sigmax expectation'], 'r-', label=r\"$\\langle \\sigma_{x} \\rangle$\")\n",
    "plt.plot(qub.simulation.timeList, qub.results['sigmaz expectation'], 'b-', label=r\"$\\langle \\sigma_{z} \\rangle$\")\n",
    "\n",
    "plt.legend()\n",
    "plt.ylabel(\"Expectation values\")\n",
    "plt.xlabel(\"Time\")"
   ]
  },
  {
   "cell_type": "code",
   "execution_count": null,
   "metadata": {},
   "outputs": [],
   "source": []
  }
 ],
 "metadata": {
  "celltoolbar": "Tags",
  "interpreter": {
   "hash": "81ed76176e4f746ec85a2761650c2bf524db70acda0c76fd4138af02ba17b5a6"
  },
  "kernelspec": {
   "display_name": "Python 3 (ipykernel)",
   "language": "python",
   "name": "python3"
  },
  "language_info": {
   "codemirror_mode": {
    "name": "ipython",
    "version": 3
   },
   "file_extension": ".py",
   "mimetype": "text/x-python",
   "name": "python",
   "nbconvert_exporter": "python",
   "pygments_lexer": "ipython3",
   "version": "3.10.1"
  }
 },
 "nbformat": 4,
 "nbformat_minor": 2
}
