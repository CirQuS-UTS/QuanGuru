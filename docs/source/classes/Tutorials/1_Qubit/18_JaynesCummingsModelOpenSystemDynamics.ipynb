{
 "cells": [
  {
   "cell_type": "code",
   "execution_count": 1,
   "metadata": {},
   "outputs": [],
   "source": [
    "import quanguru as qg\n",
    "import numpy as np\n",
    "import matplotlib.pyplot as plt"
   ]
  },
  {
   "cell_type": "markdown",
   "metadata": {},
   "source": [
    "# 17 - Jaynes-Cummings Open System Dynamics\n",
    "\n",
    "The Jaynes-Cummings Hamiltonian is written as\n",
    "\n",
    "$H_{JC} = \\hbar\\omega_{c} a^{\\dagger}a + \\frac{1}{2}\\hbar\\omega_{q}\\sigma_{z} + \\hbar g(a^{\\dagger}\\sigma_{-} + a\\sigma_{+})$\n",
    "\n",
    "where $\\sigma_{\\pm} = (\\sigma_{x} \\pm i\\sigma_{y})/2$ are raising/lowering operators for a two-level system, $\\sigma_{\\mu}$ are the Pauli spin operators with $\\mu\\in\\{x,y,z\\}$, $a^{\\dagger}$ and $a$ are the creation and annihilation operators for the field mode, and $\\omega_{c}$, $\\omega_{q}$, and $g$ are the cavity-field, qubit, and coupling (angular-) frequencies, respectively.\n",
    "\n",
    "We will use the below parameters in our simulation"
   ]
  },
  {
   "cell_type": "code",
   "execution_count": 2,
   "metadata": {},
   "outputs": [],
   "source": [
    "# parameters for the Hamiltonian\n",
    "qubitFreq = 1\n",
    "cavityFreq = 1\n",
    "couplingFreq = 0.1\n",
    "cavityDim = 5\n",
    "\n",
    "# parameters for the evolution\n",
    "totalTime = 3*(np.pi/couplingFreq)\n",
    "timeStep = 0.1"
   ]
  },
  {
   "cell_type": "markdown",
   "metadata": {},
   "source": [
    "and we can describe the JC-Hamiltonian/system in QuanGuru as"
   ]
  },
  {
   "cell_type": "code",
   "execution_count": 3,
   "metadata": {},
   "outputs": [],
   "source": [
    "# Qubit for the JC model\n",
    "QubitJC = qg.Qubit(frequency=qubitFreq)\n",
    "\n",
    "# Cavity for the JC model\n",
    "CavityJC = qg.Cavity(dimension=cavityDim, frequency=cavityFreq)\n",
    "\n",
    "# JC model consists of a qubit and cavity\n",
    "# and this is the 'free evolution' part of the JC-Hamiltonian\n",
    "JCSystem = QubitJC + CavityJC"
   ]
  },
  {
   "cell_type": "code",
   "execution_count": 4,
   "metadata": {},
   "outputs": [],
   "source": [
    "# coupling part of the JC-Hamiltonian\n",
    "# first term of the coupling\n",
    "JCCouplingT1 = JCSystem.createTerm(\n",
    "    qSystem=[CavityJC, QubitJC],\n",
    "    operator=[qg.destroy, qg.sigmap])\n",
    "\n",
    "# second term of the couplings\n",
    "# first term of the coupling\n",
    "JCCouplingT2 = JCSystem.createTerm(\n",
    "    qSystem=[QubitJC, CavityJC],\n",
    "    operator=[qg.sigmam, qg.create])\n",
    "\n",
    "# combine the terms into a single term\n",
    "JCCoupling = qg.QTerm(qSystem=JCSystem,\n",
    "                      subSys=[JCCouplingT1, JCCouplingT2],\n",
    "                      frequency=couplingFreq)"
   ]
  },
  {
   "cell_type": "code",
   "execution_count": 5,
   "metadata": {},
   "outputs": [],
   "source": [
    "# add a dissipator term for the cavity decay\n",
    "dc1 = qg.dissipatorObj(system=CavityJC, jOper=qg.destroy(cavityDim), jRate=.075)\n",
    "dc1.addToProtocol(JCSystem._freeEvol)"
   ]
  },
  {
   "cell_type": "code",
   "execution_count": 6,
   "metadata": {},
   "outputs": [],
   "source": [
    "JCSystem.simStepSize = timeStep\n",
    "JCSystem.simTotalTime = totalTime\n",
    "\n",
    "JCSystem.initialState = [1, 1]\n",
    "\n",
    "freqSweep = JCSystem.simulation.Sweep.createSweep(\n",
    "    system=CavityJC,\n",
    "    sweepKey=\"frequency\",\n",
    "    sweepMax=qubitFreq+cavityFreq,\n",
    "    sweepMin=qubitFreq-cavityFreq,\n",
    "    sweepStep=.025)"
   ]
  },
  {
   "cell_type": "code",
   "execution_count": 7,
   "metadata": {},
   "outputs": [],
   "source": [
    "compositeSZ = qg.compositeOp(qg.sigmaz(),   dimA=cavityDim)\n",
    "\n",
    "# calculate the desired results and store\n",
    "def compute(sim, args):\n",
    "    stateJC = args[0]\n",
    "    sim.results['zJC'].append(qg.expectation(compositeSZ, stateJC))\n",
    "\n",
    "JCSystem.simCompute = compute"
   ]
  },
  {
   "cell_type": "code",
   "execution_count": 8,
   "metadata": {},
   "outputs": [
    {
     "data": {
      "text/plain": [
       "[]"
      ]
     },
     "execution_count": 8,
     "metadata": {},
     "output_type": "execute_result"
    }
   ],
   "source": [
    "# do not store the states\n",
    "JCSystem.simDelStates = True\n",
    "\n",
    "# run the simulation\n",
    "# p=True uses multi-processing for the sweep\n",
    "JCSystem.runSimulation(p=True)"
   ]
  },
  {
   "cell_type": "code",
   "execution_count": 9,
   "metadata": {
    "tags": [
     "nbsphinx-thumbnail"
    ]
   },
   "outputs": [
    {
     "data": {
      "text/plain": [
       "Text(0, 0.5, 'Time')"
      ]
     },
     "execution_count": 9,
     "metadata": {},
     "output_type": "execute_result"
    },
    {
     "data": {
      "image/png": "[encoded data removed]",
      "text/plain": [
       "<Figure size 432x288 with 1 Axes>"
      ]
     },
     "metadata": {
      "needs_background": "light"
     },
     "output_type": "display_data"
    }
   ],
   "source": [
    "Y, X = np.meshgrid(JCSystem.simulation.timeList, freqSweep.sweepList)\n",
    "\n",
    "plt.pcolormesh(X, Y, JCSystem.simulation.results['zJC'])\n",
    "\n",
    "plt.xlabel(\"Frequency $\\omega_{c}$\")\n",
    "plt.ylabel(\"Time\")"
   ]
  },
  {
   "cell_type": "code",
   "execution_count": null,
   "metadata": {},
   "outputs": [],
   "source": []
  }
 ],
 "metadata": {
  "celltoolbar": "Tags",
  "interpreter": {
   "hash": "7dd8b8ab1ee68b14d8525f7a23f5eb2c80bbe1961b7b5771fc878d8483dd6438"
  },
  "kernelspec": {
   "display_name": "Python 3 (ipykernel)",
   "language": "python",
   "name": "python3"
  },
  "language_info": {
   "codemirror_mode": {
    "name": "ipython",
    "version": 3
   },
   "file_extension": ".py",
   "mimetype": "text/x-python",
   "name": "python",
   "nbconvert_exporter": "python",
   "pygments_lexer": "ipython3",
   "version": "3.8.10"
  }
 },
 "nbformat": 4,
 "nbformat_minor": 2
}
