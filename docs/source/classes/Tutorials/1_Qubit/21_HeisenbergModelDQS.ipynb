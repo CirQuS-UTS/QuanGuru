{
 "cells": [
  {
   "cell_type": "code",
   "execution_count": null,
   "metadata": {},
   "outputs": [],
   "source": [
    "import quanguru as qg\n",
    "import numpy as np\n",
    "import matplotlib.pyplot as plt"
   ]
  },
  {
   "cell_type": "code",
   "execution_count": null,
   "metadata": {},
   "outputs": [],
   "source": [
    "numOfQubits = 5\n",
    "freequency = 0\n",
    "freeOperator = qg.Jz\n",
    "couplingStrength = 1"
   ]
  },
  {
   "cell_type": "code",
   "execution_count": null,
   "metadata": {},
   "outputs": [],
   "source": [
    "nQubExchange = numOfQubits * qg.Qubit(frequency=freequency, operator=freeOperator)\n",
    "nQubHeisenberg = numOfQubits * qg.Qubit(frequency=freequency, operator=freeOperator)"
   ]
  },
  {
   "cell_type": "code",
   "execution_count": null,
   "metadata": {},
   "outputs": [],
   "source": [
    "exchangeQubs = list(nQubExchange.subSys.values())\n",
    "for ind in range(numOfQubits-1):\n",
    "    es = [exchangeQubs[ind], exchangeQubs[ind+1]]\n",
    "    nQubExchange.createTerm(operator=[qg.sigmax, qg.sigmax], frequency=0, qSystem=es)\n",
    "    nQubExchange.createTerm(operator=[qg.sigmay, qg.sigmay], frequency=0, qSystem=es)"
   ]
  },
  {
   "cell_type": "code",
   "execution_count": null,
   "metadata": {},
   "outputs": [],
   "source": [
    "HeisenbergQubs = list(nQubHeisenberg.subSys.values())\n",
    "for ind in range(numOfQubits-1):\n",
    "    hs = [HeisenbergQubs[ind], HeisenbergQubs[ind+1]]\n",
    "    nQubHeisenberg.createTerm(operator=[qg.sigmax, qg.sigmax], frequency=couplingStrength,qSystem=hs)\n",
    "    nQubHeisenberg.createTerm(operator=[qg.sigmay, qg.sigmay], frequency=couplingStrength,qSystem=hs)\n",
    "    nQubHeisenberg.createTerm(operator=[qg.sigmaz, qg.sigmaz], frequency=couplingStrength,qSystem=hs)"
   ]
  },
  {
   "cell_type": "code",
   "execution_count": null,
   "metadata": {},
   "outputs": [],
   "source": [
    "s1 = qg.freeEvolution(superSys=nQubExchange)\n",
    "\n",
    "s2 = qg.qProtocol(superSys=nQubExchange)\n",
    "exchangeCouplings = list(nQubExchange.terms.values())\n",
    "ind = 0\n",
    "while ind in range(len(exchangeCouplings)):\n",
    "    u1 = qg.freeEvolution(superSys=nQubExchange)\n",
    "    u1.createUpdate(system=[exchangeCouplings[ind], exchangeCouplings[ind+1]], key='frequency', value=couplingStrength/2)\n",
    "    u1.createUpdate(system=exchangeQubs, key='frequency', value=0)\n",
    "    s2.addStep(u1)\n",
    "    ind += 2\n",
    "\n",
    "xRots = [qg.xGate(system=exchangeQubs, angle=np.pi/2, rotationAxis='x'), \n",
    "         qg.xGate(system=exchangeQubs, angle=-np.pi/2, rotationAxis='x')]\n",
    "yRots = [qg.xGate(system=exchangeQubs, angle=np.pi/2, rotationAxis='y'), \n",
    "         qg.xGate(system=exchangeQubs, angle=-np.pi/2, rotationAxis='y')]\n",
    "\n",
    "protocol = qg.qProtocol(superSys=nQubExchange, steps=[s1,s2,xRots[0],s2,xRots[1],yRots[0],s2,yRots[1]])"
   ]
  },
  {
   "cell_type": "code",
   "execution_count": null,
   "metadata": {},
   "outputs": [],
   "source": [
    "stepSizes = [0.01*(i+1) for i in range(50)]\n",
    "freqValues = [0.01*(i+1) for i in range(100)]\n",
    "totalSimTimeV = 5*2*np.pi\n",
    "\n",
    "sigmaZ = qg.compositeOp(qg.sigmaz(), 2**(numOfQubits-1))\n",
    "def compute(qsim, args):\n",
    "    res = qsim.qRes\n",
    "    res.result = 'state fidelity', qg.fidelityPure(args[0], args[1])\n",
    "    for key, _ in qsim.subSys.items():\n",
    "        res.result = [key.name.name+'Exp', qg.expectation(sigmaZ, key.currentState)]\n",
    "\n",
    "simulation = qg.Simulation()\n",
    "simulation.initialStateSystem = nQubHeisenberg\n",
    "simulation.initialState = [0 if x < 1 else 1 for x in range(numOfQubits)]\n",
    "simulation.delStates = True\n",
    "\n",
    "simulation.addSubSys(nQubExchange, protocol)\n",
    "simulation.addSubSys(nQubHeisenberg)\n",
    "\n",
    "simulation.compute = compute\n",
    "simulation.totalTime = totalSimTimeV\n",
    "simulation.stepSize = (stepSizes[0]+0.05)*2*np.pi\n",
    "\n",
    "# stepSizeSweep = simulation.Sweep.createSweep(system=simulation, sweepKey='stepSize', sweepList=stepSizes)\n",
    "freqSweep = simulation.Sweep.createSweep(system=[*exchangeQubs, *HeisenbergQubs], sweepKey='frequency', sweepList=freqValues)"
   ]
  },
  {
   "cell_type": "code",
   "execution_count": null,
   "metadata": {},
   "outputs": [],
   "source": [
    "simulation.run(p=True)"
   ]
  },
  {
   "cell_type": "code",
   "execution_count": null,
   "metadata": {},
   "outputs": [],
   "source": [
    "res = simulation.results"
   ]
  },
  {
   "cell_type": "code",
   "execution_count": null,
   "metadata": {},
   "outputs": [],
   "source": [
    "Y, X = np.meshgrid(simulation.timeList, [i for i in range(len(freqSweep.sweepList))])\n",
    "\n",
    "plt.pcolormesh(X, Y, res['state fidelity'], vmin=0, vmax=1)\n",
    "plt.colorbar()\n",
    "\n",
    "plt.xlabel(\"Frequency $\\omega_{c}$\")\n",
    "plt.ylabel(\"Time\")"
   ]
  },
  {
   "cell_type": "code",
   "execution_count": null,
   "metadata": {},
   "outputs": [],
   "source": []
  }
 ],
 "metadata": {
  "interpreter": {
   "hash": "7dd8b8ab1ee68b14d8525f7a23f5eb2c80bbe1961b7b5771fc878d8483dd6438"
  },
  "kernelspec": {
   "display_name": "Python 3.8.10 ('QuanGuruDev')",
   "language": "python",
   "name": "python3"
  },
  "language_info": {
   "codemirror_mode": {
    "name": "ipython",
    "version": 3
   },
   "file_extension": ".py",
   "mimetype": "text/x-python",
   "name": "python",
   "nbconvert_exporter": "python",
   "pygments_lexer": "ipython3",
   "version": "3.8.10"
  },
  "orig_nbformat": 4
 },
 "nbformat": 4,
 "nbformat_minor": 2
}
