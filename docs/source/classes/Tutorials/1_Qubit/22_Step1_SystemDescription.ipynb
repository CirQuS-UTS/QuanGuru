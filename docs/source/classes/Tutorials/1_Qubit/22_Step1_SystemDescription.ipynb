{
 "cells": [
  {
   "cell_type": "code",
   "execution_count": 1,
   "metadata": {},
   "outputs": [],
   "source": [
    "import quanguru as qg\n",
    "import numpy as np"
   ]
  },
  {
   "cell_type": "markdown",
   "metadata": {},
   "source": [
    "# 22 - Step 1 : System Description\n",
    "\n",
    "This tutorial demonstrates all the functionalities provided by the `QuantumSystem` and `QTerm` class."
   ]
  },
  {
   "cell_type": "markdown",
   "metadata": {},
   "source": [
    "## Name and aliases"
   ]
  },
  {
   "cell_type": "code",
   "execution_count": 2,
   "metadata": {},
   "outputs": [
    {
     "name": "stdout",
     "output_type": "stream",
     "text": [
      "QuantumSystem1 ['firstSystem'] QTerm1\n"
     ]
    }
   ],
   "source": [
    "qsys =  qg.QuantumSystem(alias='firstSystem')\n",
    "print(qsys.name, qsys.alias, qsys._firstTerm.name)"
   ]
  },
  {
   "cell_type": "markdown",
   "metadata": {},
   "source": [
    "## Hamiltonians\n",
    "\n",
    "### With simple terms\n",
    "\n",
    "$H_{0} = \\frac{1}{\\sqrt{2}}(a^{\\dagger} + a)$ "
   ]
  },
  {
   "cell_type": "code",
   "execution_count": 3,
   "metadata": {},
   "outputs": [
    {
     "name": "stdout",
     "output_type": "stream",
     "text": [
      "[[0.         0.70710678 0.         0.        ]\n",
      " [0.70710678 0.         1.         0.        ]\n",
      " [0.         1.         0.         1.22474487]\n",
      " [0.         0.         1.22474487 0.        ]]\n"
     ]
    }
   ],
   "source": [
    "q0 = qg.QuantumSystem(dimension=4, frequency=1/np.sqrt(2), operator=qg.create)\n",
    "\n",
    "secondTerm = q0.createTerm(operator=qg.destroy, frequency=1/np.sqrt(2))\n",
    "\n",
    "print(q0.totalHamiltonian.A)"
   ]
  },
  {
   "cell_type": "code",
   "execution_count": 4,
   "metadata": {},
   "outputs": [
    {
     "name": "stdout",
     "output_type": "stream",
     "text": [
      "[[0.         0.70710678]\n",
      " [0.70710678 0.        ]]\n"
     ]
    }
   ],
   "source": [
    "q0.dimension = 2\n",
    "\n",
    "q0.frequency = q0._firstTerm.frequency\n",
    "q0.operator = q0._firstTerm.operator\n",
    "q0.order = q0._firstTerm.order\n",
    "q0._freeMatrix = q0._firstTerm._freeMatrix\n",
    "\n",
    "secondTerm.frequency = secondTerm.frequency\n",
    "secondTerm.operator = secondTerm.operator\n",
    "secondTerm.order = secondTerm.order\n",
    "\n",
    "print(q0.totalHamiltonian.A)"
   ]
  },
  {
   "cell_type": "markdown",
   "metadata": {},
   "source": [
    "### With non-trivial terms\n",
    "\n",
    "$H_{1} = \\omega_{1}a^{\\dagger} a + \\omega_{2} a^{3} (a^{\\dagger})^{2}$"
   ]
  },
  {
   "cell_type": "code",
   "execution_count": 5,
   "metadata": {},
   "outputs": [
    {
     "name": "stdout",
     "output_type": "stream",
     "text": [
      "[[ 0.          6.          0.          0.          0.        ]\n",
      " [ 0.          1.         16.97056275  0.          0.        ]\n",
      " [ 0.          0.          2.          0.          0.        ]\n",
      " [ 0.          0.          0.          3.          0.        ]\n",
      " [ 0.          0.          0.          0.          4.        ]]\n"
     ]
    }
   ],
   "source": [
    "w1 = 1\n",
    "w2 = 1\n",
    "dimension = 5\n",
    "\n",
    "powOfDestroy = 3\n",
    "powOfCreate = 2\n",
    "\n",
    "q1 = qg.QuantumSystem(dimension=dimension, operator=qg.number, frequency=w1)\n",
    "\n",
    "# for the second term, we need to create the term object explicitly then add it to our quantum system\n",
    "# want this to be intentional\n",
    "# create term raises an error\n",
    "# nonLinearTerm = q1.createTerm(qSystem=(q1, q1), operator=(qg.destroy, qg.create), frequency=w2, order=(powOfDestroy, powOfCreate), superSys=q1)\n",
    "nonLinearTerm = qg.QTerm(qSystem=(q1, q1), operator=(qg.destroy, qg.create), frequency=w2, order=(powOfDestroy, powOfCreate), superSys=q1)\n",
    "q1.addTerms(nonLinearTerm)\n",
    "\n",
    "print(q1.totalHamiltonian.A)"
   ]
  },
  {
   "cell_type": "markdown",
   "metadata": {},
   "source": [
    "### What if we have only one term ?\n",
    "\n",
    "$ H_{2} = \\omega_{2} a^{3} (a^{\\dagger})^{2}$"
   ]
  },
  {
   "cell_type": "code",
   "execution_count": 6,
   "metadata": {},
   "outputs": [
    {
     "name": "stdout",
     "output_type": "stream",
     "text": [
      "[[ 0.          6.          0.          0.          0.        ]\n",
      " [ 0.          0.         16.97056275  0.          0.        ]\n",
      " [ 0.          0.          0.          0.          0.        ]\n",
      " [ 0.          0.          0.          0.          0.        ]\n",
      " [ 0.          0.          0.          0.          0.        ]]\n"
     ]
    }
   ],
   "source": [
    "q2 = qg.QuantumSystem(dimension=dimension, frequency=w2)\n",
    "\n",
    "# we first modify the qSystem of the _firstTerm\n",
    "# it is crucial that you do this before setting the operator and/or order\n",
    "# otherwise it will raise an error\n",
    "q2._firstTerm.qSystem = (q2, q2)\n",
    "\n",
    "q2.operator = (qg.destroy, qg.create)\n",
    "q2.order = (powOfDestroy, powOfCreate)\n",
    "\n",
    "print(q2.totalHamiltonian.A)"
   ]
  },
  {
   "cell_type": "markdown",
   "metadata": {},
   "source": [
    "### Why such a strange syntax ?\n",
    "\n",
    "Because it enable us to extend similar syntax to couplings, such as the 3 body coupling in below Hamiltonian (for a composite system with 3 subsystems, a spin-1/2, a spin-2, another system with dimension 6). I wrote $\\otimes \\mathbb{1}$ to represent the tensor product with identity operators, which converts bare operators to composite operators.\n",
    "\n",
    "$ H_{3} = \\omega_{1}\\sigma_{z}\\otimes \\mathbb{1} \\otimes \\mathbb{1} + \\mathbb{1} \\otimes \\omega_{2}J_{z}^{2}\\otimes \\mathbb{1} + \\mathbb{1} \\otimes \\mathbb{1}\\otimes \\omega_{3}a^\\dagger a + \\omega_{4}(\\sigma_{+}\\otimes (J_{x}J_{y}) \\otimes (a^{3} (a^{\\dagger})^{2}))$\n",
    "\n",
    "#### Special classes for common systems\n",
    "\n",
    "- Cavity (will implement a maxPhoton attribute) defaults its first term operator to the number\n",
    "- Spin implements a jValue attribute and defaults the first term operator to J_z\n",
    "- Qubit is the special case of Spin with jValue=0.5 (ie dimension=2)"
   ]
  },
  {
   "cell_type": "code",
   "execution_count": 7,
   "metadata": {},
   "outputs": [],
   "source": [
    "w1, w2, w3, w4 = 1, 1, 1, 1\n",
    "spinJ = 2\n",
    "thirdDim = 6"
   ]
  },
  {
   "cell_type": "code",
   "execution_count": 8,
   "metadata": {},
   "outputs": [
    {
     "name": "stdout",
     "output_type": "stream",
     "text": [
      "[[4.5+0.j 0. +0.j 0. +0.j ... 0. +0.j 0. +0.j 0. +0.j]\n",
      " [0. +0.j 5.5+0.j 0. +0.j ... 0. +0.j 0. +0.j 0. +0.j]\n",
      " [0. +0.j 0. +0.j 6.5+0.j ... 0. +0.j 0. +0.j 0. +0.j]\n",
      " ...\n",
      " [0. +0.j 0. +0.j 0. +0.j ... 6.5+0.j 0. +0.j 0. +0.j]\n",
      " [0. +0.j 0. +0.j 0. +0.j ... 0. +0.j 7.5+0.j 0. +0.j]\n",
      " [0. +0.j 0. +0.j 0. +0.j ... 0. +0.j 0. +0.j 8.5+0.j]]\n"
     ]
    }
   ],
   "source": [
    "qubit = qg.Qubit(frequency=w1, alias='subSys1')\n",
    "spin2 = qg.Spin(jValue=spinJ, frequency=w2, order=2, alias='subSys2')\n",
    "cavity = qg.Cavity(dimension=thirdDim, frequency=w3, alias='subSys3')\n",
    "\n",
    "qComp = qubit + spin2 + cavity # order of this sum is important. It maps to the order of identity and other operators above\n",
    "\n",
    "couplingTerm = qComp.createTerm(frequency=w4, \n",
    "                                operator=(qg.sigmap, qg.Jx, qg.Jy, qg.destroy, qg.create),\n",
    "                                order=(1, 1, 1, 3, 2),\n",
    "                                qSystem=(qubit, spin2, spin2, cavity, cavity),\n",
    "                                alias='couplingTerm')\n",
    "# alias is kwargs\n",
    "\n",
    "print(qComp.totalHamiltonian.A)"
   ]
  },
  {
   "cell_type": "code",
   "execution_count": 9,
   "metadata": {},
   "outputs": [
    {
     "name": "stdout",
     "output_type": "stream",
     "text": [
      "['couplingTerm']\n",
      "[<quanguru.classes.QSystem.Qubit object at 0x7fb10323e540>, <quanguru.classes.QSystem.Spin object at 0x7fb10323e840>, <quanguru.classes.QSystem.Spin object at 0x7fb10323e840>, <quanguru.classes.QSystem.Cavity object at 0x7fb10323ba90>, <quanguru.classes.QSystem.Cavity object at 0x7fb10323ba90>]\n",
      "QuantumSystem5\n",
      "{'_QTerm5': <quanguru.classes.QTerms.QTerm object at 0x7fb103151a90>, '_QTerm6': <quanguru.classes.QTerms.QTerm object at 0x7fb103151b40>, '_QTerm7': <quanguru.classes.QTerms.QTerm object at 0x7fb103151bf0>, '_QTerm8': <quanguru.classes.QTerms.QTerm object at 0x7fb103151ca0>, '_QTerm9': <quanguru.classes.QTerms.QTerm object at 0x7fb103151d50>}\n"
     ]
    }
   ],
   "source": [
    "print(couplingTerm.alias)\n",
    "print(couplingTerm.qSystem, couplingTerm.superSys, couplingTerm.subSys, sep='\\n')"
   ]
  },
  {
   "cell_type": "markdown",
   "metadata": {},
   "source": [
    "### TimeDependent term\n",
    "\n",
    "$H = f_{1}(t)\\sigma_z + f_{2}(t)\\sigma_x$\n",
    "\n",
    "where\n",
    "\n",
    "$f(1) = \\sin(t)$\n",
    "\n",
    "and \n",
    "\n",
    "$f(2) =  \\cos^2(t)$"
   ]
  },
  {
   "cell_type": "code",
   "execution_count": 10,
   "metadata": {},
   "outputs": [
    {
     "name": "stdout",
     "output_type": "stream",
     "text": [
      "0 1.0\n"
     ]
    }
   ],
   "source": [
    "qub1 = qg.QuantumSystem(dimension=2, operator=qg.sigmaz)\n",
    "\n",
    "term2 = qub1.createTerm(operator=qg.sigmax, alias='term2')\n",
    "\n",
    "def f1(qsys, time):\n",
    "    qsys.frequency = np.sin(time)\n",
    "qub1._firstTerm.timeDependency = f1\n",
    "\n",
    "def f2(qsys, time):\n",
    "    qsys.frequency = np.cos(time)**2\n",
    "term2.timeDependency = f2\n",
    "\n",
    "qub1._timeDependency(0)\n",
    "print(qub1._firstTerm.frequency, term2.frequency)"
   ]
  },
  {
   "cell_type": "markdown",
   "metadata": {},
   "source": [
    "## Terms and sub-systems\n",
    "\n",
    "terms and subSys are aliasDict"
   ]
  },
  {
   "cell_type": "code",
   "execution_count": 11,
   "metadata": {},
   "outputs": [
    {
     "name": "stdout",
     "output_type": "stream",
     "text": [
      "{'QTerm10': <quanguru.classes.QTerms.QTerm object at 0x7fb1031519e0>}\n",
      "\n",
      "{'Qubit1': <quanguru.classes.QSystem.Qubit object at 0x7fb10323e540>, 'Spin1': <quanguru.classes.QSystem.Spin object at 0x7fb10323e840>, 'Cavity1': <quanguru.classes.QSystem.Cavity object at 0x7fb10323ba90>}\n",
      "\n",
      "{'QTerm7': <quanguru.classes.QTerms.QTerm object at 0x7fb1031c6e00>}\n",
      "\n",
      "{'QTerm8': <quanguru.classes.QTerms.QTerm object at 0x7fb10314ad50>}\n",
      "\n",
      "{'QTerm9': <quanguru.classes.QTerms.QTerm object at 0x7fb10314dbf0>}\n"
     ]
    }
   ],
   "source": [
    "print(qComp.terms, qComp.subSys, qubit.terms, spin2.terms, cavity.terms, sep='\\n\\n')"
   ]
  },
  {
   "cell_type": "code",
   "execution_count": 12,
   "metadata": {},
   "outputs": [
    {
     "name": "stdout",
     "output_type": "stream",
     "text": [
      "[[0.+0.j 0.+0.j 0.+0.j ... 0.+0.j 0.+0.j 0.+0.j]\n",
      " [0.+0.j 0.+0.j 0.+0.j ... 0.+0.j 0.+0.j 0.+0.j]\n",
      " [0.+0.j 0.+0.j 0.+0.j ... 0.+0.j 0.+0.j 0.+0.j]\n",
      " ...\n",
      " [0.+0.j 0.+0.j 0.+0.j ... 0.+0.j 0.+0.j 0.+0.j]\n",
      " [0.+0.j 0.+0.j 0.+0.j ... 0.+0.j 0.+0.j 0.+0.j]\n",
      " [0.+0.j 0.+0.j 0.+0.j ... 0.+0.j 0.+0.j 0.+0.j]] [[4.5 0.  0.  ... 0.  0.  0. ]\n",
      " [0.  5.5 0.  ... 0.  0.  0. ]\n",
      " [0.  0.  6.5 ... 0.  0.  0. ]\n",
      " ...\n",
      " [0.  0.  0.  ... 6.5 0.  0. ]\n",
      " [0.  0.  0.  ... 0.  7.5 0. ]\n",
      " [0.  0.  0.  ... 0.  0.  8.5]]\n"
     ]
    }
   ],
   "source": [
    "print(qComp._termHamiltonian.A, qComp._subSysHamiltonian.A)"
   ]
  },
  {
   "cell_type": "markdown",
   "metadata": {},
   "source": [
    "## Dimension information"
   ]
  },
  {
   "cell_type": "code",
   "execution_count": 13,
   "metadata": {},
   "outputs": [
    {
     "name": "stdout",
     "output_type": "stream",
     "text": [
      "[2, 5, 6] 2 5 6\n"
     ]
    }
   ],
   "source": [
    "print(qComp.subSysDimensions, qubit.dimension, spin2.dimension, cavity.dimension)"
   ]
  },
  {
   "cell_type": "code",
   "execution_count": 14,
   "metadata": {},
   "outputs": [
    {
     "name": "stdout",
     "output_type": "stream",
     "text": [
      "60 5 6 2\n"
     ]
    }
   ],
   "source": [
    "print(spin2._totalDim, spin2.dimension, spin2._dimsAfter, spin2._dimsBefore)"
   ]
  },
  {
   "cell_type": "markdown",
   "metadata": {},
   "source": [
    "### composite operators"
   ]
  },
  {
   "cell_type": "code",
   "execution_count": 15,
   "metadata": {},
   "outputs": [
    {
     "name": "stdout",
     "output_type": "stream",
     "text": [
      "(60, 60)\n",
      "36 3 6 2\n",
      "(36, 36)\n",
      "12 3 2 2\n",
      "(12, 12)\n"
     ]
    }
   ],
   "source": [
    "spin2._compositeOperator = qg.Jx\n",
    "print(spin2._compositeOperator[qg.Jx].shape)\n",
    "\n",
    "spin2.jValue = 1\n",
    "print(spin2._totalDim, spin2.dimension, spin2._dimsAfter, spin2._dimsBefore)\n",
    "print(spin2._compositeOperator[qg.Jx].shape)\n",
    "\n",
    "cavity.dimension = 2\n",
    "print(spin2._totalDim, spin2.dimension, spin2._dimsAfter, spin2._dimsBefore)\n",
    "print(spin2._compositeOperator[qg.Jx].shape)"
   ]
  },
  {
   "cell_type": "markdown",
   "metadata": {},
   "source": [
    "### matrix re-creations"
   ]
  },
  {
   "cell_type": "code",
   "execution_count": 16,
   "metadata": {},
   "outputs": [
    {
     "name": "stdout",
     "output_type": "stream",
     "text": [
      "None\n"
     ]
    }
   ],
   "source": [
    "newSys = qg.QuantumSystem(dimension=2, operator=qg.create, frequency=1)\n",
    "print(newSys._paramBoundBase__matrix)"
   ]
  },
  {
   "cell_type": "code",
   "execution_count": 17,
   "metadata": {},
   "outputs": [
    {
     "name": "stdout",
     "output_type": "stream",
     "text": [
      "[[0. 0.]\n",
      " [1. 0.]] True\n"
     ]
    }
   ],
   "source": [
    "print(newSys.totalHamiltonian.A, newSys.totalHamiltonian is newSys._paramBoundBase__matrix)"
   ]
  },
  {
   "cell_type": "code",
   "execution_count": 18,
   "metadata": {},
   "outputs": [
    {
     "name": "stdout",
     "output_type": "stream",
     "text": [
      "None\n",
      "[[0.         0.         0.         0.        ]\n",
      " [1.         0.         0.         0.        ]\n",
      " [0.         1.41421356 0.         0.        ]\n",
      " [0.         0.         1.73205081 0.        ]] True\n"
     ]
    }
   ],
   "source": [
    "newSys.dimension = 4\n",
    "print(newSys._paramBoundBase__matrix)\n",
    "print(newSys.totalHamiltonian.A, newSys.totalHamiltonian is newSys._paramBoundBase__matrix)"
   ]
  },
  {
   "cell_type": "code",
   "execution_count": 19,
   "metadata": {},
   "outputs": [
    {
     "name": "stdout",
     "output_type": "stream",
     "text": [
      "  (1, 0)\t1.0\n",
      "  (2, 1)\t1.4142135623730951\n",
      "  (3, 2)\t1.7320508075688772\n"
     ]
    }
   ],
   "source": [
    "newSys.dimension = 4\n",
    "print(newSys._paramBoundBase__matrix)"
   ]
  },
  {
   "cell_type": "markdown",
   "metadata": {},
   "source": [
    "#### hc of __matrix"
   ]
  },
  {
   "cell_type": "code",
   "execution_count": 20,
   "metadata": {},
   "outputs": [
    {
     "name": "stdout",
     "output_type": "stream",
     "text": [
      "[[0.         1.         0.         0.        ]\n",
      " [0.         0.         1.41421356 0.        ]\n",
      " [0.         0.         0.         1.73205081]\n",
      " [0.         0.         0.         0.        ]]\n",
      "[[0.         0.         0.         0.        ]\n",
      " [1.         0.         0.         0.        ]\n",
      " [0.         1.41421356 0.         0.        ]\n",
      " [0.         0.         1.73205081 0.        ]]\n"
     ]
    }
   ],
   "source": [
    "print(newSys._hc.A, newSys.totalHamiltonian.A, sep='\\n')"
   ]
  },
  {
   "cell_type": "code",
   "execution_count": 21,
   "metadata": {},
   "outputs": [
    {
     "name": "stdout",
     "output_type": "stream",
     "text": [
      "  (1, 0)\t1.0\n",
      "  (2, 1)\t1.4142135623730951\n",
      "  (3, 2)\t1.7320508075688772\n",
      "\n",
      "None\n",
      "[[0.         0.         0.         0.         0.        ]\n",
      " [1.         0.         0.         0.         0.        ]\n",
      " [0.         1.41421356 0.         0.         0.        ]\n",
      " [0.         0.         1.73205081 0.         0.        ]\n",
      " [0.         0.         0.         2.         0.        ]]\n",
      "\n",
      "  (1, 0)\t1.0\n",
      "  (2, 1)\t1.4142135623730951\n",
      "  (3, 2)\t1.7320508075688772\n",
      "  (4, 3)\t2.0\n"
     ]
    }
   ],
   "source": [
    "newSys.dimension = 5\n",
    "print(newSys._firstTerm._QTerm__HamiltonianTerm, newSys._firstTerm._paramBoundBase__matrix, sep='\\n\\n')\n",
    "print(newSys._firstTerm.totalHamiltonian.A, newSys._firstTerm._paramBoundBase__matrix, sep='\\n\\n')"
   ]
  },
  {
   "cell_type": "code",
   "execution_count": 22,
   "metadata": {},
   "outputs": [
    {
     "name": "stdout",
     "output_type": "stream",
     "text": [
      "True True\n",
      "  (1, 0)\t1.0\n",
      "  (2, 1)\t1.4142135623730951\n",
      "  (3, 2)\t1.7320508075688772\n",
      "  (4, 3)\t2.0\n",
      "\n",
      "  (1, 0)\t1.0\n",
      "  (2, 1)\t1.4142135623730951\n",
      "  (3, 2)\t1.7320508075688772\n",
      "  (4, 3)\t2.0\n",
      "True False\n",
      "False False\n"
     ]
    }
   ],
   "source": [
    "newSys.frequency = 2\n",
    "print(newSys._paramUpdated, newSys._firstTerm._paramUpdated)\n",
    "print(newSys._firstTerm._QTerm__HamiltonianTerm, newSys._firstTerm._paramBoundBase__matrix, sep='\\n\\n')\n",
    "newSys._firstTerm.totalHamiltonian\n",
    "\n",
    "newSys.frequency = 2\n",
    "print(newSys._paramUpdated, newSys._firstTerm._paramUpdated)\n",
    "newSys.totalHamiltonian\n",
    "print(newSys._paramUpdated, newSys._firstTerm._paramUpdated)"
   ]
  },
  {
   "cell_type": "markdown",
   "metadata": {},
   "source": [
    "## Composite system information"
   ]
  },
  {
   "cell_type": "code",
   "execution_count": 23,
   "metadata": {},
   "outputs": [
    {
     "name": "stdout",
     "output_type": "stream",
     "text": [
      "True False False False\n"
     ]
    }
   ],
   "source": [
    "print(qComp._isComposite, qubit._isComposite, spin2._isComposite, cavity._isComposite)"
   ]
  },
  {
   "cell_type": "code",
   "execution_count": 24,
   "metadata": {},
   "outputs": [
    {
     "name": "stdout",
     "output_type": "stream",
     "text": [
      "0 0 1 2\n"
     ]
    }
   ],
   "source": [
    "print(qComp.ind, qubit.ind, spin2.ind, cavity.ind)"
   ]
  },
  {
   "cell_type": "code",
   "execution_count": 25,
   "metadata": {},
   "outputs": [
    {
     "name": "stdout",
     "output_type": "stream",
     "text": [
      "{'QTerm17': <quanguru.classes.QTerms.QTerm object at 0x7fb10317a9e0>}\n",
      "{'Qubit2': <quanguru.classes.QSystem.Qubit object at 0x7fb10323ea40>, 'Spin2': <quanguru.classes.QSystem.Spin object at 0x7fb10323eb40>, 'Cavity2': <quanguru.classes.QSystem.Cavity object at 0x7fb103177040>}\n",
      "True\n"
     ]
    }
   ],
   "source": [
    "qCompCopy = qComp.copy()\n",
    "print(qCompCopy.terms, qCompCopy.subSys, sep='\\n')\n",
    "print(np.allclose(qCompCopy.totalHamiltonian.A, qComp.totalHamiltonian.A))"
   ]
  },
  {
   "cell_type": "code",
   "execution_count": 26,
   "metadata": {},
   "outputs": [
    {
     "name": "stdout",
     "output_type": "stream",
     "text": [
      "{}\n",
      "{'Qubit1': <quanguru.classes.QSystem.Qubit object at 0x7fb10323e540>, 'Cavity1': <quanguru.classes.QSystem.Cavity object at 0x7fb10323ba90>}\n",
      "[2, 2]\n"
     ]
    }
   ],
   "source": [
    "qComp.removeSubSys(spin2)\n",
    "print(qComp.terms, qComp.subSys, qComp.subSysDimensions, sep='\\n')"
   ]
  },
  {
   "cell_type": "code",
   "execution_count": 27,
   "metadata": {},
   "outputs": [
    {
     "name": "stdout",
     "output_type": "stream",
     "text": [
      "{}\n",
      "{}\n",
      "[]\n"
     ]
    }
   ],
   "source": [
    "qComp.resetTerms(), qComp.resetSubSys()\n",
    "print(qComp.terms, qComp.subSys, qComp.subSysDimensions, sep='\\n')"
   ]
  },
  {
   "cell_type": "markdown",
   "metadata": {},
   "source": [
    "#### subSys of QTerm"
   ]
  },
  {
   "cell_type": "code",
   "execution_count": 28,
   "metadata": {},
   "outputs": [
    {
     "name": "stdout",
     "output_type": "stream",
     "text": [
      "dict_keys(['_QTerm5', '_QTerm6', '_QTerm7', '_QTerm8', '_QTerm9'])\n",
      "dict_keys(['_QTerm5', '_QTerm6', '_QTerm8', '_QTerm9'])\n"
     ]
    }
   ],
   "source": [
    "print(couplingTerm.subSys.keys())\n",
    "\n",
    "internalTerms = list(couplingTerm.subSys.values())\n",
    "\n",
    "couplingTerm.removeSubSys('_QTerm7')\n",
    "print(couplingTerm.subSys.keys())"
   ]
  },
  {
   "cell_type": "code",
   "execution_count": 29,
   "metadata": {},
   "outputs": [
    {
     "name": "stdout",
     "output_type": "stream",
     "text": [
      "dict_keys([])\n",
      "dict_keys(['_QTerm5', '_QTerm6', '_QTerm7', '_QTerm8', '_QTerm9'])\n"
     ]
    }
   ],
   "source": [
    "couplingTerm.resetSubSys()\n",
    "print(couplingTerm.subSys.keys())\n",
    "\n",
    "couplingTerm.subSys = internalTerms\n",
    "print(couplingTerm.subSys.keys())"
   ]
  },
  {
   "cell_type": "markdown",
   "metadata": {},
   "source": [
    "#### Operator overloads"
   ]
  },
  {
   "cell_type": "code",
   "execution_count": 30,
   "metadata": {},
   "outputs": [
    {
     "name": "stdout",
     "output_type": "stream",
     "text": [
      "{'Qubit1': <quanguru.classes.QSystem.Qubit object at 0x7fb10323e540>, 'Spin1': <quanguru.classes.QSystem.Spin object at 0x7fb10323e840>, 'Cavity1': <quanguru.classes.QSystem.Cavity object at 0x7fb10323ba90>} QuantumSystem5\n",
      "{'QuantumSystem5': <quanguru.classes.QSystem.QuantumSystem object at 0x7fb10323bb80>, 'QuantumSystem10': <quanguru.classes.QSystem.QuantumSystem object at 0x7fb103177220>}\n"
     ]
    }
   ],
   "source": [
    "qComp.subSys = [qubit, spin2, cavity]\n",
    "print(qComp.subSys, qComp.name)\n",
    "qComp += 4*qg.QuantumSystem(dimension=2)\n",
    "print(qComp.subSys)"
   ]
  },
  {
   "cell_type": "code",
   "execution_count": 31,
   "metadata": {},
   "outputs": [
    {
     "name": "stdout",
     "output_type": "stream",
     "text": [
      "{'QuantumSystem5': <quanguru.classes.QSystem.QuantumSystem object at 0x7fb10323bb80>, 'QuantumSystem10': <quanguru.classes.QSystem.QuantumSystem object at 0x7fb103177220>}\n",
      "{'Spin1': <quanguru.classes.QSystem.Spin object at 0x7fb10323e840>, 'Cavity1': <quanguru.classes.QSystem.Cavity object at 0x7fb10323ba90>}\n",
      "{'QuantumSystem9': <quanguru.classes.QSystem.QuantumSystem object at 0x7fb103177130>, 'QuantumSystem11': <quanguru.classes.QSystem.QuantumSystem object at 0x7fb10323bd60>, 'QuantumSystem12': <quanguru.classes.QSystem.QuantumSystem object at 0x7fb103177310>, 'QuantumSystem13': <quanguru.classes.QSystem.QuantumSystem object at 0x7fb1031774f0>}\n"
     ]
    }
   ],
   "source": [
    "qComp -= qubit\n",
    "print(qComp.subSys)\n",
    "print(qComp.subSys['QuantumSystem5'].subSys)\n",
    "print(qComp.subSys['QuantumSystem10'].subSys)"
   ]
  },
  {
   "cell_type": "markdown",
   "metadata": {},
   "source": [
    "## Initial state\n",
    " \n",
    "### various types of initial state input: single number, list of numbers, dictionary (inpCoef False/True), and matrix (with consistent dimension)\n"
   ]
  },
  {
   "cell_type": "markdown",
   "metadata": {},
   "source": [
    "Before diving into the examples, let's first define certain conventions and notations representing the eigenvectors of $\\sigma_{z}$ operator.\n",
    "\n",
    "Matrix form of $\\sigma_{z}$ operator is:\n",
    "\n",
    "$\\sigma_{z} = \\left[\\begin{array}{ll}1 & 0 \\\\ 0 & -1\\end{array}\\right]$\n",
    "\n",
    "and its eigenvectors (with the corresponding eigenvalues) are\n",
    "\n",
    "$|0\\rangle = \\left[\\begin{array}{ll} 1 \\\\ 0 \\end{array}\\right] \\text{ (with eigenvalue 1)}$\n",
    "\n",
    "\n",
    "$|1\\rangle = \\left[\\begin{array}{ll} 0 \\\\ 1 \\end{array}\\right] \\text{ (with eigenvalue -1)}$\n",
    "\n",
    "The labels, 0 and 1, of the ket states here represent the position of the 1 in the column matrices. In other words, the $|0\\rangle$ has 1 at row 0, and the $|1\\rangle$ has 1 at row 1. This convention extends naturally and is used for higher dimensional systems such as larger spins or harmonic oscillators.\n",
    "We will refer these as `basis` states, and the `basis` method of `QuantumToolbox` can be used for the creation of such states, but, here we focus on creating the initial states through the `Qubit` object.\n",
    "\n",
    "## 1. Pure States\n",
    "\n",
    "### 1.1 If Initial state is a basis state\n",
    "\n",
    "In order to set $|0\\rangle$ or $|1\\rangle$, we simply give the respective number as input for the `initialState`"
   ]
  },
  {
   "cell_type": "code",
   "execution_count": 32,
   "metadata": {},
   "outputs": [
    {
     "name": "stdout",
     "output_type": "stream",
     "text": [
      "[[1.]\n",
      " [0.]]\n",
      "[[0.]\n",
      " [1.]]\n"
     ]
    }
   ],
   "source": [
    "qub = qg.Qubit(frequency=1)\n",
    "\n",
    "qub.initialState = 0\n",
    "print(qub.initialState.A)\n",
    "\n",
    "qub.initialState = 1\n",
    "print(qub.initialState.A)\n"
   ]
  },
  {
   "cell_type": "markdown",
   "metadata": {},
   "source": [
    "### 1.2 If Initial state is a superposition state\n",
    "\n",
    "If we want to set some super-position of $|0\\rangle$ and $|1\\rangle$ as the initial state, we can do this in various different ways depending on the superposition state we want to set.\n",
    "\n",
    "#### 1.2.1 If Initial state is an equal superposition state\n",
    "The first method is for the equal superposition state\n",
    "\n",
    "$\\frac{1}{\\sqrt{2}}(|0\\rangle + |1\\rangle )$\n",
    "\n",
    "In this special case, we simply give a list $[1, 0]$ (or $[0, 1]$ the order is not important) of the states, and it is used to create the equal superposition. Note that \"equal superposition\" here does not mean equal superposition of every basis states, it just means equal superposition of the given input basis states. In other words, for higher dimensional systems, you can create an equal superposition of any number of basis states. For example for a 5 dimensional system, $[1, 0, 3]$ will create equal superposition of these three basis states."
   ]
  },
  {
   "cell_type": "code",
   "execution_count": 33,
   "metadata": {},
   "outputs": [
    {
     "name": "stdout",
     "output_type": "stream",
     "text": [
      "[[0.70710678]\n",
      " [0.70710678]]\n"
     ]
    }
   ],
   "source": [
    "qub.initialState = [1, 0]\n",
    "print(qub.initialState.A)"
   ]
  },
  {
   "cell_type": "markdown",
   "metadata": {},
   "source": [
    "#### 1.2.2 If Initial state is an arbitrary superposition state\n",
    "\n",
    "The second method for creating a superposition state is by using a dictionary, where `key:value` pairs represent the `basis-state:population/coefficient`.\n",
    "\n",
    "`population/coefficient` here means that there are also two different ways for this approach.\n",
    "\n",
    "Consider the following superposition state\n",
    "\n",
    "$c_{0}|0\\rangle + c_{1}|1\\rangle$\n",
    "\n",
    "where $c_{i}$ are the complex probability amplitudes, and $p_{i} = |c_{i}|^{2}$ are the population, satisfying the normalization condition $\\sum_{i}p_{i} = 1$.\n",
    "\n",
    "Now, we can create our superposition state either by using the `population` or `coefficient`.\n",
    "\n",
    "##### 1.2.2.1 Initial state using the populations\n",
    "\n",
    "Let's cover the `population` first, which is the default method. Below is an example where we want $p_{0} = 0.2$ and $p_{1} = 0.8$. Note that the order of the `key:value` pairs does not matter, meaning `{0:0.2, 1:0.8}` is the same as `{1:0.8, 0:0.2}`."
   ]
  },
  {
   "cell_type": "code",
   "execution_count": 34,
   "metadata": {},
   "outputs": [
    {
     "name": "stdout",
     "output_type": "stream",
     "text": [
      "[[0.4472136 ]\n",
      " [0.89442719]]\n",
      "[[0.2 0.4]\n",
      " [0.4 0.8]]\n",
      "1.0000000000000009\n"
     ]
    }
   ],
   "source": [
    "qub.initialState = {0:0.2, 1:0.8}\n",
    "print(qub.initialState.A)\n",
    "\n",
    "# let's also convert this initial state into density matrix to confirm:\n",
    "# (i) the populations and (ii) its purity\n",
    "denMat = qg.densityMatrix(qub.initialState)\n",
    "print(denMat.A, qg.purity(denMat), sep='\\n')"
   ]
  },
  {
   "cell_type": "markdown",
   "metadata": {},
   "source": [
    "Also note that the populations can be *relative*, meaning the input does not have to sum to 1, and they will be normalized to sum to one. For example, if we input ${0:0.2, 1:0.9}$, the total population is $1.1$. Therefore, it will be normalized to ${0:(0.2/1.1), 1:(0.9/1.1)}$."
   ]
  },
  {
   "cell_type": "code",
   "execution_count": 35,
   "metadata": {},
   "outputs": [
    {
     "name": "stdout",
     "output_type": "stream",
     "text": [
      "[[0.42640143]\n",
      " [0.90453403]]\n",
      "[[0.18181818 0.38569461]\n",
      " [0.38569461 0.81818182]]\n",
      "1.0000000000000007\n",
      "0.8181818181818181\n",
      "0.18181818181818182\n"
     ]
    }
   ],
   "source": [
    "qub.initialState = {0:0.2, 1:0.9}\n",
    "print(qub.initialState.A)\n",
    "\n",
    "denMat = qg.densityMatrix(qub.initialState)\n",
    "print(denMat.A, qg.purity(denMat), 0.9/1.1, 0.2/1.1, sep='\\n')"
   ]
  },
  {
   "cell_type": "markdown",
   "metadata": {},
   "source": [
    "##### 1.2.2.2 If the relative phases are important\n",
    "\n",
    "Obviously, the `population` approach ignores the relative phase between the `coefficients`, which might be important for us.\n",
    "In such a case, we can give the `key:value` value pairs as `state:coefficient`, but we also need to set `_inpCoef` to `True` as below, where we compare the `population` and `coefficient` approach.\n",
    "Notice that both cases below creates $p_{0} = 0.66$ and $p_{1} = 0.33$, but the first one uses the complex probability amplitudes introducing a relative phase, which is observed as the complex parts of the off-diagonal elements of the density matrix. "
   ]
  },
  {
   "cell_type": "code",
   "execution_count": 36,
   "metadata": {},
   "outputs": [
    {
     "name": "stdout",
     "output_type": "stream",
     "text": [
      "[[0.57735027+0.57735027j]\n",
      " [0.57735027+0.j        ]]\n",
      "[[0.66666667+0.j         0.33333333+0.33333333j]\n",
      " [0.33333333-0.33333333j 0.33333333+0.j        ]]\n",
      "(0.9999999999999989+0j)\n",
      "[[0.81649658]\n",
      " [0.57735027]]\n",
      "[[0.66666667 0.47140452]\n",
      " [0.47140452 0.33333333]]\n",
      "1.0\n"
     ]
    }
   ],
   "source": [
    "qub._inpCoef = True\n",
    "qub.initialState = {0:0.2*(1+1j), 1:0.2}\n",
    "print(qub.initialState.A)\n",
    "denMat = qg.densityMatrix(qub.initialState)\n",
    "print(denMat.A, qg.purity(denMat), sep='\\n')\n",
    "\n",
    "qub._inpCoef = False\n",
    "qub.initialState = {0:0.66, 1:0.33}\n",
    "print(qub.initialState.A)\n",
    "denMat = qg.densityMatrix(qub.initialState)\n",
    "print(denMat.A, qg.purity(denMat), sep='\\n')"
   ]
  },
  {
   "cell_type": "markdown",
   "metadata": {},
   "source": [
    "## Mixed states or any other arbitrary state\n",
    "\n",
    "`initialState` also accepts a (ket or density) matrix as input, which makes it possible to set any state we want as the initial state.\n",
    "For example, if we want the initial state to be a mixed state, we can create it using the `densityMatrix` function of `QuantumToolbox` then set it through again the `initialState` as below, where we also calculate the purity of each mixed state."
   ]
  },
  {
   "cell_type": "code",
   "execution_count": 37,
   "metadata": {},
   "outputs": [
    {
     "name": "stdout",
     "output_type": "stream",
     "text": [
      "[[0.5 0. ]\n",
      " [0.  0.5]]\n",
      "0.5\n",
      "[[0.75 0.  ]\n",
      " [0.   0.25]]\n",
      "0.625\n"
     ]
    }
   ],
   "source": [
    "mixedState = qg.densityMatrix([qg.basis(2,1), qg.basis(2,0)], [0.5, 0.5])\n",
    "qub.initialState = mixedState\n",
    "print(qub.initialState.A, qg.purity(qub.initialState), sep='\\n')\n",
    "\n",
    "mixedState = qg.densityMatrix([qg.basis(2,1), qg.basis(2,0)], [0.25, 0.75])\n",
    "qub.initialState = mixedState\n",
    "print(qub.initialState.A, qg.purity(qub.initialState), sep='\\n')"
   ]
  },
  {
   "cell_type": "markdown",
   "metadata": {},
   "source": [
    "## _createState function pointer for custom initial state creators"
   ]
  },
  {
   "cell_type": "code",
   "execution_count": 38,
   "metadata": {},
   "outputs": [
    {
     "name": "stdout",
     "output_type": "stream",
     "text": [
      "[[0.70710678]\n",
      " [0.70710678]]\n"
     ]
    }
   ],
   "source": [
    "def customStateCreator(qsys, inp=None, _maxInput=1):\n",
    "    return qg.superPos(qsys.dimension, inp, not qsys._inpCoef) if _maxInput < qsys.dimension else None\n",
    "qg.QuantumSystem._createState = customStateCreator\n",
    "qub.initialState = 0, 1\n",
    "print(qub.initialState.A)"
   ]
  },
  {
   "cell_type": "markdown",
   "metadata": {},
   "source": [
    "## other aux\n",
    "\n",
    "- number of `QuantumSystem` instances\n",
    "- setting internal simulation operator parameters directly through self\n",
    "- unitary of internal freeEvolution (_freeEvol) and addProtocol"
   ]
  },
  {
   "cell_type": "code",
   "execution_count": 39,
   "metadata": {},
   "outputs": [
    {
     "name": "stdout",
     "output_type": "stream",
     "text": [
      "3 3\n",
      "3 2 2 14\n"
     ]
    }
   ],
   "source": [
    "print(qub._instances, qg.Qubit._instances)\n",
    "print(qg.Qubit._instances, qg.Spin._instances, qg.Cavity._instances, qg.QuantumSystem._instances)"
   ]
  },
  {
   "cell_type": "code",
   "execution_count": 40,
   "metadata": {},
   "outputs": [
    {
     "name": "stdout",
     "output_type": "stream",
     "text": [
      "1\n",
      "2\n"
     ]
    }
   ],
   "source": [
    "qub.simStepSize = 1\n",
    "print(qub.stepSize)\n",
    "qub.stepSize = 2\n",
    "print(qub.stepSize)"
   ]
  },
  {
   "cell_type": "code",
   "execution_count": 41,
   "metadata": {},
   "outputs": [
    {
     "data": {
      "text/plain": [
       "True"
      ]
     },
     "execution_count": 41,
     "metadata": {},
     "output_type": "execute_result"
    }
   ],
   "source": [
    "qub._freeEvol.unitary() is qub.unitary()"
   ]
  },
  {
   "cell_type": "code",
   "execution_count": null,
   "metadata": {},
   "outputs": [],
   "source": []
  }
 ],
 "metadata": {
  "kernelspec": {
   "display_name": "Python 3.8.10 ('QuanGuruDev')",
   "language": "python",
   "name": "python3"
  },
  "language_info": {
   "codemirror_mode": {
    "name": "ipython",
    "version": 3
   },
   "file_extension": ".py",
   "mimetype": "text/x-python",
   "name": "python",
   "nbconvert_exporter": "python",
   "pygments_lexer": "ipython3",
   "version": "3.8.10"
  },
  "orig_nbformat": 4,
  "vscode": {
   "interpreter": {
    "hash": "7dd8b8ab1ee68b14d8525f7a23f5eb2c80bbe1961b7b5771fc878d8483dd6438"
   }
  }
 },
 "nbformat": 4,
 "nbformat_minor": 2
}
