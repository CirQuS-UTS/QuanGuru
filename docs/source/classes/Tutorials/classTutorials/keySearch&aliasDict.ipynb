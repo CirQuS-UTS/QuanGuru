{
 "cells": [
  {
   "cell_type": "code",
   "execution_count": 1,
   "metadata": {},
   "outputs": [],
   "source": [
    "import quanguru as qg"
   ]
  },
  {
   "cell_type": "markdown",
   "metadata": {},
   "source": [
    "# `keySearch`\n",
    "\n",
    "`keySearch` method searches for a key in a `dictionary.keys()`. This method is mainly used in `aliasDict` class (extending `dict` class) to find the actual key when using `aliasClass` as the key, which returns equal for a specific string (its `name`) or any other string in its list of aliases.  "
   ]
  },
  {
   "cell_type": "code",
   "execution_count": 2,
   "metadata": {},
   "outputs": [
    {
     "name": "stdout",
     "output_type": "stream",
     "text": [
      "someKey\n",
      "key2\n",
      "k1\n",
      "k1\n",
      "k1\n",
      "k1\n"
     ]
    }
   ],
   "source": [
    "# an instance of an aliasClass with a name and a list of aliases\n",
    "key1 = qg.base.aliasClass(name=\"k1\", alias=[1, 4, \"elias\", \"string\"])\n",
    "\n",
    "# a dictionary with an aliasClass instance used as the first key\n",
    "exampleDict = {key1: 1, \"key2\": \"two\"}\n",
    "\n",
    "# keySearch method returns the key itself regardless of whether the key is in the dictionary or not \n",
    "print(qg.base.keySearch(exampleDict, \"someKey\"))\n",
    "print(qg.base.keySearch(exampleDict, \"key2\"))\n",
    "\n",
    "# if the key is an object, both the object itself and its name can be passed\n",
    "print(qg.base.keySearch(exampleDict, key1))\n",
    "print(qg.base.keySearch(exampleDict, \"k1\"))\n",
    "\n",
    "# also, any of the aliases from the obeject's alias list can be used\n",
    "print(qg.base.keySearch(exampleDict, 1))\n",
    "print(qg.base.keySearch(exampleDict, \"elias\"))"
   ]
  },
  {
   "cell_type": "markdown",
   "metadata": {},
   "source": [
    "Since two `aliasClass` objects are considered equal when their names are the same, or at least one of their aliases are the same, a different instance of `aliasClass` can be passed to the `keySearch` method."
   ]
  },
  {
   "cell_type": "code",
   "execution_count": 3,
   "metadata": {},
   "outputs": [
    {
     "name": "stdout",
     "output_type": "stream",
     "text": [
      "k1\n"
     ]
    }
   ],
   "source": [
    "# a different instance of an aliasClass with its alias (\"elias\") equal to that of key1 object \n",
    "exampleKey = qg.base.aliasClass(name=\"exK\", alias=[\"example\", \"elias\"])\n",
    "\n",
    "# since exampleKey and key1 objects are equal, keySearch method returns key1.name\n",
    "print(qg.base.keySearch(exampleDict, exampleKey))"
   ]
  },
  {
   "cell_type": "markdown",
   "metadata": {},
   "source": [
    "# `aliasDict`\n",
    "\n",
    "`aliasDict` class extends regular `dict` class, by treating keys satisfying ``key1 == keys2`` as the same key. `aliasClass` objects can be used as keys, and thus the value of the key can be accessed by passing the name or any of the aliases of the `aliasClass` object.\n",
    "\n",
    "`aliasDict` class can be used in various dictionaries in the library such as `_allInstacesDict`, `subSys`, `allResults`, etc. \n"
   ]
  },
  {
   "cell_type": "code",
   "execution_count": 4,
   "metadata": {},
   "outputs": [
    {
     "name": "stdout",
     "output_type": "stream",
     "text": [
      "1\n",
      "two\n",
      "1\n",
      "1\n",
      "1\n",
      "1\n"
     ]
    }
   ],
   "source": [
    "# an instance of an aliasDict class with the first key as an aliasClass object\n",
    "alDict = qg.base.aliasDict([(key1, 1), (\"key2\", \"two\")])\n",
    "\n",
    "# aliasDict method works like a regular dictionary\n",
    "print(alDict[key1])\n",
    "print(alDict[\"key2\"])\n",
    "\n",
    "# since key1 is an aliasClass object, its name and any alias can be passed\n",
    "print(alDict[key1.name])\n",
    "print(alDict[key1.alias[0]])\n",
    "print(alDict[\"k1\"])\n",
    "print(alDict[\"elias\"])"
   ]
  },
  {
   "cell_type": "code",
   "execution_count": 5,
   "metadata": {},
   "outputs": [
    {
     "name": "stdout",
     "output_type": "stream",
     "text": [
      "two\n",
      "1\n"
     ]
    }
   ],
   "source": [
    "# if some other aliasClass object has the same name as the name of the key \n",
    "# in a dictionary, this object can also be used to get the value of this key\n",
    "someOther = qg.base.aliasClass(name=\"key2\", alias=[\"are\", \"you\"])\n",
    "print(alDict[someOther])\n",
    "\n",
    "# this works for aliases too\n",
    "# an aliasClass object with the same alias as that of key1 object\n",
    "withAlias = qg.base.aliasClass(name=\"withAlias\", alias=[\"elias\", \"you\"])\n",
    "print(alDict[withAlias])"
   ]
  },
  {
   "cell_type": "code",
   "execution_count": 6,
   "metadata": {},
   "outputs": [
    {
     "name": "stdout",
     "output_type": "stream",
     "text": [
      "1\n",
      "two\n",
      "None\n",
      "1\n",
      "1\n"
     ]
    }
   ],
   "source": [
    "# get() method works as usual\n",
    "print(alDict.get(key1))\n",
    "print(alDict.get(\"key2\"))\n",
    "print(alDict.get(\"randomString\"))\n",
    "\n",
    "# the name and any alias can be used if the key is an object\n",
    "print(alDict.get(\"k1\"))\n",
    "print(alDict.get(\"string\"))"
   ]
  },
  {
   "cell_type": "code",
   "execution_count": 7,
   "metadata": {},
   "outputs": [
    {
     "name": "stdout",
     "output_type": "stream",
     "text": [
      "{'k1': 1, 'key2': 'two', 'third': 'string3'}\n",
      "{'k1': 1, 'key2': 'two', 'third': 'str3'}\n",
      "{'k1': 'str1', 'key2': 'two', 'third': 'str3'}\n",
      "{'k1': 'str1name', 'key2': 'two', 'third': 'str3'}\n",
      "{'k1': 'str1alias', 'key2': 'two', 'third': 'str3'}\n",
      "{'k1': 'str1example', 'key2': 'two', 'third': 'str3'}\n"
     ]
    }
   ],
   "source": [
    "# a new key-value pair can be added to a dictionary\n",
    "alDict[\"third\"] = \"string3\"\n",
    "print(alDict)\n",
    "\n",
    "# a value can also be updated\n",
    "alDict[\"third\"] = \"str3\"\n",
    "print(alDict)\n",
    "\n",
    "# the same can be done for a key which is an aliasClass object \n",
    "alDict[key1] = \"str1\"\n",
    "print(alDict)\n",
    "\n",
    "# name and any alias can also be used\n",
    "alDict[\"k1\"] = \"str1name\"\n",
    "print(alDict)\n",
    "\n",
    "alDict[\"elias\"] = \"str1alias\"\n",
    "print(alDict)\n",
    "\n",
    "# and any other object which is equal to a key can also be passed\n",
    "alDict[exampleKey] = \"str1example\"\n",
    "print(alDict)"
   ]
  },
  {
   "cell_type": "code",
   "execution_count": 8,
   "metadata": {},
   "outputs": [
    {
     "name": "stdout",
     "output_type": "stream",
     "text": [
      "{'k1': 'str1example', 'key2': 'two', 'third': 'str3'}\n",
      "{'k1': 'str1example', 'key2': 'two'}\n",
      "{'key2': 'two'}\n",
      "{'key2': 'two', 'k1': 'str1'}\n",
      "{'key2': 'two'}\n",
      "{'key2': 'two', 'k1': 'str1'}\n",
      "{'key2': 'two'}\n"
     ]
    }
   ],
   "source": [
    "# any item can be deleted as follows\n",
    "print(alDict)\n",
    "del alDict[\"third\"] \n",
    "print(alDict)\n",
    "\n",
    "# an object itself can also be used for deleting\n",
    "del alDict[key1] \n",
    "print(alDict)\n",
    "\n",
    "# here we add it again to show more examples\n",
    "alDict[key1] = \"str1\"\n",
    "print(alDict)\n",
    "\n",
    "# a name of the object can be used\n",
    "del alDict[\"k1\"] \n",
    "print(alDict)\n",
    "\n",
    "# add again and use an alias instead\n",
    "alDict[key1] = \"str1\"\n",
    "print(alDict)\n",
    "del alDict[\"string\"] \n",
    "print(alDict)\n",
    "\n"
   ]
  },
  {
   "cell_type": "code",
   "execution_count": 9,
   "metadata": {},
   "outputs": [
    {
     "name": "stdout",
     "output_type": "stream",
     "text": [
      "True\n",
      "True\n",
      "True\n",
      "True\n",
      "False\n",
      "True\n"
     ]
    }
   ],
   "source": [
    "# let's add key1 back again\n",
    "alDict[key1] = \"str1\"\n",
    "\n",
    "# we can check whether aliasDict contains a specific key or not\n",
    "print(\"key2\" in alDict)\n",
    "\n",
    "# aliasClass object, its name and any of its aliases can be used as well\n",
    "print(key1 in alDict)\n",
    "print(\"k1\" in alDict)\n",
    "print(\"elias\" in alDict)\n",
    "\n",
    "# when aliasDict object does not contain a specific key if shows False\n",
    "print(\"someKey\" in alDict)\n",
    "\n",
    "# if some other object of the aliasClass (exampleKey) is equal to a key (key1) in aliasDict object\n",
    "print(exampleKey in alDict)"
   ]
  },
  {
   "cell_type": "code",
   "execution_count": 10,
   "metadata": {},
   "outputs": [
    {
     "name": "stdout",
     "output_type": "stream",
     "text": [
      "{'key2': 'two', 'k1': 'str1'}\n",
      "{'key2': 'v2', 'k1': 'str1', 'ok1': 'v1'}\n",
      "{'key2': 'v2', 'k1': 'odv2', 'ok1': 'v1'}\n",
      "{'key2': 'v2', 'k1': 'odv3', 'ok1': 'v1'}\n",
      "{'key2': 'v2', 'k1': 'odv4', 'ok1': 'v1'}\n"
     ]
    }
   ],
   "source": [
    "print(alDict)\n",
    "\n",
    "# let us define various aliasDict objects\n",
    "otherDict1 = qg.base.aliasDict([(\"ok1\", \"v1\"), (\"key2\", \"v2\")])\n",
    "otherDict2 = qg.base.aliasDict([(\"k1\", \"odv2\")])\n",
    "otherDict3 = qg.base.aliasDict([(\"elias\", \"odv3\")])\n",
    "otherDict4 = qg.base.aliasDict([(exampleKey, \"odv4\")])\n",
    "\n",
    "# we can merge any of these objects to our previous alDict object\n",
    "# new key-value pair will be added if the original dictionary doesn't contain this pair\n",
    "# otherwise, the value of the key will be updated if this key is present.\n",
    "alDict.update(otherDict1)\n",
    "print(alDict)\n",
    "\n",
    "# update() method works if name, alias, or any aliasClass is equal to a key in the dictionary\n",
    "alDict.update(otherDict2)\n",
    "print(alDict)\n",
    "\n",
    "alDict.update(otherDict3)\n",
    "print(alDict)\n",
    "\n",
    "alDict.update(otherDict4)\n",
    "print(alDict)\n"
   ]
  },
  {
   "cell_type": "code",
   "execution_count": 12,
   "metadata": {},
   "outputs": [
    {
     "name": "stdout",
     "output_type": "stream",
     "text": [
      "v2\n",
      "odv4\n",
      "odv4\n",
      "odv4\n",
      "None\n",
      "{'key2': 'v2', 'k1': 'odv4', 'ok1': 'v1', 'someKey': None}\n",
      "7\n",
      "{'key2': 'v2', 'k1': 'odv4', 'ok1': 'v1', 'someKey': None, 'newKey': 7}\n"
     ]
    }
   ],
   "source": [
    "# aliasDict class has a setdefault method similar to that of regular dictionary's method\n",
    "print(alDict.setdefault(\"key2\"))\n",
    "\n",
    "# if the key is an aliasClass object, its name, alias and object itself can be passed\n",
    "print(alDict.setdefault(key1))\n",
    "print(alDict.setdefault(\"k1\"))\n",
    "print(alDict.setdefault(\"elias\"))\n",
    "\n",
    "# it returns None if the key is not present in the aliasDict\n",
    "print(alDict.setdefault(\"someKey\"))\n",
    "# and this key is added with None value to the aliasDict\n",
    "print(alDict)\n",
    "\n",
    "# however, if the value is passed in addition to a key, which is not \n",
    "# present in the aliasDict, this value is returned. This key-value pair becomes part of aliasDict\n",
    "print(alDict.setdefault(\"newKey\", 7))\n",
    "print(alDict)\n",
    "\n",
    "\n"
   ]
  },
  {
   "cell_type": "code",
   "execution_count": 13,
   "metadata": {},
   "outputs": [
    {
     "name": "stdout",
     "output_type": "stream",
     "text": [
      "7\n",
      "{'key2': 'v2', 'k1': 'odv4', 'ok1': 'v1', 'someKey': None}\n",
      "None\n",
      "{'key2': 'v2', 'k1': 'odv4', 'ok1': 'v1'}\n",
      "odv4\n",
      "{'key2': 'v2', 'ok1': 'v1'}\n",
      "{'key2': 'v2', 'ok1': 'v1', 'k1': 'v1'}\n",
      "v1\n",
      "{'key2': 'v2', 'ok1': 'v1'}\n",
      "v1\n",
      "{'key2': 'v2', 'ok1': 'v1'}\n"
     ]
    }
   ],
   "source": [
    "# pop() method can be applied as well\n",
    "print(alDict.pop(\"newKey\"))\n",
    "print(alDict)\n",
    "print(alDict.pop(\"someKey\"))\n",
    "print(alDict)\n",
    "\n",
    "\n",
    "# it can be used for keys which are aliasClass objects\n",
    "print(alDict.pop(key1))\n",
    "print(alDict)\n",
    "\n",
    "# let's add this key back again to show more examples\n",
    "alDict[key1] = \"v1\"\n",
    "print(alDict)\n",
    "\n",
    "# object's name can be passed \n",
    "print(alDict.pop(\"k1\"))\n",
    "print(alDict)\n",
    "\n",
    "# add this key back to show one more example\n",
    "alDict[key1] = \"v1\"\n",
    "\n",
    "# and any alias too\n",
    "print(alDict.pop(\"elias\"))\n",
    "print(alDict)"
   ]
  },
  {
   "cell_type": "code",
   "execution_count": 14,
   "metadata": {},
   "outputs": [
    {
     "name": "stdout",
     "output_type": "stream",
     "text": [
      "{'key2': 'v2', 'ok1': 'v1'}\n"
     ]
    }
   ],
   "source": [
    "# copy() method is applicable as well\n",
    "aldCopy = alDict.copy()\n",
    "print(aldCopy)"
   ]
  }
 ],
 "metadata": {
  "interpreter": {
   "hash": "c57e21b4107dd72b33e419236c82672a7bcaad2e1fd657ab9655483a5a5e9f3c"
  },
  "kernelspec": {
   "display_name": "Python 3.8.3 64-bit ('base': conda)",
   "language": "python",
   "name": "python3"
  },
  "language_info": {
   "codemirror_mode": {
    "name": "ipython",
    "version": 3
   },
   "file_extension": ".py",
   "mimetype": "text/x-python",
   "name": "python",
   "nbconvert_exporter": "python",
   "pygments_lexer": "ipython3",
   "version": "3.8.3"
  },
  "orig_nbformat": 4
 },
 "nbformat": 4,
 "nbformat_minor": 2
}
