{
 "cells": [
  {
   "cell_type": "code",
   "execution_count": 1,
   "metadata": {},
   "outputs": [],
   "source": [
    "import quanguru as qg"
   ]
  },
  {
   "cell_type": "markdown",
   "metadata": {},
   "source": [
    "# `aliasClass`\n",
    "\n",
    "`aliasClass` is introduced for the naming functionality, that is every `qObject` has a unique default name, and users can assign any number of aliases to any `qObject`, but the aliases also need to be unique.\n",
    "\n",
    "Uniqueness of the default names and the user defined aliases are ensured by the `named` class (first class in the `qObject` inheritance tree), which has `aliasClass` as its `name` attribute.\n",
    "\n",
    "The name attribute of the `named` class, which is an `aliasClass` instance, is also used internally as dictionary keys, e.g. in `subSys` dictionary (to be precise `subSys` is an extended dictionary class called `aliasDict` to work with `aliasClass`).\n",
    "\n",
    "`aliasClass` itself is simply a container of the name and aliases.\n",
    "\n"
   ]
  },
  {
   "cell_type": "code",
   "execution_count": 2,
   "metadata": {},
   "outputs": [
    {
     "name": "stdout",
     "output_type": "stream",
     "text": [
      "ac1 ['string', 2, None]\n",
      "some name [1, '2']\n"
     ]
    }
   ],
   "source": [
    "# set a name and a list of aliases at instantiation. aliases can be anything, e.g. even another instance of aliasClass\n",
    "ac1 = qg.base.aliasClass(name=\"ac1\", alias=[\"string\", 2, qg.base.aliasClass()])\n",
    "\n",
    "print(ac1.name, ac1.alias)\n",
    "\n",
    "# name and alias can also be set after the instantiation through the corresponding properties\n",
    "ac2 = qg.base.aliasClass()\n",
    "ac2.name = \"some name\"\n",
    "ac2.alias = [1, \"2\"]\n",
    "\n",
    "print(ac2.name, ac2.alias)"
   ]
  },
  {
   "cell_type": "code",
   "execution_count": 3,
   "metadata": {},
   "outputs": [
    {
     "name": "stdout",
     "output_type": "stream",
     "text": [
      "name should be an instance of <class 'str'>, <class 'NoneType'>, but <class 'int'> is given\n",
      "0th argument should be an instance of <class 'str'>, <class 'NoneType'>, but <class 'int'> is given\n"
     ]
    }
   ],
   "source": [
    "# names have to be string. name setter raises a TypeError for any other type\n",
    "try:\n",
    "    ac3 = qg.base.aliasClass(name=1)\n",
    "except TypeError as te:\n",
    "    print(te)\n",
    "\n",
    "try:\n",
    "    ac4 = qg.base.aliasClass()\n",
    "    ac4.name = 2\n",
    "except TypeError as te:\n",
    "    print(te)"
   ]
  },
  {
   "cell_type": "code",
   "execution_count": 4,
   "metadata": {},
   "outputs": [
    {
     "name": "stdout",
     "output_type": "stream",
     "text": [
      "changed name\n"
     ]
    },
    {
     "name": "stderr",
     "output_type": "stream",
     "text": [
      "/Volumes/T7/Dropbox/Codes/QuanGuru/src/quanguru/classes/base.py:114: UserWarning: name cannot be changed\n",
      "  warnings.warn(\"name cannot be changed\")\n"
     ]
    }
   ],
   "source": [
    "# you cannot change the name (through the setter) once its set. It will raise a warning\n",
    "ac2.name = \"some other name\"\n",
    "\n",
    "# but, if you really want to change the name, you can do it through the name mangled _aliasClass__name attribute\n",
    "ac2._aliasClass__name = \"changed name\"\n",
    "print(ac2.name)"
   ]
  },
  {
   "cell_type": "code",
   "execution_count": 5,
   "metadata": {},
   "outputs": [
    {
     "name": "stdout",
     "output_type": "stream",
     "text": [
      "[1, '2', 'new alias']\n",
      "['2', 'new alias']\n",
      "[1, 'new alias']\n",
      "[1, 'new alias', '3', 'changed']\n",
      "[1, 'new alias', '3', 'changed', 'through setter']\n",
      "['a', 'b']\n",
      "['c', 'd']\n"
     ]
    }
   ],
   "source": [
    "# since alias getter returns a list, you can call usual list method to modify the aliases\n",
    "\n",
    "# append an alias\n",
    "ac2.alias.append(\"new alias\")\n",
    "print(ac2.alias)\n",
    "\n",
    "# remove an alias\n",
    "ac2.alias.remove(1)\n",
    "print(ac2.alias)\n",
    "\n",
    "# change the alias a specific index\n",
    "ac2.alias[0] = 1\n",
    "print(ac2.alias)\n",
    "\n",
    "# but note that if you want to completely replace the list of aliases, below will not do it (alias setter ALWAYS appends)\n",
    "# this calls the alias setter, and the setter just appends the elements of given list to the new list\n",
    "ac2.alias = [\"3\" , \"changed\"]\n",
    "print(ac2.alias)\n",
    "# this means that you can also use the setter to add a single alias to existing list\n",
    "# below will not replace the list with the given string, it will append the given string into the list\n",
    "ac2.alias = \"through setter\"\n",
    "print(ac2.alias)\n",
    "\n",
    "# if you really want to completely replace the list of aliases with another\n",
    "# the first option is to clear the existing list through the getter and append the elements of the new list with the setter\n",
    "ac2.alias.clear()\n",
    "ac2.alias = [\"a\", \"b\"]\n",
    "print(ac2.alias)\n",
    "# alternatively, you can directly change the name mangled _aliasClass_alias attribute\n",
    "ac2._aliasClass__alias = [\"c\", \"d\"]\n",
    "print(ac2.alias)\n"
   ]
  },
  {
   "cell_type": "code",
   "execution_count": 6,
   "metadata": {},
   "outputs": [
    {
     "name": "stdout",
     "output_type": "stream",
     "text": [
      "True [] ['different alias']\n",
      "True\n",
      "True\n",
      "True\n",
      "True\n"
     ]
    }
   ],
   "source": [
    "# two aliasClass objects are equal if they contain at least one common element\n",
    "# they are equal, if their names are the same (even if they have different aliases)\n",
    "ac5 = qg.base.aliasClass(name=\"same name\")\n",
    "ac6 = qg.base.aliasClass(name=\"same name\", alias=\"different alias\")\n",
    "print(ac5 == ac6, ac5.alias, ac6.alias)\n",
    "print(ac5 is not ac6)\n",
    "\n",
    "# they are equal, if they contain at least one common alias\n",
    "ac7 = qg.base.aliasClass(name=\"dif name 1\", alias=[\"dif alias 1\", \"same alias\"])\n",
    "ac8 = qg.base.aliasClass(name=\"dif name 2\", alias=[\"same alias\", \"dif alias 2\"])\n",
    "print(ac7 == ac8)\n",
    "\n",
    "# they are equal, if the name of one is contained in the alias list of the other\n",
    "ac9 = qg.base.aliasClass(name=\"name and alias\", alias=[\"a\", \"b\"])\n",
    "ac10 = qg.base.aliasClass(name=\"diff name 3\", alias=[\"name and alias\"])\n",
    "print(ac9 == ac10)\n",
    "print(ac9 != \"diff name 3\")"
   ]
  },
  {
   "cell_type": "code",
   "execution_count": 7,
   "metadata": {},
   "outputs": [
    {
     "name": "stdout",
     "output_type": "stream",
     "text": [
      "True\n",
      "True\n",
      "True\n"
     ]
    }
   ],
   "source": [
    "# hash value of an aliasClass is equal to the hash of its name\n",
    "print(hash(qg.base.aliasClass(name=\"this string\", alias=[\"e\", \"f\"])) == hash(\"this string\"))\n",
    "\n",
    "# so its __repr__ return repr(self.name)\n",
    "print(qg.base.aliasClass(name=\"repr of name\", alias=\"repr of alias\").__repr__() == repr(\"repr of name\"))\n",
    "print(qg.base.aliasClass(name=\"repr of name\", alias=\"repr of alias\").__repr__() != repr(\"repr of alias\"))"
   ]
  },
  {
   "cell_type": "code",
   "execution_count": 8,
   "metadata": {},
   "outputs": [
    {
     "name": "stdout",
     "output_type": "stream",
     "text": [
      "str of name\n"
     ]
    }
   ],
   "source": [
    "# also the string representation of an aliasClass is its name\n",
    "print(qg.base.aliasClass(name=\"str of name\", alias=\"str of alias\"))"
   ]
  },
  {
   "cell_type": "code",
   "execution_count": null,
   "metadata": {},
   "outputs": [],
   "source": []
  }
 ],
 "metadata": {
  "interpreter": {
   "hash": "84140f987c0b0e0a7cc73ab2dfca74e3b05f3f4edb0e1638e7975794196701df"
  },
  "kernelspec": {
   "display_name": "Python 3.10.1 64-bit ('QuanGuruDev': venv)",
   "language": "python",
   "name": "python3"
  },
  "language_info": {
   "codemirror_mode": {
    "name": "ipython",
    "version": 3
   },
   "file_extension": ".py",
   "mimetype": "text/x-python",
   "name": "python",
   "nbconvert_exporter": "python",
   "pygments_lexer": "ipython3",
   "version": "3.10.1"
  },
  "orig_nbformat": 4
 },
 "nbformat": 4,
 "nbformat_minor": 2
}
