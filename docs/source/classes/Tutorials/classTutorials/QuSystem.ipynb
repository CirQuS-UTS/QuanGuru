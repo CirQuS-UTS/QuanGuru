{
 "cells": [
  {
   "cell_type": "code",
   "execution_count": 1,
   "metadata": {},
   "outputs": [],
   "source": [
    "import quanguru.classes.QSystem as QSys"
   ]
  },
  {
   "cell_type": "code",
   "execution_count": 2,
   "metadata": {},
   "outputs": [
    {
     "data": {
      "text/plain": [
       "(3, 1, 1, 2)"
      ]
     },
     "execution_count": 2,
     "metadata": {},
     "output_type": "execute_result"
    }
   ],
   "source": [
    "qsystem1 = QSys.QuSystem()\n",
    "qsystem2 = QSys.QuSystem()\n",
    "\n",
    "asystem1 = QSys.QuSystem(dimension=2)\n",
    "asystem2 = QSys.QuSystem(dimension = 3)\n",
    "asystem3 = QSys.QuSystem(dimension = 4)\n",
    "asystem4 = QSys.QuSystem(dimension = 5)\n",
    "\n",
    "qsystem1.addSubSys(asystem1)\n",
    "qsystem1.addSubSys(asystem2)\n",
    "\n",
    "qsystem2.addSubSys(asystem3)\n",
    "qsystem2.addSubSys(asystem4)\n",
    "\n",
    "asystem1._dimsAfter, asystem1._dimsBefore, asystem2._dimsAfter, asystem2._dimsBefore"
   ]
  },
  {
   "cell_type": "code",
   "execution_count": 3,
   "metadata": {},
   "outputs": [
    {
     "name": "stdout",
     "output_type": "stream",
     "text": [
      "2 6 3 1\n",
      "3 6 1 2\n",
      "4 20 5 1\n",
      "5 20 1 4\n"
     ]
    }
   ],
   "source": [
    "for qsys in [asystem1, asystem2, asystem3, asystem4]:\n",
    "    print(qsys.dimension, qsys._totalDim, qsys._dimsAfter, qsys._dimsBefore)"
   ]
  },
  {
   "cell_type": "code",
   "execution_count": 4,
   "metadata": {},
   "outputs": [],
   "source": [
    "qsystem3 = QSys.QuSystem(subSys=[qsystem1, qsystem2])"
   ]
  },
  {
   "cell_type": "code",
   "execution_count": 5,
   "metadata": {},
   "outputs": [
    {
     "name": "stdout",
     "output_type": "stream",
     "text": [
      "2 120 60 1\n",
      "3 120 20 2\n",
      "4 120 5 6\n",
      "5 120 1 24\n"
     ]
    }
   ],
   "source": [
    "for qsys in [asystem1, asystem2, asystem3, asystem4]:\n",
    "    print(qsys.dimension, qsys._totalDim, qsys._dimsAfter, qsys._dimsBefore)"
   ]
  },
  {
   "cell_type": "code",
   "execution_count": null,
   "metadata": {},
   "outputs": [],
   "source": [
    "qsystem1.ind, qsystem2.ind, asystem1.ind, asystem2.ind, asystem3.ind, asystem4.ind"
   ]
  },
  {
   "cell_type": "code",
   "execution_count": 6,
   "metadata": {},
   "outputs": [],
   "source": [
    "asystem2.dimension = 2"
   ]
  },
  {
   "cell_type": "code",
   "execution_count": 7,
   "metadata": {},
   "outputs": [
    {
     "name": "stdout",
     "output_type": "stream",
     "text": [
      "2 80 40 1\n",
      "2 80 20 2\n",
      "4 80 5 4\n",
      "5 80 1 16\n"
     ]
    }
   ],
   "source": [
    "for qsys in [asystem1, asystem2, asystem3, asystem4]:\n",
    "    print(qsys.dimension, qsys._totalDim, qsys._dimsAfter, qsys._dimsBefore)"
   ]
  },
  {
   "cell_type": "code",
   "execution_count": null,
   "metadata": {},
   "outputs": [],
   "source": []
  },
  {
   "cell_type": "code",
   "execution_count": null,
   "metadata": {},
   "outputs": [],
   "source": []
  },
  {
   "cell_type": "code",
   "execution_count": null,
   "metadata": {},
   "outputs": [],
   "source": []
  },
  {
   "cell_type": "code",
   "execution_count": null,
   "metadata": {},
   "outputs": [],
   "source": [
    "asystem2.dimension = 5"
   ]
  },
  {
   "cell_type": "code",
   "execution_count": null,
   "metadata": {},
   "outputs": [],
   "source": [
    "qsystem.dimension"
   ]
  },
  {
   "cell_type": "code",
   "execution_count": null,
   "metadata": {},
   "outputs": [],
   "source": [
    "asystem1._dimsAfter, asystem1._dimsBefore, asystem2._dimsAfter, asystem2._dimsBefore"
   ]
  },
  {
   "cell_type": "code",
   "execution_count": null,
   "metadata": {},
   "outputs": [],
   "source": []
  },
  {
   "cell_type": "code",
   "execution_count": null,
   "metadata": {},
   "outputs": [],
   "source": [
    "qsystem.subSys"
   ]
  },
  {
   "cell_type": "code",
   "execution_count": null,
   "metadata": {},
   "outputs": [],
   "source": [
    "asystem1 = QSys.QuSystem(dimension=3)"
   ]
  },
  {
   "cell_type": "code",
   "execution_count": null,
   "metadata": {},
   "outputs": [],
   "source": [
    "asystem1.dimension"
   ]
  },
  {
   "cell_type": "code",
   "execution_count": null,
   "metadata": {},
   "outputs": [],
   "source": [
    "singleSys = QSys.QuSystem()\n",
    "singleSys._QuSystem__compSys = False\n",
    "\n",
    "anotherSys = QSys.QuSystem()\n",
    "\n",
    "singleSys.addSubSys(anotherSys)"
   ]
  },
  {
   "cell_type": "code",
   "execution_count": null,
   "metadata": {},
   "outputs": [],
   "source": [
    "singleSys2 = QSys.QuSystem()\n",
    "singleSys2.dimension = 2\n",
    "\n",
    "print(singleSys2._QuSystem__compSys)\n",
    "\n",
    "anotherSys = QSys.QuSystem()\n",
    "\n",
    "singleSys2.addSubSys(anotherSys)"
   ]
  },
  {
   "cell_type": "code",
   "execution_count": null,
   "metadata": {},
   "outputs": [],
   "source": [
    "singleSys.subSys"
   ]
  },
  {
   "cell_type": "code",
   "execution_count": null,
   "metadata": {},
   "outputs": [],
   "source": []
  }
 ],
 "metadata": {
  "interpreter": {
   "hash": "84140f987c0b0e0a7cc73ab2dfca74e3b05f3f4edb0e1638e7975794196701df"
  },
  "kernelspec": {
   "display_name": "Python 3.10.1 64-bit ('QuanGuruDev': venv)",
   "language": "python",
   "name": "python3"
  },
  "language_info": {
   "codemirror_mode": {
    "name": "ipython",
    "version": 3
   },
   "file_extension": ".py",
   "mimetype": "text/x-python",
   "name": "python",
   "nbconvert_exporter": "python",
   "pygments_lexer": "ipython3",
   "version": "3.10.1"
  },
  "orig_nbformat": 4
 },
 "nbformat": 4,
 "nbformat_minor": 2
}
