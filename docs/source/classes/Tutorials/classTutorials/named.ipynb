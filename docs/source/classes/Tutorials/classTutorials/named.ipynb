{
 "cells": [
  {
   "cell_type": "code",
   "execution_count": 1,
   "metadata": {},
   "outputs": [],
   "source": [
    "import quanguru as qg"
   ]
  },
  {
   "cell_type": "markdown",
   "metadata": {},
   "source": [
    "# named\n",
    "\n",
    "All the objects that are created/needed by the user have unique default names and user defined aliases, and the `named` class implement these two.\n",
    "\n",
    "There can be any number of alias to a `named` object, but the aliases still need to be unique to that object, i.e. two objects cannot have the same alias, even if they have other aliases that are different.\n",
    "\n",
    "`named` class uses its name mangled `_named__name` attribute (which is an instance of `aliasClass`) to store its name and aliases. \n",
    "Since `aliasClass` already ensures that the name cannot be changed, `named` class is simply responsible for creating a unique name for it during instantiation.\n",
    "See below examples for how these names are created.\n",
    "\n",
    "Additionally, a weak-reference to all `named` instances are stored in an attribute `_allInstacesDict` (as class attribute), which is an instance of `aliasDict`, and we use the object names as the keys.\n",
    "Object names are also used as dictionary keys in various other parts of the library. In such cases, the those dictionaries, such as `subSys`, `_paramBound`, and `allResults`, are all instances of `aliasDict`.\n",
    "This approach enables us to give either the name or any alias of an object (both are strings) as a key to the dictionary when we are retrieving it. See below examples for more."
   ]
  },
  {
   "cell_type": "code",
   "execution_count": 2,
   "metadata": {},
   "outputs": [
    {
     "name": "stdout",
     "output_type": "stream",
     "text": [
      "named1\n",
      "named1\n"
     ]
    }
   ],
   "source": [
    "# create a named and check its name\n",
    "n1 = qg.named()\n",
    "\n",
    "print(n1.name)\n",
    "\n",
    "# also note that the string representation of a named object is its name\n",
    "# so we can also directly print\n",
    "print(n1)"
   ]
  },
  {
   "cell_type": "code",
   "execution_count": 3,
   "metadata": {},
   "outputs": [
    {
     "name": "stdout",
     "output_type": "stream",
     "text": [
      "can't set attribute 'name'\n",
      "new name\n"
     ]
    }
   ],
   "source": [
    "# name property has only the getter, no setter\n",
    "# this will give an 'AttributeError' error\n",
    "try:\n",
    "    n1.name = \"new name\"\n",
    "except AttributeError as a:\n",
    "    print(a)\n",
    "\n",
    "# NEVER change the name mangled attribute directly\n",
    "# below will break many functionalities of the library\n",
    "n2 = qg.base.named()\n",
    "n2._named__name = \"new name\"\n",
    "print(n2.name)\n",
    "# because this breaks the composition inside the named\n",
    "# meaning that the _named__name attribute is no longer an aliasClass, but a simple string\n"
   ]
  },
  {
   "cell_type": "markdown",
   "metadata": {},
   "source": [
    "The names are created by using the class attribute `label` and the number of instances, which is again stored in class attributes.\n",
    "\n",
    "`label` are always the same as class name. Therefore, for the above example, `n1` is the first `named` created,and its name is\n",
    "```console\n",
    "    named.label + named._externalInstances -> \"named\" + 1\n",
    "```\n",
    "\n",
    "Here, the class attribute `_externalInstances` means that `n1` is created externally by a user.\n",
    "`QuanGuru` also creates some objects internally to provide certain functionalities as well as house-keeping.\n",
    "Therefore, we distinguish between these, and the user does not need to know how many internal objects are created. \n",
    "For internal objects, the name is calculated as\n",
    "```console\n",
    "    \"_\" + named.label + named._internalInstances\n",
    "```\n",
    "The `_` in the beginning is again to distinguish between internal and external instances, because names need to be unique for any `named` instance regardless it is internal or external.\n",
    "\n",
    "Internally created objects are also labelled with a boolean stored inside the `_internal` attribute.\n",
    "We simply set this boolean to `True` when we create an internal object."
   ]
  },
  {
   "cell_type": "code",
   "execution_count": 4,
   "metadata": {},
   "outputs": [
    {
     "name": "stdout",
     "output_type": "stream",
     "text": [
      "_named1\n"
     ]
    }
   ],
   "source": [
    "# create an internal object\n",
    "ni = qg.named(_internal=True)\n",
    "#print its name. first internal named object so -> _ + named + 1\n",
    "print(ni.name)"
   ]
  },
  {
   "cell_type": "code",
   "execution_count": 5,
   "metadata": {},
   "outputs": [
    {
     "name": "stdout",
     "output_type": "stream",
     "text": [
      "_internal should be an instance of <class 'bool'>, <class 'NoneType'>, but <class 'str'> is given\n",
      "_internal should be an instance of <class 'bool'>, <class 'NoneType'>, but <class 'int'> is given\n"
     ]
    }
   ],
   "source": [
    "# note that internal has to be a boolean type.\n",
    "try:\n",
    "    qg.base.named(_internal=\"not a bool\")\n",
    "except TypeError as te:\n",
    "    print(te)\n",
    "\n",
    "# 0 means False, but 0 is not a boolean, so it also fails, because _internal expect a boolean type\n",
    "try:\n",
    "    qg.base.named(_internal=0)\n",
    "except TypeError as te:\n",
    "    print(te)"
   ]
  },
  {
   "cell_type": "markdown",
   "metadata": {},
   "source": [
    "As mentioned above a weak-reference to every `named` instance is stored in `_allInstacesDict` with objects name as the key. This is the enabling idea behind the `getByNameOrAlias` function/ality.\n",
    "\n",
    "In order to demonstrate `getByNameOrAlias` and `_allInstacesDict`. Let's first see how we set aliases to objects."
   ]
  },
  {
   "cell_type": "code",
   "execution_count": 6,
   "metadata": {},
   "outputs": [
    {
     "name": "stdout",
     "output_type": "stream",
     "text": [
      "Given alias (single alias) already exist and is assigned to: named3 named3\n",
      "Given alias (li1) already exist and is assigned to: named4 named4\n"
     ]
    }
   ],
   "source": [
    "# we can add a single of a list of aliases during instantiation\n",
    "nAlias1 = qg.base.named(alias=\"single alias\")\n",
    "nAlias2 = qg.base.named(alias=[\"li1\", \"li2\"])\n",
    "# alias need to be unique\n",
    "try:\n",
    "    qg.base.named(alias=[\"single alias\"])\n",
    "except ValueError as te:\n",
    "    print(te, nAlias1.name)\n",
    "\n",
    "try:\n",
    "    qg.base.named(alias=\"li1\")\n",
    "except ValueError as te:\n",
    "    print(te, nAlias2.name)"
   ]
  },
  {
   "cell_type": "code",
   "execution_count": 7,
   "metadata": {},
   "outputs": [
    {
     "name": "stdout",
     "output_type": "stream",
     "text": [
      "['first alias']\n",
      "['first alias', '2', {'a': 1, 'b': 2}]\n"
     ]
    }
   ],
   "source": [
    "# or we can add alias/es after instantiation\n",
    "\n",
    "nAlias3 = qg.base.named()\n",
    "\n",
    "nAlias3.alias = \"first alias\"\n",
    "print(nAlias3.alias)\n",
    "# NOTE THAT ALIASES DOES NOT HAVE TO BE A STRING.\n",
    "# we want to provide this flexibility, but strings should be preferred unless there is a good reason\n",
    "# so let's give a dictionary as an alias\n",
    "nAlias3.alias = [\"2\", {\"a\": 1, \"b\": 2}] # also NOTE that this alias setter adds to aliases not replace\n",
    "print(nAlias3.alias)"
   ]
  },
  {
   "cell_type": "code",
   "execution_count": 8,
   "metadata": {},
   "outputs": [
    {
     "name": "stdout",
     "output_type": "stream",
     "text": [
      "['first alias', '2', {'a': 1, 'b': 2}, 'new alias']\n",
      "['first alias', {'a': 1, 'b': 2}, 'new alias']\n",
      "[1, {'a': 1, 'b': 2}, 'new alias']\n"
     ]
    }
   ],
   "source": [
    "# if want to truly replace an alias, we can call alias getter\n",
    "# which returns the alias list, and we can use usual list methods to modify the aliases\n",
    "# see also aliasClass tutorial\n",
    "\n",
    "# append an alias\n",
    "nAlias3.alias.append(\"new alias\")\n",
    "print(nAlias3.alias)\n",
    "\n",
    "# remove an alias\n",
    "nAlias3.alias.remove(\"2\")\n",
    "print(nAlias3.alias)\n",
    "\n",
    "# change the alias a specific index\n",
    "nAlias3.alias[0] = 1\n",
    "print(nAlias3.alias)"
   ]
  },
  {
   "cell_type": "markdown",
   "metadata": {},
   "source": [
    "Notice that in above examples, we used the keyword `alias` or `name` both at instantiation and/or also after it, and these are not simply object attributes but properties (as might already be clear from above).\n",
    "\n",
    "`name` property has only a getter\n",
    "\n",
    "`alias` has both getter and setter.\n",
    "\n",
    "We want them to be properties, because this enable us to implement further functionalities and side effects, which need to happen also during instantiation.\n",
    "For this purpose, we introduced and used `__setKwargs` method in every `__init__` method.  `__setKwargs`, as the name suggests, sets these keyword arguments."
   ]
  },
  {
   "cell_type": "markdown",
   "metadata": {},
   "source": [
    "So far, we created many `named` instances, so let's use `getByNameOrAlias` to obtain references to them."
   ]
  },
  {
   "cell_type": "code",
   "execution_count": 9,
   "metadata": {},
   "outputs": [
    {
     "name": "stdout",
     "output_type": "stream",
     "text": [
      "{'named1': <weakref at 0x10b0a24d0; to 'named' at 0x10b04be80>, 'named2': <weakref at 0x106c722a0; to 'named' at 0x10b0aed00>, '_named1': <weakref at 0x1098473d0; to 'named' at 0x10b0af0c0>, 'named3': <weakref at 0x10a0f2b10; to 'named' at 0x10b0b4980>, 'named4': <weakref at 0x106beb920; to 'named' at 0x10b0b4940>, 'named7': <weakref at 0x10b0a2520; to 'named' at 0x10b0b6880>}\n"
     ]
    }
   ],
   "source": [
    "# first lets print _allInstacesDict\n",
    "print(n1._allInstacesDict)"
   ]
  },
  {
   "cell_type": "code",
   "execution_count": 10,
   "metadata": {},
   "outputs": [
    {
     "name": "stdout",
     "output_type": "stream",
     "text": [
      "True\n",
      "True\n"
     ]
    }
   ],
   "source": [
    "# we have weak-references together with names of the object in _allInstacesDict\n",
    "# getByNameOrAlias uses this dictionary to return us a reference\n",
    "# and we can use getByNameOrAlias on any object because _allInstacesDict is an class attribute\n",
    "# get a reference to nAlias3 using its alias \"new alias\"\n",
    "newRef1 = n1.getByNameOrAlias(\"new alias\")\n",
    "print(newRef1 is nAlias3)\n",
    "\n",
    "# get a reference to first internal instance of named with its name _named1\n",
    "newRef2 = n1.getByNameOrAlias(\"_named1\")\n",
    "print(newRef2 is ni)\n"
   ]
  },
  {
   "cell_type": "markdown",
   "metadata": {},
   "source": [
    "In all the examples above, we already had a reference to each object, so the purpose of `getByNameOrAlias` method might not be clear.\n",
    "Firstly, it is useful when we want get a reference to an internally created object.\n",
    "More importantly, when we write `compute` or `calculate` functions (see later tutorials), if we use the existing references:\n",
    "- the simulations runs fine, if we are not doing multi-processing\n",
    "- if we are multi-processing, then we want to get a reference to pickled version of the objects. Because the sweeps (see later tutorials) might have changed the values stored in the object, and this causes undefined behaviors.\n",
    "\n",
    "Additionally, for the multi-processing support, any named instance should be pickled and loaded properly, and the below examples show that they do."
   ]
  },
  {
   "cell_type": "code",
   "execution_count": 11,
   "metadata": {},
   "outputs": [
    {
     "name": "stdout",
     "output_type": "stream",
     "text": [
      "True\n",
      "True\n"
     ]
    }
   ],
   "source": [
    "import pickle\n",
    "\n",
    "nbefore = qg.named(_internal=False, alias=[\"t\", \"z\"])\n",
    "npickled = pickle.dumps(nbefore)\n",
    "nafter = pickle.loads(npickled)\n",
    "\n",
    "print(nbefore.name == nafter.name)\n",
    "print(nbefore.alias == nafter.alias)"
   ]
  },
  {
   "cell_type": "markdown",
   "metadata": {},
   "source": [
    "Finally, if we want to empty the `_allInstacesDict` and reset all the instance counters to zero, we can simply use `resetAll` method on any `named` instance.\n",
    "This is useful, when we are working on a notebook and want to reset our objects without restarting the kernel."
   ]
  },
  {
   "cell_type": "code",
   "execution_count": 12,
   "metadata": {},
   "outputs": [
    {
     "name": "stdout",
     "output_type": "stream",
     "text": [
      "named1\n",
      "False\n"
     ]
    }
   ],
   "source": [
    "# resetAll the object\n",
    "n1._resetAll()\n",
    "\n",
    "# create a new instance an its name should be named1 now\n",
    "newN1 = qg.named()\n",
    "print(newN1.name)\n",
    "\n",
    "# note that this does not mean n1 is destroyed/garbage-collected.\n",
    "# we still have reference to it\n",
    "# it is just no-longer accessible through the methods such as getByNameOrAlias\n",
    "print(newN1 == n1)\n",
    "\n"
   ]
  }
 ],
 "metadata": {
  "interpreter": {
   "hash": "84140f987c0b0e0a7cc73ab2dfca74e3b05f3f4edb0e1638e7975794196701df"
  },
  "kernelspec": {
   "display_name": "Python 3.10.1 64-bit ('QuanGuruDev': venv)",
   "language": "python",
   "name": "python3"
  },
  "language_info": {
   "codemirror_mode": {
    "name": "ipython",
    "version": 3
   },
   "file_extension": ".py",
   "mimetype": "text/x-python",
   "name": "python",
   "nbconvert_exporter": "python",
   "pygments_lexer": "ipython3",
   "version": "3.10.1"
  },
  "orig_nbformat": 4
 },
 "nbformat": 4,
 "nbformat_minor": 2
}
